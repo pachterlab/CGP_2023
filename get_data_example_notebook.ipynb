{
  "nbformat": 4,
  "nbformat_minor": 0,
  "metadata": {
    "colab": {
      "provenance": [],
      "collapsed_sections": [
        "-jhshEcOx3Ze"
      ],
      "authorship_tag": "ABX9TyPFlQQsVVqbIj9svpMhukxj",
      "include_colab_link": true
    },
    "kernelspec": {
      "name": "python3",
      "display_name": "Python 3"
    },
    "language_info": {
      "name": "python"
    }
  },
  "cells": [
    {
      "cell_type": "markdown",
      "metadata": {
        "id": "view-in-github",
        "colab_type": "text"
      },
      "source": [
        "<a href=\"https://colab.research.google.com/github/pachterlab/CGP_2023/blob/main/get_data_example_notebook.ipynb\" target=\"_parent\"><img src=\"https://colab.research.google.com/assets/colab-badge.svg\" alt=\"Open In Colab\"/></a>"
      ]
    },
    {
      "cell_type": "markdown",
      "source": [
        "**In this notebook you will see how to go from fastq sequencing files to Unspliced and Spliced count matrices**\n",
        "\n",
        "We use the loom file output to store the U and S matrices for meK-Means inference."
      ],
      "metadata": {
        "id": "txlOjYhZxoty"
      }
    },
    {
      "cell_type": "markdown",
      "source": [
        "## **Install Packages**"
      ],
      "metadata": {
        "id": "-jhshEcOx3Ze"
      }
    },
    {
      "cell_type": "code",
      "source": [
        "!pip3 install loompy --quiet"
      ],
      "metadata": {
        "colab": {
          "base_uri": "https://localhost:8080/"
        },
        "id": "cwHLCYylyn1U",
        "outputId": "9a1b8f37-0456-4051-c2b0-1e2a0e5a9ac4"
      },
      "execution_count": null,
      "outputs": [
        {
          "output_type": "stream",
          "name": "stdout",
          "text": [
            "\u001b[2K     \u001b[90m━━━━━━━━━━━━━━━━━━━━━━━━━━━━━━━━━━━━━━━━\u001b[0m \u001b[32m4.8/4.8 MB\u001b[0m \u001b[31m8.7 MB/s\u001b[0m eta \u001b[36m0:00:00\u001b[0m\n",
            "\u001b[?25h  Preparing metadata (setup.py) ... \u001b[?25l\u001b[?25hdone\n",
            "  Building wheel for loompy (setup.py) ... \u001b[?25l\u001b[?25hdone\n"
          ]
        }
      ]
    },
    {
      "cell_type": "code",
      "source": [
        "!pip install kb-python --quiet"
      ],
      "metadata": {
        "colab": {
          "base_uri": "https://localhost:8080/"
        },
        "id": "95UBhb-x0wmX",
        "outputId": "8c8ec7e9-01c2-4dbb-e1fd-ad973f3992f2"
      },
      "execution_count": null,
      "outputs": [
        {
          "output_type": "stream",
          "name": "stdout",
          "text": [
            "\u001b[2K     \u001b[90m━━━━━━━━━━━━━━━━━━━━━━━━━━━━━━━━━━━━━━━━\u001b[0m \u001b[32m13.1/13.1 MB\u001b[0m \u001b[31m25.8 MB/s\u001b[0m eta \u001b[36m0:00:00\u001b[0m\n",
            "\u001b[2K     \u001b[90m━━━━━━━━━━━━━━━━━━━━━━━━━━━━━━━━━━━━━━━━\u001b[0m \u001b[32m122.1/122.1 kB\u001b[0m \u001b[31m5.7 MB/s\u001b[0m eta \u001b[36m0:00:00\u001b[0m\n",
            "\u001b[2K     \u001b[90m━━━━━━━━━━━━━━━━━━━━━━━━━━━━━━━━━━━━━━━━\u001b[0m \u001b[32m45.2/45.2 MB\u001b[0m \u001b[31m9.0 MB/s\u001b[0m eta \u001b[36m0:00:00\u001b[0m\n",
            "\u001b[2K     \u001b[90m━━━━━━━━━━━━━━━━━━━━━━━━━━━━━━━━━━━━━━━━\u001b[0m \u001b[32m2.1/2.1 MB\u001b[0m \u001b[31m14.5 MB/s\u001b[0m eta \u001b[36m0:00:00\u001b[0m\n",
            "\u001b[2K     \u001b[90m━━━━━━━━━━━━━━━━━━━━━━━━━━━━━━━━━━━━━━━━\u001b[0m \u001b[32m21.9/21.9 MB\u001b[0m \u001b[31m16.0 MB/s\u001b[0m eta \u001b[36m0:00:00\u001b[0m\n",
            "\u001b[2K     \u001b[90m━━━━━━━━━━━━━━━━━━━━━━━━━━━━━━━━━━━━━━━━\u001b[0m \u001b[32m55.8/55.8 kB\u001b[0m \u001b[31m2.2 MB/s\u001b[0m eta \u001b[36m0:00:00\u001b[0m\n",
            "\u001b[?25h  Preparing metadata (setup.py) ... \u001b[?25l\u001b[?25hdone\n",
            "\u001b[2K     \u001b[90m━━━━━━━━━━━━━━━━━━━━━━━━━━━━━━━━━━━━━━━━\u001b[0m \u001b[32m90.9/90.9 kB\u001b[0m \u001b[31m5.4 MB/s\u001b[0m eta \u001b[36m0:00:00\u001b[0m\n",
            "\u001b[?25h  Preparing metadata (setup.py) ... \u001b[?25l\u001b[?25hdone\n",
            "\u001b[2K     \u001b[90m━━━━━━━━━━━━━━━━━━━━━━━━━━━━━━━━━━━━━━━━\u001b[0m \u001b[32m79.8/79.8 kB\u001b[0m \u001b[31m5.4 MB/s\u001b[0m eta \u001b[36m0:00:00\u001b[0m\n",
            "\u001b[?25h  Building wheel for umap-learn (setup.py) ... \u001b[?25l\u001b[?25hdone\n",
            "  Building wheel for session-info (setup.py) ... \u001b[?25l\u001b[?25hdone\n"
          ]
        }
      ]
    },
    {
      "cell_type": "code",
      "execution_count": null,
      "metadata": {
        "colab": {
          "base_uri": "https://localhost:8080/"
        },
        "id": "mV-VU3ioxUNB",
        "outputId": "c9a65e74-1c18-413f-dbcf-2d9206c577dc"
      },
      "outputs": [
        {
          "output_type": "stream",
          "name": "stderr",
          "text": [
            "/usr/local/lib/python3.10/dist-packages/loompy/bus_file.py:68: NumbaDeprecationWarning: The 'nopython' keyword argument was not supplied to the 'numba.jit' decorator. The implicit default value for this argument is currently False, but it will be changed to True in Numba 0.59.0. See https://numba.readthedocs.io/en/stable/reference/deprecation.html#deprecation-of-object-mode-fall-back-behaviour-when-using-jit for details.\n",
            "  def twobit_to_dna(twobit: int, size: int) -> str:\n",
            "/usr/local/lib/python3.10/dist-packages/loompy/bus_file.py:85: NumbaDeprecationWarning: The 'nopython' keyword argument was not supplied to the 'numba.jit' decorator. The implicit default value for this argument is currently False, but it will be changed to True in Numba 0.59.0. See https://numba.readthedocs.io/en/stable/reference/deprecation.html#deprecation-of-object-mode-fall-back-behaviour-when-using-jit for details.\n",
            "  def dna_to_twobit(dna: str) -> int:\n",
            "/usr/local/lib/python3.10/dist-packages/loompy/bus_file.py:102: NumbaDeprecationWarning: The 'nopython' keyword argument was not supplied to the 'numba.jit' decorator. The implicit default value for this argument is currently False, but it will be changed to True in Numba 0.59.0. See https://numba.readthedocs.io/en/stable/reference/deprecation.html#deprecation-of-object-mode-fall-back-behaviour-when-using-jit for details.\n",
            "  def twobit_1hamming(twobit: int, size: int) -> List[int]:\n"
          ]
        }
      ],
      "source": [
        "import loompy as lp\n",
        "\n",
        "import numpy as np\n",
        "import pandas as pd\n",
        "import matplotlib.pyplot as plt"
      ]
    },
    {
      "cell_type": "code",
      "source": [
        "!wget --output-document sratoolkit.tar.gz https://ftp-trace.ncbi.nlm.nih.gov/sra/sdk/current/sratoolkit.current-ubuntu64.tar.gz"
      ],
      "metadata": {
        "colab": {
          "base_uri": "https://localhost:8080/"
        },
        "id": "brx4yhJbykUB",
        "outputId": "0999dcbf-cda2-4471-837a-e6903ca17b7a"
      },
      "execution_count": null,
      "outputs": [
        {
          "output_type": "stream",
          "name": "stdout",
          "text": [
            "--2024-03-28 20:05:13--  https://ftp-trace.ncbi.nlm.nih.gov/sra/sdk/current/sratoolkit.current-ubuntu64.tar.gz\n",
            "Resolving ftp-trace.ncbi.nlm.nih.gov (ftp-trace.ncbi.nlm.nih.gov)... 130.14.250.13, 130.14.250.7, 2607:f220:41e:250::12, ...\n",
            "Connecting to ftp-trace.ncbi.nlm.nih.gov (ftp-trace.ncbi.nlm.nih.gov)|130.14.250.13|:443... connected.\n",
            "HTTP request sent, awaiting response... 200 OK\n",
            "Length: 93495998 (89M) [application/x-gzip]\n",
            "Saving to: ‘sratoolkit.tar.gz’\n",
            "\n",
            "sratoolkit.tar.gz   100%[===================>]  89.16M   151MB/s    in 0.6s    \n",
            "\n",
            "2024-03-28 20:05:14 (151 MB/s) - ‘sratoolkit.tar.gz’ saved [93495998/93495998]\n",
            "\n"
          ]
        }
      ]
    },
    {
      "cell_type": "code",
      "source": [
        "!tar -vxzf sratoolkit.tar.gz"
      ],
      "metadata": {
        "colab": {
          "base_uri": "https://localhost:8080/"
        },
        "id": "ke-NDg910Hnq",
        "outputId": "24cdfacd-7606-49ec-bc6f-86ab43112d25"
      },
      "execution_count": null,
      "outputs": [
        {
          "output_type": "stream",
          "name": "stdout",
          "text": [
            "sratoolkit.3.1.0-ubuntu64/\n",
            "sratoolkit.3.1.0-ubuntu64/README.md\n",
            "sratoolkit.3.1.0-ubuntu64/README-vdb-config\n",
            "sratoolkit.3.1.0-ubuntu64/schema/\n",
            "sratoolkit.3.1.0-ubuntu64/schema/vdb/\n",
            "sratoolkit.3.1.0-ubuntu64/schema/vdb/vdb.vschema\n",
            "sratoolkit.3.1.0-ubuntu64/schema/vdb/built-in.vschema\n",
            "sratoolkit.3.1.0-ubuntu64/schema/insdc/\n",
            "sratoolkit.3.1.0-ubuntu64/schema/insdc/insdc.vschema\n",
            "sratoolkit.3.1.0-ubuntu64/schema/insdc/sra.vschema\n",
            "sratoolkit.3.1.0-ubuntu64/schema/insdc/seq.vschema\n",
            "sratoolkit.3.1.0-ubuntu64/schema/sra/\n",
            "sratoolkit.3.1.0-ubuntu64/schema/sra/abi.vschema\n",
            "sratoolkit.3.1.0-ubuntu64/schema/sra/pevents.vschema\n",
            "sratoolkit.3.1.0-ubuntu64/schema/sra/generic-fastq.vschema\n",
            "sratoolkit.3.1.0-ubuntu64/schema/sra/454.vschema\n",
            "sratoolkit.3.1.0-ubuntu64/schema/sra/pacbio.vschema\n",
            "sratoolkit.3.1.0-ubuntu64/schema/sra/illumina.vschema\n",
            "sratoolkit.3.1.0-ubuntu64/schema/sra/helicos.vschema\n",
            "sratoolkit.3.1.0-ubuntu64/schema/sra/nanopore.vschema\n",
            "sratoolkit.3.1.0-ubuntu64/schema/sra/ion-torrent.vschema\n",
            "sratoolkit.3.1.0-ubuntu64/schema/ncbi/\n",
            "sratoolkit.3.1.0-ubuntu64/schema/ncbi/clip.vschema\n",
            "sratoolkit.3.1.0-ubuntu64/schema/ncbi/seq-graph.vschema\n",
            "sratoolkit.3.1.0-ubuntu64/schema/ncbi/stats.vschema\n",
            "sratoolkit.3.1.0-ubuntu64/schema/ncbi/ncbi.vschema\n",
            "sratoolkit.3.1.0-ubuntu64/schema/ncbi/wgs-contig.vschema\n",
            "sratoolkit.3.1.0-ubuntu64/schema/ncbi/sra.vschema\n",
            "sratoolkit.3.1.0-ubuntu64/schema/ncbi/spotname.vschema\n",
            "sratoolkit.3.1.0-ubuntu64/schema/ncbi/pnbrdb.vschema\n",
            "sratoolkit.3.1.0-ubuntu64/schema/ncbi/varloc.vschema\n",
            "sratoolkit.3.1.0-ubuntu64/schema/ncbi/seq.vschema\n",
            "sratoolkit.3.1.0-ubuntu64/schema/ncbi/trace.vschema\n",
            "sratoolkit.3.1.0-ubuntu64/schema/align/\n",
            "sratoolkit.3.1.0-ubuntu64/schema/align/refseq.vschema\n",
            "sratoolkit.3.1.0-ubuntu64/schema/align/pileup-stats.vschema\n",
            "sratoolkit.3.1.0-ubuntu64/schema/align/mate-cache.vschema\n",
            "sratoolkit.3.1.0-ubuntu64/schema/align/seq.vschema\n",
            "sratoolkit.3.1.0-ubuntu64/schema/align/align.vschema\n",
            "sratoolkit.3.1.0-ubuntu64/schema/align/qstat.vschema\n",
            "sratoolkit.3.1.0-ubuntu64/schema/csra2/\n",
            "sratoolkit.3.1.0-ubuntu64/schema/csra2/stats.vschema\n",
            "sratoolkit.3.1.0-ubuntu64/schema/csra2/reference.vschema\n",
            "sratoolkit.3.1.0-ubuntu64/schema/csra2/read.vschema\n",
            "sratoolkit.3.1.0-ubuntu64/schema/csra2/csra2.vschema\n",
            "sratoolkit.3.1.0-ubuntu64/bin/\n",
            "sratoolkit.3.1.0-ubuntu64/bin/fastq-dump-orig.3.1.0\n",
            "sratoolkit.3.1.0-ubuntu64/bin/bam-load.3\n",
            "sratoolkit.3.1.0-ubuntu64/bin/sra-search\n",
            "sratoolkit.3.1.0-ubuntu64/bin/cache-mgr.3.1.0\n",
            "sratoolkit.3.1.0-ubuntu64/bin/sff-load.3.1.0\n",
            "sratoolkit.3.1.0-ubuntu64/bin/prefetch.3\n",
            "sratoolkit.3.1.0-ubuntu64/bin/sam-dump.3\n",
            "sratoolkit.3.1.0-ubuntu64/bin/sff-dump.3\n",
            "sratoolkit.3.1.0-ubuntu64/bin/sff-dump\n",
            "sratoolkit.3.1.0-ubuntu64/bin/fastq-dump\n",
            "sratoolkit.3.1.0-ubuntu64/bin/fastq-load.3\n",
            "sratoolkit.3.1.0-ubuntu64/bin/sra-sort.3\n",
            "sratoolkit.3.1.0-ubuntu64/bin/sra-stat.3.1.0\n",
            "sratoolkit.3.1.0-ubuntu64/bin/sratools\n",
            "sratoolkit.3.1.0-ubuntu64/bin/cache-mgr.3\n",
            "sratoolkit.3.1.0-ubuntu64/bin/cache-mgr\n",
            "sratoolkit.3.1.0-ubuntu64/bin/srapath\n",
            "sratoolkit.3.1.0-ubuntu64/bin/srf-load.3.1.0\n",
            "sratoolkit.3.1.0-ubuntu64/bin/kar.3\n",
            "sratoolkit.3.1.0-ubuntu64/bin/fasterq-dump-orig.3.1.0\n",
            "sratoolkit.3.1.0-ubuntu64/bin/srf-load.3\n",
            "sratoolkit.3.1.0-ubuntu64/bin/illumina-dump\n",
            "sratoolkit.3.1.0-ubuntu64/bin/srapath.3\n",
            "sratoolkit.3.1.0-ubuntu64/bin/sam-dump\n",
            "sratoolkit.3.1.0-ubuntu64/bin/vdb-encrypt\n",
            "sratoolkit.3.1.0-ubuntu64/bin/rcexplain.3.1.0\n",
            "sratoolkit.3.1.0-ubuntu64/bin/rcexplain\n",
            "sratoolkit.3.1.0-ubuntu64/bin/sra-pileup-orig.3.1.0\n",
            "sratoolkit.3.1.0-ubuntu64/bin/vdb-decrypt\n",
            "sratoolkit.3.1.0-ubuntu64/bin/sra-sort-cg.3.1.0\n",
            "sratoolkit.3.1.0-ubuntu64/bin/vdb-lock.3\n",
            "sratoolkit.3.1.0-ubuntu64/bin/vdb-lock\n",
            "sratoolkit.3.1.0-ubuntu64/bin/vdb-lock.3.1.0\n",
            "sratoolkit.3.1.0-ubuntu64/bin/prefetch.3.1.0\n",
            "sratoolkit.3.1.0-ubuntu64/bin/ncbi/\n",
            "sratoolkit.3.1.0-ubuntu64/bin/ncbi/default.kfg\n",
            "sratoolkit.3.1.0-ubuntu64/bin/ncbi/certs.kfg\n",
            "sratoolkit.3.1.0-ubuntu64/bin/ncbi/vdb-copy.kfg\n",
            "sratoolkit.3.1.0-ubuntu64/bin/vdb-validate\n",
            "sratoolkit.3.1.0-ubuntu64/bin/illumina-load.3.1.0\n",
            "sratoolkit.3.1.0-ubuntu64/bin/rcexplain.3\n",
            "sratoolkit.3.1.0-ubuntu64/bin/vdb-copy.3\n",
            "sratoolkit.3.1.0-ubuntu64/bin/vdb-config\n",
            "sratoolkit.3.1.0-ubuntu64/bin/fastq-load\n",
            "sratoolkit.3.1.0-ubuntu64/bin/sff-load.3\n",
            "sratoolkit.3.1.0-ubuntu64/bin/illumina-load.3\n",
            "sratoolkit.3.1.0-ubuntu64/bin/pacbio-load.3.1.0\n",
            "sratoolkit.3.1.0-ubuntu64/bin/vdb-dump.3\n",
            "sratoolkit.3.1.0-ubuntu64/bin/test-sra.3\n",
            "sratoolkit.3.1.0-ubuntu64/bin/helicos-load\n",
            "sratoolkit.3.1.0-ubuntu64/bin/pacbio-load\n",
            "sratoolkit.3.1.0-ubuntu64/bin/helicos-load.3\n",
            "sratoolkit.3.1.0-ubuntu64/bin/abi-dump\n",
            "sratoolkit.3.1.0-ubuntu64/bin/test-sra\n",
            "sratoolkit.3.1.0-ubuntu64/bin/vdb-unlock.3.1.0\n",
            "sratoolkit.3.1.0-ubuntu64/bin/vdb-encrypt.3.1.0\n",
            "sratoolkit.3.1.0-ubuntu64/bin/sra-pileup.3.1.0\n",
            "sratoolkit.3.1.0-ubuntu64/bin/vdb-dump.3.1.0\n",
            "sratoolkit.3.1.0-ubuntu64/bin/vdb-decrypt.3.1.0\n",
            "sratoolkit.3.1.0-ubuntu64/bin/dump-ref-fasta.3.1.0\n",
            "sratoolkit.3.1.0-ubuntu64/bin/vdb-validate.3\n",
            "sratoolkit.3.1.0-ubuntu64/bin/latf-load.3.1.0\n",
            "sratoolkit.3.1.0-ubuntu64/bin/illumina-dump.3\n",
            "sratoolkit.3.1.0-ubuntu64/bin/sam-dump.3.1.0\n",
            "sratoolkit.3.1.0-ubuntu64/bin/bam-load\n",
            "sratoolkit.3.1.0-ubuntu64/bin/sratools.3\n",
            "sratoolkit.3.1.0-ubuntu64/bin/vdb-copy.3.1.0\n",
            "sratoolkit.3.1.0-ubuntu64/bin/sratools.3.1.0\n",
            "sratoolkit.3.1.0-ubuntu64/bin/kdbmeta.3\n",
            "sratoolkit.3.1.0-ubuntu64/bin/fastq-dump.3.1.0\n",
            "sratoolkit.3.1.0-ubuntu64/bin/sra-sort-cg\n",
            "sratoolkit.3.1.0-ubuntu64/bin/fasterq-dump.3\n",
            "sratoolkit.3.1.0-ubuntu64/bin/bam-load.3.1.0\n",
            "sratoolkit.3.1.0-ubuntu64/bin/prefetch-orig.3.1.0\n",
            "sratoolkit.3.1.0-ubuntu64/bin/latf-load\n",
            "sratoolkit.3.1.0-ubuntu64/bin/vdb-config.3.1.0\n",
            "sratoolkit.3.1.0-ubuntu64/bin/abi-dump.3.1.0\n",
            "sratoolkit.3.1.0-ubuntu64/bin/abi-load.3\n",
            "sratoolkit.3.1.0-ubuntu64/bin/cg-load.3.1.0\n",
            "sratoolkit.3.1.0-ubuntu64/bin/fasterq-dump.3.1.0\n",
            "sratoolkit.3.1.0-ubuntu64/bin/vdb-unlock\n",
            "sratoolkit.3.1.0-ubuntu64/bin/helicos-load.3.1.0\n",
            "sratoolkit.3.1.0-ubuntu64/bin/illumina-load\n",
            "sratoolkit.3.1.0-ubuntu64/bin/sam-dump-orig.3.1.0\n",
            "sratoolkit.3.1.0-ubuntu64/bin/srf-load\n",
            "sratoolkit.3.1.0-ubuntu64/bin/vdb-encrypt.3\n",
            "sratoolkit.3.1.0-ubuntu64/bin/srapath-orig.3.1.0\n",
            "sratoolkit.3.1.0-ubuntu64/bin/sra-stat.3\n",
            "sratoolkit.3.1.0-ubuntu64/bin/sra-pileup.3\n",
            "sratoolkit.3.1.0-ubuntu64/bin/illumina-dump.3.1.0\n",
            "sratoolkit.3.1.0-ubuntu64/bin/align-info\n",
            "sratoolkit.3.1.0-ubuntu64/bin/vdb-validate.3.1.0\n",
            "sratoolkit.3.1.0-ubuntu64/bin/sff-dump.3.1.0\n",
            "sratoolkit.3.1.0-ubuntu64/bin/sra-sort.3.1.0\n",
            "sratoolkit.3.1.0-ubuntu64/bin/sra-search.3\n",
            "sratoolkit.3.1.0-ubuntu64/bin/abi-load\n",
            "sratoolkit.3.1.0-ubuntu64/bin/vdb-decrypt.3\n",
            "sratoolkit.3.1.0-ubuntu64/bin/fastq-dump.3\n",
            "sratoolkit.3.1.0-ubuntu64/bin/srapath.3.1.0\n",
            "sratoolkit.3.1.0-ubuntu64/bin/dump-ref-fasta.3\n",
            "sratoolkit.3.1.0-ubuntu64/bin/kar\n",
            "sratoolkit.3.1.0-ubuntu64/bin/dump-ref-fasta\n",
            "sratoolkit.3.1.0-ubuntu64/bin/cg-load\n",
            "sratoolkit.3.1.0-ubuntu64/bin/vdb-copy\n",
            "sratoolkit.3.1.0-ubuntu64/bin/vdb-config.3\n",
            "sratoolkit.3.1.0-ubuntu64/bin/test-sra.3.1.0\n",
            "sratoolkit.3.1.0-ubuntu64/bin/sra-sort-cg.3\n",
            "sratoolkit.3.1.0-ubuntu64/bin/kar.3.1.0\n",
            "sratoolkit.3.1.0-ubuntu64/bin/sra-stat\n",
            "sratoolkit.3.1.0-ubuntu64/bin/vdb-dump-orig.3.1.0\n",
            "sratoolkit.3.1.0-ubuntu64/bin/abi-dump.3\n",
            "sratoolkit.3.1.0-ubuntu64/bin/align-info.3.1.0\n",
            "sratoolkit.3.1.0-ubuntu64/bin/kdbmeta.3.1.0\n",
            "sratoolkit.3.1.0-ubuntu64/bin/abi-load.3.1.0\n",
            "sratoolkit.3.1.0-ubuntu64/bin/align-info.3\n",
            "sratoolkit.3.1.0-ubuntu64/bin/sra-sort\n",
            "sratoolkit.3.1.0-ubuntu64/bin/kdbmeta\n",
            "sratoolkit.3.1.0-ubuntu64/bin/vdb-dump\n",
            "sratoolkit.3.1.0-ubuntu64/bin/sra-pileup\n",
            "sratoolkit.3.1.0-ubuntu64/bin/latf-load.3\n",
            "sratoolkit.3.1.0-ubuntu64/bin/cg-load.3\n",
            "sratoolkit.3.1.0-ubuntu64/bin/prefetch\n",
            "sratoolkit.3.1.0-ubuntu64/bin/fasterq-dump\n",
            "sratoolkit.3.1.0-ubuntu64/bin/sra-search.3.1.0\n",
            "sratoolkit.3.1.0-ubuntu64/bin/pacbio-load.3\n",
            "sratoolkit.3.1.0-ubuntu64/bin/fastq-load.3.1.0\n",
            "sratoolkit.3.1.0-ubuntu64/bin/vdb-unlock.3\n",
            "sratoolkit.3.1.0-ubuntu64/bin/sff-load\n",
            "sratoolkit.3.1.0-ubuntu64/example/\n",
            "sratoolkit.3.1.0-ubuntu64/example/perl/\n",
            "sratoolkit.3.1.0-ubuntu64/example/perl/base-stats.pl\n",
            "sratoolkit.3.1.0-ubuntu64/example/perl/mismatch-stats.pl\n",
            "sratoolkit.3.1.0-ubuntu64/example/perl/gene-lookup.pl\n",
            "sratoolkit.3.1.0-ubuntu64/example/perl/simplefastq.pl\n",
            "sratoolkit.3.1.0-ubuntu64/example/perl/splitfastq.pl\n",
            "sratoolkit.3.1.0-ubuntu64/example/perl/dump-reference.pl\n",
            "sratoolkit.3.1.0-ubuntu64/example/perl/quality-stats.pl\n",
            "sratoolkit.3.1.0-ubuntu64/CHANGES\n",
            "sratoolkit.3.1.0-ubuntu64/README-blastn\n"
          ]
        }
      ]
    },
    {
      "cell_type": "code",
      "source": [],
      "metadata": {
        "id": "sFmk08sL0SRo"
      },
      "execution_count": null,
      "outputs": []
    },
    {
      "cell_type": "code",
      "source": [],
      "metadata": {
        "id": "OIKuIveR0SUM"
      },
      "execution_count": null,
      "outputs": []
    },
    {
      "cell_type": "markdown",
      "source": [
        "## **Download fastqs**\n",
        "\n",
        "> We will be using the scMixology dataset with three human lung adenocarcinoma cell lines HCC827, H1975 and H2228 mixed together and sequenced with 10xv2 scRNAseq reagents (see the sc_10x data on the [scMixology Github](https://github.com/LuyiTian/sc_mixology))."
      ],
      "metadata": {
        "id": "YlKbnAysyktK"
      }
    },
    {
      "cell_type": "code",
      "source": [
        "#3 cell line mix (should concatenate R1s and R2s), GSM3022245\n",
        "#Only download one for now because of Colab disk limits\n",
        "\n",
        "!./sratoolkit.3.1.0-ubuntu64/bin/prefetch SRR6782109 --max-size 10000000000 -O ./ && ./sratoolkit.3.1.0-ubuntu64/bin/fasterq-dump --include-technical --split-files SRR6782109\n"
      ],
      "metadata": {
        "colab": {
          "base_uri": "https://localhost:8080/"
        },
        "id": "nh81DqFnynOO",
        "outputId": "7ed44a6d-4401-4ec7-9442-87739938ad0e"
      },
      "execution_count": null,
      "outputs": [
        {
          "output_type": "stream",
          "name": "stdout",
          "text": [
            "\n",
            "2024-03-28T20:05:19 prefetch.3.1.0: Current preference is set to retrieve SRA Normalized Format files with full base quality scores.\n",
            "2024-03-28T20:05:19 prefetch.3.1.0: 1) Downloading 'SRR6782109'...\n",
            "2024-03-28T20:05:19 prefetch.3.1.0: SRA Normalized Format file is being retrieved, if this is different from your preference, it may be due to current file availability.\n",
            "2024-03-28T20:05:19 prefetch.3.1.0:  Downloading via HTTPS...\n",
            "2024-03-28T20:08:06 prefetch.3.1.0:  HTTPS download succeed\n",
            "2024-03-28T20:08:44 prefetch.3.1.0:  'SRR6782109' is valid\n",
            "2024-03-28T20:08:44 prefetch.3.1.0: 1) 'SRR6782109' was downloaded successfully\n",
            "2024-03-28T20:08:45 prefetch.3.1.0: 'SRR6782109' has 0 unresolved dependencies\n",
            "spots read      : 109,178,700\n",
            "reads read      : 218,357,400\n",
            "reads written   : 218,357,400\n"
          ]
        }
      ]
    },
    {
      "cell_type": "code",
      "source": [],
      "metadata": {
        "id": "btQYGAshzkBU"
      },
      "execution_count": null,
      "outputs": []
    },
    {
      "cell_type": "code",
      "source": [],
      "metadata": {
        "id": "OuV3E_kBzkDp"
      },
      "execution_count": null,
      "outputs": []
    },
    {
      "cell_type": "markdown",
      "source": [
        "## **Run kb-python to get U/S Counts**\n",
        "\n",
        "> We will get loom file output from the kb-python run which stores these count matrices, and we will use the cells in the filtered barcodes output."
      ],
      "metadata": {
        "id": "6qh-IAqk1Ww1"
      }
    },
    {
      "cell_type": "code",
      "source": [],
      "metadata": {
        "id": "kIZa3DCm1i6v"
      },
      "execution_count": null,
      "outputs": []
    },
    {
      "cell_type": "markdown",
      "source": [
        "Since this is human data we need the human reference kallisto index and intron/exon annotations (GRCh38-2020).\n",
        "\n"
      ],
      "metadata": {
        "id": "AOTwGdN-1loV"
      }
    },
    {
      "cell_type": "code",
      "source": [
        "#Read in saved index and intron/exon files from kb ref\n",
        "\n",
        "#If wget does not work, use the download link here https://doi.org/10.22002/6wyra-tar37 for the refdata-gex-GRCh38-2020-A.tar.gz\n",
        "!wget --content-disposition https://data.caltech.edu/records/6wyra-tar37/files/refdata-gex-GRCh38-2020-A.tar.gz?download=1\n",
        "!tar -vxzf refdata-gex-GRCh38-2020-A.tar.gz"
      ],
      "metadata": {
        "id": "GLrI5HL1Bhe_"
      },
      "execution_count": null,
      "outputs": []
    },
    {
      "cell_type": "code",
      "source": [
        "!mkdir scMix"
      ],
      "metadata": {
        "id": "ZMV1pDzQ1pje"
      },
      "execution_count": null,
      "outputs": []
    },
    {
      "cell_type": "code",
      "source": [
        "! kb count --verbose \\\n",
        "-i ./refdata-gex-GRCh38-2020-A/index.idx \\\n",
        "-g ./refdata-gex-GRCh38-2020-A/t2g_grch38.txt \\\n",
        "-x 10xv2 \\\n",
        "-o ./scMix/cl3 \\\n",
        "-t 2 \\\n",
        "-c1 ./refdata-gex-GRCh38-2020-A/cdna_t2c.txt \\\n",
        "-c2 ./refdata-gex-GRCh38-2020-A/intron_t2c.txt \\\n",
        "--workflow lamanno --filter bustools --overwrite --loom \\\n",
        "./SRR6782109_1.fastq \\\n",
        "./SRR6782109_2.fastq\n",
        "\n",
        "#There are only two threads, t, on Colab"
      ],
      "metadata": {
        "id": "TjTd74HD1fzT"
      },
      "execution_count": null,
      "outputs": []
    },
    {
      "cell_type": "markdown",
      "source": [
        "Commented out code below shows how to create the index and txt files above"
      ],
      "metadata": {
        "id": "MLuMoNGYMXJN"
      }
    },
    {
      "cell_type": "code",
      "source": [
        "# #Make kallisto index, -->runs out of memory on Colab\n",
        "\n",
        "# #Download genome information\n",
        "\n",
        "# # This does\n",
        "# # 1.   Make a kallisto index of introns and exons.\n",
        "# # 2.   Generate U/S counts for each cell across the reference transcriptome.\n",
        "\n",
        "\n",
        "# !wget --content-disposition https://cf.10xgenomics.com/supp/cell-exp/refdata-gex-GRCh38-2020-A.tar.gz\n",
        "# #refdata-gex-mm10-2020-A for mouse\n",
        "\n",
        "# !tar -zxvf refdata-gex-GRCh38-2020-A.tar.gz\n",
        "\n",
        "# !kb ref -i ./refdata-gex-GRCh38-2020-A/index.idx \\\n",
        "# -g ./refdata-gex-GRCh38-2020-A/t2g_grch38.txt \\\n",
        "# -f1 ./refdata-gex-GRCh38-2020-A/cdna.fa \\\n",
        "# -f2 ./refdata-gex-GRCh38-2020-A/intron.fa \\\n",
        "# -c1 ./refdata-gex-GRCh38-2020-A/cdna_t2c.txt \\\n",
        "# -c2 ./refdata-gex-GRCh38-2020-A/intron_t2c.txt \\\n",
        "# --workflow lamanno \\\n",
        "# ./refdata-gex-GRCh38-2020-A/fasta/genome.fa \\\n",
        "# ./refdata-gex-GRCh38-2020-A/genes/genes.gtf"
      ],
      "metadata": {
        "id": "GmgMdBgfWF9C"
      },
      "execution_count": null,
      "outputs": []
    },
    {
      "cell_type": "code",
      "source": [],
      "metadata": {
        "id": "pVRwRhWYWGC-"
      },
      "execution_count": null,
      "outputs": []
    },
    {
      "cell_type": "markdown",
      "source": [
        "**Here is the final loom file that we will use for analysis**"
      ],
      "metadata": {
        "id": "_YyzpaLXWH5Y"
      }
    },
    {
      "cell_type": "code",
      "source": [
        "ds = lp.connect('scMix/cl3/counts_filtered/adata.loom')"
      ],
      "metadata": {
        "id": "4R-8St67WKWr"
      },
      "execution_count": null,
      "outputs": []
    },
    {
      "cell_type": "markdown",
      "source": [
        "unspliced and spliced counts are stored in the layers"
      ],
      "metadata": {
        "id": "XUfk26VdWK8a"
      }
    },
    {
      "cell_type": "code",
      "source": [
        "#matrices are genexcell\n",
        "print(ds.layers['unspliced'][:,:].shape) #or 'spliced'"
      ],
      "metadata": {
        "id": "cyLOJQz8WOJV"
      },
      "execution_count": null,
      "outputs": []
    },
    {
      "cell_type": "markdown",
      "source": [
        "gene names and cell barcodes are stored under 'gene_name' and 'barcode' respectively"
      ],
      "metadata": {
        "id": "WXRMNVmMWQAX"
      }
    },
    {
      "cell_type": "code",
      "source": [
        "ds.ra['gene_name'][0:10]"
      ],
      "metadata": {
        "id": "HLCKJqaWWeFz"
      },
      "execution_count": null,
      "outputs": []
    },
    {
      "cell_type": "code",
      "source": [
        "ds.ca['barcode'][0:10]"
      ],
      "metadata": {
        "id": "fJzPCUyX0WOW"
      },
      "execution_count": null,
      "outputs": []
    },
    {
      "cell_type": "code",
      "source": [
        "ds.close()"
      ],
      "metadata": {
        "id": "nCtH6-sbfze7"
      },
      "execution_count": null,
      "outputs": []
    }
  ]
}