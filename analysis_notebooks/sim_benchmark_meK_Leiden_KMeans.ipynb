{
 "cells": [
  {
   "cell_type": "code",
   "execution_count": 260,
   "id": "1e47a23f",
   "metadata": {},
   "outputs": [],
   "source": [
    "import h5py\n",
    "import scanpy as sc\n",
    "import anndata\n",
    "import loompy as lp\n",
    "\n",
    "import numpy as np\n",
    "import pandas as pd\n",
    "import matplotlib.pyplot as plt\n",
    "\n",
    "import sys\n",
    "import glob\n",
    "import importlib"
   ]
  },
  {
   "cell_type": "code",
   "execution_count": 261,
   "id": "344936d6",
   "metadata": {},
   "outputs": [],
   "source": [
    "import sys\n",
    "sys.path.insert(0, '/home/tchari/monod/src/')"
   ]
  },
  {
   "cell_type": "code",
   "execution_count": 262,
   "id": "68593686",
   "metadata": {},
   "outputs": [],
   "source": [
    "import monod\n",
    "importlib.reload(monod)\n",
    "from monod import preprocess, extract_data, cme_toolbox, analysis, mminference"
   ]
  },
  {
   "cell_type": "code",
   "execution_count": 263,
   "id": "1b273e73",
   "metadata": {},
   "outputs": [],
   "source": [
    "from sklearn.metrics import adjusted_rand_score, adjusted_mutual_info_score\n",
    "from sklearn.cluster import KMeans\n",
    "from sklearn.neighbors import kneighbors_graph\n",
    "\n",
    "import igraph as ig\n",
    "import leidenalg as la"
   ]
  },
  {
   "cell_type": "code",
   "execution_count": 264,
   "id": "2dc9e93f",
   "metadata": {},
   "outputs": [],
   "source": [
    "#Perform standard normalization (read-depth + log1p)\n",
    "def norm_mat(mat,new_tot=1e4):\n",
    "    '''\n",
    "    mat: cell x gene matrix\n",
    "    '''  \n",
    "    tots = np.sum(mat,axis=1)\n",
    "    divids = (new_tot/tots)[:,None]\n",
    "    mat_norm = mat*divids\n",
    "    mat_norm = np.log1p(mat_norm)\n",
    "    \n",
    "    mat_norm[np.isnan(mat_norm)] = 0\n",
    "    \n",
    "    return mat_norm"
   ]
  },
  {
   "cell_type": "code",
   "execution_count": 265,
   "id": "f91e237d",
   "metadata": {},
   "outputs": [],
   "source": [
    "def get_graph(mat,neigh=30):\n",
    "    A = kneighbors_graph(mat, neigh, mode='connectivity', include_self=True)\n",
    "    sources, targets = A.nonzero()\n",
    "    weights = A[sources, targets]\n",
    "    if isinstance(weights, np.matrix):\n",
    "        weights = weights.A1\n",
    "    g = ig.Graph(directed=False) #True in scanpy, which is odd\n",
    "    g.add_vertices(A.shape[0])  # this adds adjacency.shape[0] vertices\n",
    "    g.add_edges(list(zip(sources, targets)))\n",
    "\n",
    "    g.es['weight'] = weights\n",
    "    \n",
    "    return g"
   ]
  },
  {
   "cell_type": "code",
   "execution_count": null,
   "id": "4ee2c4ac",
   "metadata": {},
   "outputs": [],
   "source": []
  },
  {
   "cell_type": "code",
   "execution_count": 266,
   "id": "45f51788",
   "metadata": {},
   "outputs": [
    {
     "data": {
      "text/html": [
       "<div>\n",
       "<style scoped>\n",
       "    .dataframe tbody tr th:only-of-type {\n",
       "        vertical-align: middle;\n",
       "    }\n",
       "\n",
       "    .dataframe tbody tr th {\n",
       "        vertical-align: top;\n",
       "    }\n",
       "\n",
       "    .dataframe thead th {\n",
       "        text-align: right;\n",
       "    }\n",
       "</style>\n",
       "<table border=\"1\" class=\"dataframe\">\n",
       "  <thead>\n",
       "    <tr style=\"text-align: right;\">\n",
       "      <th></th>\n",
       "      <th>Dataset</th>\n",
       "      <th>Transcrip</th>\n",
       "      <th>Clusters</th>\n",
       "      <th>Cu</th>\n",
       "      <th>Lam</th>\n",
       "    </tr>\n",
       "  </thead>\n",
       "  <tbody>\n",
       "    <tr>\n",
       "      <th>0</th>\n",
       "      <td>allen_b08</td>\n",
       "      <td>/home/tchari/perturbCME/notebooks/gg_200524_mo...</td>\n",
       "      <td>10</td>\n",
       "      <td>-6.777778</td>\n",
       "      <td>-1.25</td>\n",
       "    </tr>\n",
       "    <tr>\n",
       "      <th>1</th>\n",
       "      <td>allen_b02h01a02</td>\n",
       "      <td>/home/tchari/perturbCME/notebooks/gg_200524_mo...</td>\n",
       "      <td>11</td>\n",
       "      <td>-6.222222</td>\n",
       "      <td>-1.25</td>\n",
       "    </tr>\n",
       "    <tr>\n",
       "      <th>2</th>\n",
       "      <td>cl3</td>\n",
       "      <td>/home/tchari/perturbCME/notebooks/gg_200525_ge...</td>\n",
       "      <td>3</td>\n",
       "      <td>-6.777778</td>\n",
       "      <td>-0.70</td>\n",
       "    </tr>\n",
       "    <tr>\n",
       "      <th>3</th>\n",
       "      <td>cl5</td>\n",
       "      <td>/home/tchari/perturbCME/notebooks/gg_200525_ge...</td>\n",
       "      <td>5</td>\n",
       "      <td>-7.888889</td>\n",
       "      <td>-1.25</td>\n",
       "    </tr>\n",
       "    <tr>\n",
       "      <th>4</th>\n",
       "      <td>brca1</td>\n",
       "      <td>/home/tchari/perturbCME/notebooks/gg_200524_mo...</td>\n",
       "      <td>-1</td>\n",
       "      <td>-6.777778</td>\n",
       "      <td>-0.70</td>\n",
       "    </tr>\n",
       "  </tbody>\n",
       "</table>\n",
       "</div>"
      ],
      "text/plain": [
       "           Dataset                                          Transcrip  \\\n",
       "0        allen_b08  /home/tchari/perturbCME/notebooks/gg_200524_mo...   \n",
       "1  allen_b02h01a02  /home/tchari/perturbCME/notebooks/gg_200524_mo...   \n",
       "2              cl3  /home/tchari/perturbCME/notebooks/gg_200525_ge...   \n",
       "3              cl5  /home/tchari/perturbCME/notebooks/gg_200525_ge...   \n",
       "4            brca1  /home/tchari/perturbCME/notebooks/gg_200524_mo...   \n",
       "\n",
       "   Clusters        Cu   Lam  \n",
       "0        10 -6.777778 -1.25  \n",
       "1        11 -6.222222 -1.25  \n",
       "2         3 -6.777778 -0.70  \n",
       "3         5 -7.888889 -1.25  \n",
       "4        -1 -6.777778 -0.70  "
      ]
     },
     "execution_count": 266,
     "metadata": {},
     "output_type": "execute_result"
    }
   ],
   "source": [
    "# ********* Get meK_looms.tar.gz and meKMeans_data_samp_params.csv *********\n",
    "\n",
    "samps = pd.read_csv('meKMeans_data_samp_params.csv')\n",
    "samps.head()"
   ]
  },
  {
   "cell_type": "code",
   "execution_count": 267,
   "id": "e2384a26",
   "metadata": {},
   "outputs": [
    {
     "data": {
      "text/plain": [
       "['./hvg_objs_0215/cl5_357hvgs.loom',\n",
       " './hvg_objs_0215/cl5_1193all.loom',\n",
       " './hvg_objs_0215/allen_b02h01a02_359hvgs.loom',\n",
       " './hvg_objs_0215/cl3_466hvgs.loom',\n",
       " './hvg_objs_0215/allen_b08_682hvgs.loom',\n",
       " './hvg_objs_0215/allen_b02h01a02_2770all.loom',\n",
       " './hvg_objs_0215/cl3_1137all.loom',\n",
       " './hvg_objs_0215/allen_b08_1948all.loom']"
      ]
     },
     "execution_count": 267,
     "metadata": {},
     "output_type": "execute_result"
    }
   ],
   "source": [
    "d_strings  = glob.glob('./hvg_objs_0215/*.loom')\n",
    "d_strings "
   ]
  },
  {
   "cell_type": "code",
   "execution_count": 268,
   "id": "40ac6337",
   "metadata": {},
   "outputs": [
    {
     "data": {
      "text/plain": [
       "array(['allen_b08', 'allen_b02h01a02', 'cl3', 'cl5', 'brca1', 'pbmc',\n",
       "       'e11e13'], dtype=object)"
      ]
     },
     "execution_count": 268,
     "metadata": {},
     "output_type": "execute_result"
    }
   ],
   "source": [
    "datas = pd.unique(samps.Dataset)\n",
    "datas"
   ]
  },
  {
   "cell_type": "code",
   "execution_count": 269,
   "id": "1d9d450e",
   "metadata": {},
   "outputs": [],
   "source": [
    "attribute_names =[('unspliced','spliced'),'gene_name','barcode']"
   ]
  },
  {
   "cell_type": "markdown",
   "id": "2b4beecd",
   "metadata": {},
   "source": [
    "### **meK-Means**\n",
    "\n",
    "Test with 2, correct K, K+5, K+10"
   ]
  },
  {
   "cell_type": "code",
   "execution_count": 24,
   "id": "497b5fbd",
   "metadata": {},
   "outputs": [],
   "source": [
    "# !rm -r /home/tchari/perturbCME/notebooks/fits/meKruns_0209"
   ]
  },
  {
   "cell_type": "code",
   "execution_count": null,
   "id": "30910bf4",
   "metadata": {},
   "outputs": [],
   "source": []
  },
  {
   "cell_type": "code",
   "execution_count": 270,
   "id": "0a6db84b",
   "metadata": {
    "scrolled": true
   },
   "outputs": [
    {
     "name": "stdout",
     "output_type": "stream",
     "text": [
      "cl5 with 357 genes\n",
      "WARNING:root:Gene HIST1H2BD not found or has multiple entries in annotations.\n",
      "WARNING:root:Gene HIST1H2AC not found or has multiple entries in annotations.\n",
      "WARNING:root:Gene HIST1H2BJ not found or has multiple entries in annotations.\n",
      "WARNING:root:Selecting 354 genes required 0.0% dataset threshold.\n"
     ]
    },
    {
     "name": "stderr",
     "output_type": "stream",
     "text": [
      "100%|██████████████████████████████████████████████████████████████████████████████████████████████████████| 5/5 [00:15<00:00,  3.17s/it]\n",
      "100%|██████████████████████████████████████████████████████████████████████████████████████████████████████| 5/5 [00:14<00:00,  2.94s/it]\n"
     ]
    },
    {
     "name": "stdout",
     "output_type": "stream",
     "text": [
      "mstep self.weights:  [0.22184715 0.31965643 0.19363111 0.11203402 0.1528313 ]\n",
      "Q Function:  -1613996.7060211934\n",
      "\n"
     ]
    },
    {
     "name": "stderr",
     "output_type": "stream",
     "text": [
      "100%|██████████████████████████████████████████████████████████████████████████████████████████████████████| 5/5 [00:14<00:00,  2.97s/it]\n"
     ]
    },
    {
     "name": "stdout",
     "output_type": "stream",
     "text": [
      "mstep self.weights:  [0.2215189  0.3205985  0.19456084 0.1116819  0.15163985]\n",
      "Q Function:  -1582351.6245810064\n",
      "\n"
     ]
    },
    {
     "name": "stderr",
     "output_type": "stream",
     "text": [
      "100%|██████████████████████████████████████████████████████████████████████████████████████████████████████| 5/5 [00:14<00:00,  2.96s/it]\n"
     ]
    },
    {
     "name": "stdout",
     "output_type": "stream",
     "text": [
      "mstep self.weights:  [0.22103036 0.32078588 0.19550803 0.11081477 0.15186097]\n",
      "Q Function:  -1594042.2310515435\n",
      "\n"
     ]
    },
    {
     "name": "stderr",
     "output_type": "stream",
     "text": [
      "100%|██████████████████████████████████████████████████████████████████████████████████████████████████████| 5/5 [00:16<00:00,  3.26s/it]\n"
     ]
    },
    {
     "name": "stdout",
     "output_type": "stream",
     "text": [
      "mstep self.weights:  [0.22050623 0.32084816 0.19556908 0.11128444 0.1517921 ]\n",
      "Q Function:  -1586016.0138650853\n",
      "\n"
     ]
    },
    {
     "name": "stderr",
     "output_type": "stream",
     "text": [
      "100%|██████████████████████████████████████████████████████████████████████████████████████████████████████| 5/5 [00:14<00:00,  2.99s/it]\n"
     ]
    },
    {
     "name": "stdout",
     "output_type": "stream",
     "text": [
      "mstep self.weights:  [0.22070351 0.32097378 0.19556747 0.11128127 0.15147396]\n",
      "Q Function:  -1583778.1390525154\n",
      "\n"
     ]
    },
    {
     "name": "stderr",
     "output_type": "stream",
     "text": [
      "100%|██████████████████████████████████████████████████████████████████████████████████████████████████████| 5/5 [00:14<00:00,  2.89s/it]\n"
     ]
    },
    {
     "name": "stdout",
     "output_type": "stream",
     "text": [
      "mstep self.weights:  [0.22048444 0.32086566 0.19566905 0.11138636 0.1515945 ]\n",
      "Q Function:  -1596221.8912874165\n",
      "\n"
     ]
    },
    {
     "name": "stderr",
     "output_type": "stream",
     "text": [
      "100%|██████████████████████████████████████████████████████████████████████████████████████████████████████| 5/5 [00:15<00:00,  3.14s/it]\n"
     ]
    },
    {
     "name": "stdout",
     "output_type": "stream",
     "text": [
      "mstep self.weights:  [0.22022803 0.3208735  0.19602306 0.1112816  0.15159381]\n",
      "Q Function:  -1588499.5568959182\n",
      "\n"
     ]
    },
    {
     "name": "stderr",
     "output_type": "stream",
     "text": [
      "100%|██████████████████████████████████████████████████████████████████████████████████████████████████████| 5/5 [00:16<00:00,  3.35s/it]\n"
     ]
    },
    {
     "name": "stdout",
     "output_type": "stream",
     "text": [
      "mstep self.weights:  [0.21990761 0.32092048 0.1965379  0.11128162 0.15135239]\n",
      "Q Function:  -1581738.698837462\n",
      "\n"
     ]
    },
    {
     "name": "stderr",
     "output_type": "stream",
     "text": [
      "100%|██████████████████████████████████████████████████████████████████████████████████████████████████████| 5/5 [00:14<00:00,  2.98s/it]\n"
     ]
    },
    {
     "name": "stdout",
     "output_type": "stream",
     "text": [
      "mstep self.weights:  [0.21998435 0.32107169 0.19627386 0.11114741 0.15152268]\n",
      "Q Function:  -1587850.5442718687\n",
      "\n"
     ]
    },
    {
     "name": "stderr",
     "output_type": "stream",
     "text": [
      "100%|██████████████████████████████████████████████████████████████████████████████████████████████████████| 5/5 [00:15<00:00,  3.00s/it]\n"
     ]
    },
    {
     "name": "stdout",
     "output_type": "stream",
     "text": [
      "mstep self.weights:  [0.21992511 0.32089527 0.19628106 0.11139642 0.15150215]\n",
      "Q Function:  -1590894.3696573046\n",
      "\n",
      "No. clus:  5\n",
      "ARI:  0.9824020599767368\n",
      "cl5 with 1193 genes\n",
      "WARNING:root:Gene MARC2 not found or has multiple entries in annotations.\n",
      "WARNING:root:Gene MARC1 not found or has multiple entries in annotations.\n",
      "WARNING:root:Gene ST5 not found or has multiple entries in annotations.\n",
      "WARNING:root:Gene WARS not found or has multiple entries in annotations.\n",
      "WARNING:root:Gene AP005262.2 not found or has multiple entries in annotations.\n",
      "WARNING:root:Gene MARCH4 not found or has multiple entries in annotations.\n",
      "WARNING:root:Gene HIST1H2BD not found or has multiple entries in annotations.\n",
      "WARNING:root:Gene HIST1H2AC not found or has multiple entries in annotations.\n",
      "WARNING:root:Gene HIST1H2BC not found or has multiple entries in annotations.\n",
      "WARNING:root:Gene HIST1H2BJ not found or has multiple entries in annotations.\n",
      "WARNING:root:Gene LINC01510 not found or has multiple entries in annotations.\n",
      "WARNING:root:Selecting 1182 genes required 0.0% dataset threshold.\n"
     ]
    },
    {
     "name": "stderr",
     "output_type": "stream",
     "text": [
      "100%|██████████████████████████████████████████████████████████████████████████████████████████████████████| 5/5 [01:49<00:00, 21.81s/it]\n",
      "100%|██████████████████████████████████████████████████████████████████████████████████████████████████████| 5/5 [01:59<00:00, 23.84s/it]\n"
     ]
    },
    {
     "name": "stdout",
     "output_type": "stream",
     "text": [
      "mstep self.weights:  [0.22281731 0.15014396 0.32131829 0.19398112 0.11173932]\n",
      "Q Function:  -3590190.627409045\n",
      "\n"
     ]
    },
    {
     "name": "stderr",
     "output_type": "stream",
     "text": [
      "100%|██████████████████████████████████████████████████████████████████████████████████████████████████████| 5/5 [01:48<00:00, 21.75s/it]\n"
     ]
    },
    {
     "name": "stdout",
     "output_type": "stream",
     "text": [
      "mstep self.weights:  [0.22256251 0.15084225 0.32082722 0.19448701 0.11128101]\n",
      "Q Function:  -3528247.646683137\n",
      "\n"
     ]
    },
    {
     "name": "stderr",
     "output_type": "stream",
     "text": [
      "100%|██████████████████████████████████████████████████████████████████████████████████████████████████████| 5/5 [01:49<00:00, 21.81s/it]\n"
     ]
    },
    {
     "name": "stdout",
     "output_type": "stream",
     "text": [
      "mstep self.weights:  [0.22256253 0.15084227 0.32082696 0.19448699 0.11128125]\n",
      "Q Function:  -3531123.5585150165\n",
      "\n"
     ]
    },
    {
     "name": "stderr",
     "output_type": "stream",
     "text": [
      "100%|██████████████████████████████████████████████████████████████████████████████████████████████████████| 5/5 [01:48<00:00, 21.78s/it]\n"
     ]
    },
    {
     "name": "stdout",
     "output_type": "stream",
     "text": [
      "mstep self.weights:  [0.22256253 0.15084227 0.32082696 0.19448699 0.11128125]\n",
      "Q Function:  -3531123.558515013\n",
      "\n"
     ]
    },
    {
     "name": "stderr",
     "output_type": "stream",
     "text": [
      "100%|██████████████████████████████████████████████████████████████████████████████████████████████████████| 5/5 [01:48<00:00, 21.70s/it]\n"
     ]
    },
    {
     "name": "stdout",
     "output_type": "stream",
     "text": [
      "mstep self.weights:  [0.22256253 0.15084227 0.32082696 0.19448699 0.11128125]\n",
      "Q Function:  -3531123.5585150137\n",
      "\n"
     ]
    },
    {
     "name": "stderr",
     "output_type": "stream",
     "text": [
      "100%|██████████████████████████████████████████████████████████████████████████████████████████████████████| 5/5 [01:48<00:00, 21.69s/it]\n"
     ]
    },
    {
     "name": "stdout",
     "output_type": "stream",
     "text": [
      "mstep self.weights:  [0.22256253 0.15084227 0.32082696 0.19448699 0.11128125]\n",
      "Q Function:  -3531123.5585150137\n",
      "\n"
     ]
    },
    {
     "name": "stderr",
     "output_type": "stream",
     "text": [
      "100%|██████████████████████████████████████████████████████████████████████████████████████████████████████| 5/5 [01:57<00:00, 23.48s/it]\n"
     ]
    },
    {
     "name": "stdout",
     "output_type": "stream",
     "text": [
      "mstep self.weights:  [0.22256253 0.15084227 0.32082696 0.19448699 0.11128125]\n",
      "Q Function:  -3531123.5585150137\n",
      "\n"
     ]
    },
    {
     "name": "stderr",
     "output_type": "stream",
     "text": [
      "100%|██████████████████████████████████████████████████████████████████████████████████████████████████████| 5/5 [01:48<00:00, 21.68s/it]\n"
     ]
    },
    {
     "name": "stdout",
     "output_type": "stream",
     "text": [
      "mstep self.weights:  [0.22256253 0.15084227 0.32082696 0.19448699 0.11128125]\n",
      "Q Function:  -3531123.5585150137\n",
      "\n"
     ]
    },
    {
     "name": "stderr",
     "output_type": "stream",
     "text": [
      "100%|██████████████████████████████████████████████████████████████████████████████████████████████████████| 5/5 [01:48<00:00, 21.72s/it]\n"
     ]
    },
    {
     "name": "stdout",
     "output_type": "stream",
     "text": [
      "mstep self.weights:  [0.22256253 0.15084227 0.32082696 0.19448699 0.11128125]\n",
      "Q Function:  -3531123.5585150137\n",
      "\n"
     ]
    },
    {
     "name": "stderr",
     "output_type": "stream",
     "text": [
      "100%|██████████████████████████████████████████████████████████████████████████████████████████████████████| 5/5 [01:48<00:00, 21.69s/it]\n"
     ]
    },
    {
     "name": "stdout",
     "output_type": "stream",
     "text": [
      "mstep self.weights:  [0.22256253 0.15084227 0.32082696 0.19448699 0.11128125]\n",
      "Q Function:  -3531123.5585150137\n",
      "\n",
      "No. clus:  5\n",
      "ARI:  0.9838096163955569\n",
      "allen_b02h01a02 with 359 genes\n",
      "WARNING:root:Gene St5 not found or has multiple entries in annotations.\n",
      "WARNING:root:Selecting 358 genes required 0.0% dataset threshold.\n"
     ]
    },
    {
     "name": "stderr",
     "output_type": "stream",
     "text": [
      "100%|████████████████████████████████████████████████████████████████████████████████████████████████████| 11/11 [00:16<00:00,  1.54s/it]\n",
      "100%|████████████████████████████████████████████████████████████████████████████████████████████████████| 11/11 [00:17<00:00,  1.58s/it]\n"
     ]
    },
    {
     "name": "stdout",
     "output_type": "stream",
     "text": [
      "mstep self.weights:  [0.18938317 0.1478227  0.0796251  0.22318368 0.03190428 0.05244413\n",
      " 0.03360237 0.10646793 0.07089714 0.0372888  0.0273807 ]\n",
      "Q Function:  -9811481.225631984\n",
      "\n"
     ]
    },
    {
     "name": "stderr",
     "output_type": "stream",
     "text": [
      "100%|████████████████████████████████████████████████████████████████████████████████████████████████████| 11/11 [00:15<00:00,  1.45s/it]\n"
     ]
    },
    {
     "name": "stdout",
     "output_type": "stream",
     "text": [
      "mstep self.weights:  [0.18699984 0.14497231 0.07820644 0.22109986 0.0334808  0.05351363\n",
      " 0.03317351 0.1096338  0.06563222 0.04087164 0.03241596]\n",
      "Q Function:  -9246961.785014002\n",
      "\n"
     ]
    },
    {
     "name": "stderr",
     "output_type": "stream",
     "text": [
      "100%|████████████████████████████████████████████████████████████████████████████████████████████████████| 11/11 [00:17<00:00,  1.56s/it]\n"
     ]
    },
    {
     "name": "stdout",
     "output_type": "stream",
     "text": [
      "mstep self.weights:  [0.18621905 0.14269026 0.07865626 0.22005545 0.03470244 0.05405646\n",
      " 0.0331654  0.10988104 0.06425657 0.04168966 0.03462741]\n",
      "Q Function:  -9242956.68870773\n",
      "\n"
     ]
    },
    {
     "name": "stderr",
     "output_type": "stream",
     "text": [
      "100%|████████████████████████████████████████████████████████████████████████████████████████████████████| 11/11 [00:15<00:00,  1.43s/it]\n"
     ]
    },
    {
     "name": "stdout",
     "output_type": "stream",
     "text": [
      "mstep self.weights:  [0.18589382 0.14069685 0.07932261 0.21837319 0.03651063 0.05420935\n",
      " 0.03310626 0.10985566 0.06386189 0.04194206 0.03622769]\n",
      "Q Function:  -9241735.669763222\n",
      "\n"
     ]
    },
    {
     "name": "stderr",
     "output_type": "stream",
     "text": [
      "100%|████████████████████████████████████████████████████████████████████████████████████████████████████| 11/11 [00:15<00:00,  1.43s/it]\n"
     ]
    },
    {
     "name": "stdout",
     "output_type": "stream",
     "text": [
      "mstep self.weights:  [0.18584489 0.13904867 0.07999372 0.21657856 0.03847763 0.05426299\n",
      " 0.03302101 0.10960599 0.06372227 0.04199367 0.03745061]\n",
      "Q Function:  -9240274.149612557\n",
      "\n"
     ]
    },
    {
     "name": "stderr",
     "output_type": "stream",
     "text": [
      "100%|████████████████████████████████████████████████████████████████████████████████████████████████████| 11/11 [00:15<00:00,  1.43s/it]\n"
     ]
    },
    {
     "name": "stdout",
     "output_type": "stream",
     "text": [
      "mstep self.weights:  [0.18591503 0.13741536 0.08068584 0.21454193 0.04048356 0.05431037\n",
      " 0.03299287 0.10941393 0.06368284 0.0419992  0.03855907]\n",
      "Q Function:  -9238758.729903283\n",
      "\n"
     ]
    },
    {
     "name": "stderr",
     "output_type": "stream",
     "text": [
      "100%|████████████████████████████████████████████████████████████████████████████████████████████████████| 11/11 [00:15<00:00,  1.43s/it]\n"
     ]
    },
    {
     "name": "stdout",
     "output_type": "stream",
     "text": [
      "mstep self.weights:  [0.18591456 0.13602727 0.08117786 0.21286723 0.04213523 0.05432739\n",
      " 0.03297591 0.10918777 0.06362582 0.04204722 0.03971375]\n",
      "Q Function:  -9237799.642169846\n",
      "\n"
     ]
    },
    {
     "name": "stderr",
     "output_type": "stream",
     "text": [
      "100%|████████████████████████████████████████████████████████████████████████████████████████████████████| 11/11 [00:15<00:00,  1.44s/it]\n"
     ]
    },
    {
     "name": "stdout",
     "output_type": "stream",
     "text": [
      "mstep self.weights:  [0.18597175 0.13461848 0.08164164 0.21172667 0.0432469  0.05431293\n",
      " 0.03294703 0.10897689 0.06363194 0.04208096 0.04084482]\n",
      "Q Function:  -9237336.611012792\n",
      "\n"
     ]
    },
    {
     "name": "stderr",
     "output_type": "stream",
     "text": [
      "100%|████████████████████████████████████████████████████████████████████████████████████████████████████| 11/11 [00:16<00:00,  1.52s/it]\n"
     ]
    },
    {
     "name": "stdout",
     "output_type": "stream",
     "text": [
      "mstep self.weights:  [0.18589214 0.1332707  0.08202681 0.21104172 0.04391543 0.05431036\n",
      " 0.03294662 0.10874376 0.06360181 0.04211118 0.04213946]\n",
      "Q Function:  -9237003.092529288\n",
      "\n"
     ]
    },
    {
     "name": "stderr",
     "output_type": "stream",
     "text": [
      "100%|████████████████████████████████████████████████████████████████████████████████████████████████████| 11/11 [00:16<00:00,  1.45s/it]\n"
     ]
    },
    {
     "name": "stdout",
     "output_type": "stream",
     "text": [
      "mstep self.weights:  [0.18591678 0.13185719 0.08223164 0.21073006 0.04420811 0.05430006\n",
      " 0.0329463  0.10854975 0.06360176 0.04211123 0.04354712]\n",
      "Q Function:  -9236548.449134028\n",
      "\n",
      "No. clus:  11\n",
      "ARI:  0.6667475397569501\n",
      "cl3 with 466 genes\n",
      "WARNING:root:Gene C1orf143 not found or has multiple entries in annotations.\n",
      "WARNING:root:Gene H2AFY2 not found or has multiple entries in annotations.\n",
      "WARNING:root:Gene MARCH3 not found or has multiple entries in annotations.\n",
      "WARNING:root:Gene HIST1H2AC not found or has multiple entries in annotations.\n",
      "WARNING:root:Gene HIST1H2BJ not found or has multiple entries in annotations.\n",
      "WARNING:root:Gene HIST1H4H not found or has multiple entries in annotations.\n",
      "WARNING:root:Gene LINC01510 not found or has multiple entries in annotations.\n",
      "WARNING:root:Selecting 459 genes required 0.0% dataset threshold.\n"
     ]
    },
    {
     "name": "stderr",
     "output_type": "stream",
     "text": [
      "100%|██████████████████████████████████████████████████████████████████████████████████████████████████████| 3/3 [00:28<00:00,  9.47s/it]\n",
      "100%|██████████████████████████████████████████████████████████████████████████████████████████████████████| 3/3 [00:28<00:00,  9.40s/it]\n"
     ]
    },
    {
     "name": "stdout",
     "output_type": "stream",
     "text": [
      "mstep self.weights:  [0.35144124 0.34368071 0.30487805]\n",
      "Q Function:  -680692.0001592706\n",
      "\n"
     ]
    },
    {
     "name": "stderr",
     "output_type": "stream",
     "text": [
      "100%|██████████████████████████████████████████████████████████████████████████████████████████████████████| 3/3 [00:29<00:00,  9.69s/it]\n"
     ]
    },
    {
     "name": "stdout",
     "output_type": "stream",
     "text": [
      "mstep self.weights:  [0.35144124 0.34368071 0.30487805]\n",
      "Q Function:  -674995.4791985516\n",
      "\n"
     ]
    },
    {
     "name": "stderr",
     "output_type": "stream",
     "text": [
      "100%|██████████████████████████████████████████████████████████████████████████████████████████████████████| 3/3 [00:27<00:00,  9.09s/it]\n"
     ]
    },
    {
     "name": "stdout",
     "output_type": "stream",
     "text": [
      "mstep self.weights:  [0.35144124 0.34368071 0.30487805]\n",
      "Q Function:  -674995.4791985515\n",
      "\n"
     ]
    },
    {
     "name": "stderr",
     "output_type": "stream",
     "text": [
      "100%|██████████████████████████████████████████████████████████████████████████████████████████████████████| 3/3 [00:26<00:00,  8.79s/it]\n"
     ]
    },
    {
     "name": "stdout",
     "output_type": "stream",
     "text": [
      "mstep self.weights:  [0.35144124 0.34368071 0.30487805]\n",
      "Q Function:  -674995.4791985515\n",
      "\n"
     ]
    },
    {
     "name": "stderr",
     "output_type": "stream",
     "text": [
      "100%|██████████████████████████████████████████████████████████████████████████████████████████████████████| 3/3 [00:26<00:00,  9.00s/it]\n"
     ]
    },
    {
     "name": "stdout",
     "output_type": "stream",
     "text": [
      "mstep self.weights:  [0.35144124 0.34368071 0.30487805]\n",
      "Q Function:  -674995.4791985515\n",
      "\n"
     ]
    },
    {
     "name": "stderr",
     "output_type": "stream",
     "text": [
      "100%|██████████████████████████████████████████████████████████████████████████████████████████████████████| 3/3 [00:28<00:00,  9.60s/it]\n"
     ]
    },
    {
     "name": "stdout",
     "output_type": "stream",
     "text": [
      "mstep self.weights:  [0.35144124 0.34368071 0.30487805]\n",
      "Q Function:  -674995.4791985515\n",
      "\n"
     ]
    },
    {
     "name": "stderr",
     "output_type": "stream",
     "text": [
      "100%|██████████████████████████████████████████████████████████████████████████████████████████████████████| 3/3 [00:27<00:00,  9.03s/it]\n"
     ]
    },
    {
     "name": "stdout",
     "output_type": "stream",
     "text": [
      "mstep self.weights:  [0.35144124 0.34368071 0.30487805]\n",
      "Q Function:  -674995.4791985515\n",
      "\n"
     ]
    },
    {
     "name": "stderr",
     "output_type": "stream",
     "text": [
      "100%|██████████████████████████████████████████████████████████████████████████████████████████████████████| 3/3 [00:25<00:00,  8.66s/it]\n"
     ]
    },
    {
     "name": "stdout",
     "output_type": "stream",
     "text": [
      "mstep self.weights:  [0.35144124 0.34368071 0.30487805]\n",
      "Q Function:  -674995.4791985515\n",
      "\n"
     ]
    },
    {
     "name": "stderr",
     "output_type": "stream",
     "text": [
      "100%|██████████████████████████████████████████████████████████████████████████████████████████████████████| 3/3 [00:27<00:00,  9.03s/it]\n"
     ]
    },
    {
     "name": "stdout",
     "output_type": "stream",
     "text": [
      "mstep self.weights:  [0.35144124 0.34368071 0.30487805]\n",
      "Q Function:  -674995.4791985515\n",
      "\n"
     ]
    },
    {
     "name": "stderr",
     "output_type": "stream",
     "text": [
      "100%|██████████████████████████████████████████████████████████████████████████████████████████████████████| 3/3 [00:26<00:00,  8.84s/it]\n"
     ]
    },
    {
     "name": "stdout",
     "output_type": "stream",
     "text": [
      "mstep self.weights:  [0.35144124 0.34368071 0.30487805]\n",
      "Q Function:  -674995.4791985515\n",
      "\n",
      "No. clus:  3\n",
      "ARI:  0.9865879768598665\n",
      "allen_b08 with 682 genes\n",
      "WARNING:root:Gene Hist1h2bc not found or has multiple entries in annotations.\n",
      "WARNING:root:Selecting 681 genes required 0.0% dataset threshold.\n"
     ]
    },
    {
     "name": "stderr",
     "output_type": "stream",
     "text": [
      "100%|████████████████████████████████████████████████████████████████████████████████████████████████████| 10/10 [01:20<00:00,  8.08s/it]\n",
      "100%|████████████████████████████████████████████████████████████████████████████████████████████████████| 10/10 [01:18<00:00,  7.89s/it]\n"
     ]
    },
    {
     "name": "stdout",
     "output_type": "stream",
     "text": [
      "mstep self.weights:  [0.22627279 0.03113262 0.1349513  0.09841159 0.06929398 0.05564951\n",
      " 0.16595862 0.10724575 0.03652843 0.07455541]\n",
      "Q Function:  -6196468.766584381\n",
      "\n"
     ]
    },
    {
     "name": "stderr",
     "output_type": "stream",
     "text": [
      "100%|████████████████████████████████████████████████████████████████████████████████████████████████████| 10/10 [01:19<00:00,  7.90s/it]\n"
     ]
    },
    {
     "name": "stdout",
     "output_type": "stream",
     "text": [
      "mstep self.weights:  [0.22519105 0.03733896 0.12692046 0.1488852  0.06938345 0.05559289\n",
      " 0.13195122 0.09336113 0.03811642 0.07325922]\n",
      "Q Function:  -5839034.985854844\n",
      "\n"
     ]
    },
    {
     "name": "stderr",
     "output_type": "stream",
     "text": [
      "100%|████████████████████████████████████████████████████████████████████████████████████████████████████| 10/10 [01:22<00:00,  8.25s/it]\n"
     ]
    },
    {
     "name": "stdout",
     "output_type": "stream",
     "text": [
      "mstep self.weights:  [0.22536515 0.04454416 0.12030537 0.1817134  0.06947254 0.05622035\n",
      " 0.12502586 0.06632437 0.0378852  0.0731436 ]\n",
      "Q Function:  -5834506.437428323\n",
      "\n"
     ]
    },
    {
     "name": "stderr",
     "output_type": "stream",
     "text": [
      "100%|████████████████████████████████████████████████████████████████████████████████████████████████████| 10/10 [01:21<00:00,  8.19s/it]\n"
     ]
    },
    {
     "name": "stdout",
     "output_type": "stream",
     "text": [
      "mstep self.weights:  [0.22536448 0.04142769 0.11787136 0.17307081 0.06955564 0.05638503\n",
      " 0.13531096 0.06965134 0.03793906 0.07342362]\n",
      "Q Function:  -5833249.619775702\n",
      "\n"
     ]
    },
    {
     "name": "stderr",
     "output_type": "stream",
     "text": [
      "100%|████████████████████████████████████████████████████████████████████████████████████████████████████| 10/10 [01:23<00:00,  8.33s/it]\n"
     ]
    },
    {
     "name": "stdout",
     "output_type": "stream",
     "text": [
      "mstep self.weights:  [0.22536448 0.0430509  0.11906776 0.15629528 0.06955911 0.05638503\n",
      " 0.14811653 0.07062045 0.03794133 0.07359912]\n",
      "Q Function:  -5836982.368589466\n",
      "\n"
     ]
    },
    {
     "name": "stderr",
     "output_type": "stream",
     "text": [
      "100%|████████████████████████████████████████████████████████████████████████████████████████████████████| 10/10 [01:20<00:00,  8.07s/it]\n"
     ]
    },
    {
     "name": "stdout",
     "output_type": "stream",
     "text": [
      "mstep self.weights:  [0.22536448 0.04369137 0.11954154 0.14502983 0.06955911 0.05638503\n",
      " 0.15735513 0.07154853 0.03794133 0.07358364]\n",
      "Q Function:  -5839645.276834355\n",
      "\n"
     ]
    },
    {
     "name": "stderr",
     "output_type": "stream",
     "text": [
      "100%|████████████████████████████████████████████████████████████████████████████████████████████████████| 10/10 [01:24<00:00,  8.43s/it]\n"
     ]
    },
    {
     "name": "stdout",
     "output_type": "stream",
     "text": [
      "mstep self.weights:  [0.22536448 0.04405331 0.12260336 0.12481774 0.06955911 0.05638503\n",
      " 0.16453806 0.0811292  0.03794133 0.07360837]\n",
      "Q Function:  -5856162.09962976\n",
      "\n"
     ]
    },
    {
     "name": "stderr",
     "output_type": "stream",
     "text": [
      "100%|████████████████████████████████████████████████████████████████████████████████████████████████████| 10/10 [01:21<00:00,  8.18s/it]\n"
     ]
    },
    {
     "name": "stdout",
     "output_type": "stream",
     "text": [
      "mstep self.weights:  [0.22536448 0.04512736 0.12165796 0.13356779 0.06955911 0.05638503\n",
      " 0.15726153 0.07986829 0.03778494 0.0734235 ]\n",
      "Q Function:  -5825454.709999299\n",
      "\n"
     ]
    },
    {
     "name": "stderr",
     "output_type": "stream",
     "text": [
      "100%|████████████████████████████████████████████████████████████████████████████████████████████████████| 10/10 [01:23<00:00,  8.33s/it]\n"
     ]
    },
    {
     "name": "stdout",
     "output_type": "stream",
     "text": [
      "mstep self.weights:  [0.22536448 0.04551685 0.12151295 0.13222697 0.06955911 0.05638503\n",
      " 0.15614598 0.08209945 0.03776568 0.0734235 ]\n",
      "Q Function:  -5833529.324335257\n",
      "\n"
     ]
    },
    {
     "name": "stderr",
     "output_type": "stream",
     "text": [
      "100%|████████████████████████████████████████████████████████████████████████████████████████████████████| 10/10 [01:21<00:00,  8.11s/it]\n"
     ]
    },
    {
     "name": "stdout",
     "output_type": "stream",
     "text": [
      "mstep self.weights:  [0.22536448 0.04560103 0.12391562 0.11932087 0.06955911 0.05638503\n",
      " 0.16203124 0.08647196 0.03792717 0.07342351]\n",
      "Q Function:  -5849733.886371817\n",
      "\n",
      "No. clus:  10\n",
      "ARI:  0.5615338235981772\n",
      "allen_b02h01a02 with 2770 genes\n",
      "WARNING:root:Gene March4 not found or has multiple entries in annotations.\n",
      "WARNING:root:Gene Marc2 not found or has multiple entries in annotations.\n",
      "WARNING:root:Gene H2afy2 not found or has multiple entries in annotations.\n",
      "WARNING:root:Gene 1600002K03Rik not found or has multiple entries in annotations.\n",
      "WARNING:root:Gene 1700021F05Rik not found or has multiple entries in annotations.\n",
      "WARNING:root:Gene 1700023F06Rik not found or has multiple entries in annotations.\n",
      "WARNING:root:Gene H2afv not found or has multiple entries in annotations.\n",
      "WARNING:root:Gene March11 not found or has multiple entries in annotations.\n",
      "WARNING:root:Gene Sept5 not found or has multiple entries in annotations.\n",
      "WARNING:root:Gene 4933408B17Rik not found or has multiple entries in annotations.\n",
      "WARNING:root:Gene St5 not found or has multiple entries in annotations.\n",
      "WARNING:root:Gene Sept1 not found or has multiple entries in annotations.\n",
      "WARNING:root:Gene Tmem136 not found or has multiple entries in annotations.\n",
      "WARNING:root:Selecting 2757 genes required 0.0% dataset threshold.\n"
     ]
    },
    {
     "name": "stderr",
     "output_type": "stream",
     "text": [
      "100%|████████████████████████████████████████████████████████████████████████████████████████████████████| 11/11 [09:30<00:00, 51.88s/it]\n",
      "100%|████████████████████████████████████████████████████████████████████████████████████████████████████| 11/11 [09:38<00:00, 52.61s/it]\n"
     ]
    },
    {
     "name": "stdout",
     "output_type": "stream",
     "text": [
      "mstep self.weights:  [0.03577811 0.09321849 0.21939717 0.06603053 0.12697101 0.02886186\n",
      " 0.06517388 0.0992042  0.1499852  0.06634825 0.0490313 ]\n",
      "Q Function:  -41918351.07022431\n",
      "\n"
     ]
    },
    {
     "name": "stderr",
     "output_type": "stream",
     "text": [
      "100%|████████████████████████████████████████████████████████████████████████████████████████████████████| 11/11 [09:38<00:00, 52.57s/it]\n"
     ]
    },
    {
     "name": "stdout",
     "output_type": "stream",
     "text": [
      "mstep self.weights:  [0.03511135 0.09623451 0.21683998 0.06280629 0.12187618 0.03122831\n",
      " 0.07218584 0.09947461 0.14213316 0.07548085 0.04662891]\n",
      "Q Function:  -40766213.39050102\n",
      "\n"
     ]
    },
    {
     "name": "stderr",
     "output_type": "stream",
     "text": [
      "100%|████████████████████████████████████████████████████████████████████████████████████████████████████| 11/11 [09:39<00:00, 52.69s/it]\n"
     ]
    },
    {
     "name": "stdout",
     "output_type": "stream",
     "text": [
      "mstep self.weights:  [0.03493247 0.09795578 0.21642895 0.06117282 0.12122743 0.03139269\n",
      " 0.07346783 0.10439324 0.13292831 0.07456287 0.0515376 ]\n",
      "Q Function:  -40778154.58236936\n",
      "\n"
     ]
    },
    {
     "name": "stderr",
     "output_type": "stream",
     "text": [
      "100%|████████████████████████████████████████████████████████████████████████████████████████████████████| 11/11 [09:32<00:00, 52.04s/it]\n"
     ]
    },
    {
     "name": "stdout",
     "output_type": "stream",
     "text": [
      "mstep self.weights:  [0.03518573 0.09880684 0.21643003 0.06033525 0.12143028 0.03143339\n",
      " 0.07404756 0.11256843 0.12825143 0.06415894 0.05735212]\n",
      "Q Function:  -40826963.41482774\n",
      "\n"
     ]
    },
    {
     "name": "stderr",
     "output_type": "stream",
     "text": [
      "100%|████████████████████████████████████████████████████████████████████████████████████████████████████| 11/11 [09:49<00:00, 53.58s/it]\n"
     ]
    },
    {
     "name": "stdout",
     "output_type": "stream",
     "text": [
      "mstep self.weights:  [0.03496695 0.10007245 0.21603042 0.05918372 0.12164718 0.0314616\n",
      " 0.07438358 0.11610774 0.12412687 0.06092343 0.06109607]\n",
      "Q Function:  -40827107.40305851\n",
      "\n"
     ]
    },
    {
     "name": "stderr",
     "output_type": "stream",
     "text": [
      "100%|████████████████████████████████████████████████████████████████████████████████████████████████████| 11/11 [09:40<00:00, 52.73s/it]\n"
     ]
    },
    {
     "name": "stdout",
     "output_type": "stream",
     "text": [
      "mstep self.weights:  [0.0334853  0.10283068 0.21471197 0.05662933 0.12166355 0.03152065\n",
      " 0.07410448 0.12132685 0.11877358 0.05979463 0.06515898]\n",
      "Q Function:  -40790023.93148045\n",
      "\n"
     ]
    },
    {
     "name": "stderr",
     "output_type": "stream",
     "text": [
      "100%|████████████████████████████████████████████████████████████████████████████████████████████████████| 11/11 [09:30<00:00, 51.88s/it]\n"
     ]
    },
    {
     "name": "stdout",
     "output_type": "stream",
     "text": [
      "mstep self.weights:  [0.03306145 0.10288568 0.21394226 0.05659738 0.12168462 0.03151852\n",
      " 0.07400026 0.12415958 0.11727457 0.05871879 0.06615688]\n",
      "Q Function:  -40784889.28247924\n",
      "\n"
     ]
    },
    {
     "name": "stderr",
     "output_type": "stream",
     "text": [
      "100%|████████████████████████████████████████████████████████████████████████████████████████████████████| 11/11 [10:07<00:00, 55.20s/it]\n"
     ]
    },
    {
     "name": "stdout",
     "output_type": "stream",
     "text": [
      "mstep self.weights:  [0.03281318 0.10234096 0.21318153 0.05715654 0.12176573 0.0315159\n",
      " 0.07386331 0.12680481 0.11615298 0.05781928 0.06658579]\n",
      "Q Function:  -40779773.21415124\n",
      "\n"
     ]
    },
    {
     "name": "stderr",
     "output_type": "stream",
     "text": [
      "100%|████████████████████████████████████████████████████████████████████████████████████████████████████| 11/11 [09:42<00:00, 52.99s/it]\n"
     ]
    },
    {
     "name": "stdout",
     "output_type": "stream",
     "text": [
      "mstep self.weights:  [0.03271589 0.10267951 0.2120665  0.05681993 0.12179949 0.03151705\n",
      " 0.07370682 0.1311612  0.11515534 0.05548417 0.06689409]\n",
      "Q Function:  -40765880.57435482\n",
      "\n",
      "No. clus:  11\n",
      "ARI:  0.4947838975870489\n",
      "cl3 with 1137 genes\n",
      "WARNING:root:Gene C1orf143 not found or has multiple entries in annotations.\n",
      "WARNING:root:Gene H2AFY2 not found or has multiple entries in annotations.\n",
      "WARNING:root:Gene C11orf44 not found or has multiple entries in annotations.\n",
      "WARNING:root:Gene AC079062.1 not found or has multiple entries in annotations.\n",
      "WARNING:root:Gene MARCH3 not found or has multiple entries in annotations.\n",
      "WARNING:root:Gene HIST1H2AC not found or has multiple entries in annotations.\n",
      "WARNING:root:Gene HIST1H2BJ not found or has multiple entries in annotations.\n",
      "WARNING:root:Gene HIST1H4H not found or has multiple entries in annotations.\n",
      "WARNING:root:Gene AL022068.1 not found or has multiple entries in annotations.\n",
      "WARNING:root:Gene HIST1H2BE not found or has multiple entries in annotations.\n",
      "WARNING:root:Gene GVQW2 not found or has multiple entries in annotations.\n",
      "WARNING:root:Gene AC002454.1 not found or has multiple entries in annotations.\n",
      "WARNING:root:Gene LINC01510 not found or has multiple entries in annotations.\n",
      "WARNING:root:Gene AC022733.2 not found or has multiple entries in annotations.\n",
      "WARNING:root:Selecting 1123 genes required 0.0% dataset threshold.\n"
     ]
    },
    {
     "name": "stderr",
     "output_type": "stream",
     "text": [
      "100%|██████████████████████████████████████████████████████████████████████████████████████████████████████| 3/3 [01:55<00:00, 38.43s/it]\n",
      "100%|██████████████████████████████████████████████████████████████████████████████████████████████████████| 3/3 [01:42<00:00, 34.02s/it]\n"
     ]
    },
    {
     "name": "stdout",
     "output_type": "stream",
     "text": [
      "mstep self.weights:  [0.35033259 0.30487805 0.34478936]\n",
      "Q Function:  -1122756.060008354\n",
      "\n"
     ]
    },
    {
     "name": "stderr",
     "output_type": "stream",
     "text": [
      "100%|██████████████████████████████████████████████████████████████████████████████████████████████████████| 3/3 [01:41<00:00, 33.85s/it]\n"
     ]
    },
    {
     "name": "stdout",
     "output_type": "stream",
     "text": [
      "mstep self.weights:  [0.35033259 0.30487805 0.34478936]\n",
      "Q Function:  -1110612.0329809152\n",
      "\n"
     ]
    },
    {
     "name": "stderr",
     "output_type": "stream",
     "text": [
      "100%|██████████████████████████████████████████████████████████████████████████████████████████████████████| 3/3 [01:39<00:00, 33.30s/it]\n"
     ]
    },
    {
     "name": "stdout",
     "output_type": "stream",
     "text": [
      "mstep self.weights:  [0.35033259 0.30487805 0.34478936]\n",
      "Q Function:  -1110612.0329809152\n",
      "\n"
     ]
    },
    {
     "name": "stderr",
     "output_type": "stream",
     "text": [
      "100%|██████████████████████████████████████████████████████████████████████████████████████████████████████| 3/3 [01:54<00:00, 38.30s/it]\n"
     ]
    },
    {
     "name": "stdout",
     "output_type": "stream",
     "text": [
      "mstep self.weights:  [0.35033259 0.30487805 0.34478936]\n",
      "Q Function:  -1110612.0329809152\n",
      "\n"
     ]
    },
    {
     "name": "stderr",
     "output_type": "stream",
     "text": [
      "100%|██████████████████████████████████████████████████████████████████████████████████████████████████████| 3/3 [01:43<00:00, 34.40s/it]\n"
     ]
    },
    {
     "name": "stdout",
     "output_type": "stream",
     "text": [
      "mstep self.weights:  [0.35033259 0.30487805 0.34478936]\n",
      "Q Function:  -1110612.0329809152\n",
      "\n"
     ]
    },
    {
     "name": "stderr",
     "output_type": "stream",
     "text": [
      "100%|██████████████████████████████████████████████████████████████████████████████████████████████████████| 3/3 [01:54<00:00, 38.26s/it]\n"
     ]
    },
    {
     "name": "stdout",
     "output_type": "stream",
     "text": [
      "mstep self.weights:  [0.35033259 0.30487805 0.34478936]\n",
      "Q Function:  -1110612.0329809152\n",
      "\n"
     ]
    },
    {
     "name": "stderr",
     "output_type": "stream",
     "text": [
      "100%|██████████████████████████████████████████████████████████████████████████████████████████████████████| 3/3 [01:53<00:00, 37.74s/it]\n"
     ]
    },
    {
     "name": "stdout",
     "output_type": "stream",
     "text": [
      "mstep self.weights:  [0.35033259 0.30487805 0.34478936]\n",
      "Q Function:  -1110612.0329809152\n",
      "\n"
     ]
    },
    {
     "name": "stderr",
     "output_type": "stream",
     "text": [
      "100%|██████████████████████████████████████████████████████████████████████████████████████████████████████| 3/3 [01:39<00:00, 33.14s/it]\n"
     ]
    },
    {
     "name": "stdout",
     "output_type": "stream",
     "text": [
      "mstep self.weights:  [0.35033259 0.30487805 0.34478936]\n",
      "Q Function:  -1110612.0329809152\n",
      "\n"
     ]
    },
    {
     "name": "stderr",
     "output_type": "stream",
     "text": [
      "100%|██████████████████████████████████████████████████████████████████████████████████████████████████████| 3/3 [01:54<00:00, 38.10s/it]\n"
     ]
    },
    {
     "name": "stdout",
     "output_type": "stream",
     "text": [
      "mstep self.weights:  [0.35033259 0.30487805 0.34478936]\n",
      "Q Function:  -1110612.0329809152\n",
      "\n"
     ]
    },
    {
     "name": "stderr",
     "output_type": "stream",
     "text": [
      "100%|██████████████████████████████████████████████████████████████████████████████████████████████████████| 3/3 [01:41<00:00, 33.91s/it]\n"
     ]
    },
    {
     "name": "stdout",
     "output_type": "stream",
     "text": [
      "mstep self.weights:  [0.35033259 0.30487805 0.34478936]\n",
      "Q Function:  -1110612.0329809152\n",
      "\n",
      "No. clus:  3\n",
      "ARI:  0.9900404669788534\n",
      "allen_b08 with 1948 genes\n",
      "WARNING:root:Gene 1700023F06Rik not found or has multiple entries in annotations.\n",
      "WARNING:root:Gene Hist1h2bc not found or has multiple entries in annotations.\n",
      "WARNING:root:Gene Hist1h2be not found or has multiple entries in annotations.\n",
      "WARNING:root:Gene Gm26619 not found or has multiple entries in annotations.\n",
      "WARNING:root:Gene 4933408B17Rik not found or has multiple entries in annotations.\n",
      "WARNING:root:Selecting 1943 genes required 0.0% dataset threshold.\n"
     ]
    },
    {
     "name": "stderr",
     "output_type": "stream",
     "text": [
      "100%|████████████████████████████████████████████████████████████████████████████████████████████████████| 10/10 [05:34<00:00, 33.43s/it]\n",
      "100%|████████████████████████████████████████████████████████████████████████████████████████████████████| 10/10 [05:30<00:00, 33.05s/it]\n"
     ]
    },
    {
     "name": "stdout",
     "output_type": "stream",
     "text": [
      "mstep self.weights:  [0.03638765 0.22595658 0.07242243 0.28667181 0.05929015 0.08785889\n",
      " 0.03862151 0.06858369 0.05147959 0.07272771]\n",
      "Q Function:  -11935213.871461805\n",
      "\n"
     ]
    },
    {
     "name": "stderr",
     "output_type": "stream",
     "text": [
      "100%|████████████████████████████████████████████████████████████████████████████████████████████████████| 10/10 [05:26<00:00, 32.62s/it]\n"
     ]
    },
    {
     "name": "stdout",
     "output_type": "stream",
     "text": [
      "mstep self.weights:  [0.03542882 0.22536448 0.0737741  0.30369967 0.05229406 0.07618407\n",
      " 0.03864395 0.07018773 0.05111615 0.07330696]\n",
      "Q Function:  -11418605.672579441\n",
      "\n"
     ]
    },
    {
     "name": "stderr",
     "output_type": "stream",
     "text": [
      "100%|████████████████████████████████████████████████████████████████████████████████████████████████████| 10/10 [05:30<00:00, 33.07s/it]\n"
     ]
    },
    {
     "name": "stdout",
     "output_type": "stream",
     "text": [
      "mstep self.weights:  [0.03250422 0.22536328 0.07342427 0.30496588 0.04591084 0.07347074\n",
      " 0.03864521 0.07050122 0.05129107 0.08392327]\n",
      "Q Function:  -11402686.4203859\n",
      "\n"
     ]
    },
    {
     "name": "stderr",
     "output_type": "stream",
     "text": [
      "100%|████████████████████████████████████████████████████████████████████████████████████████████████████| 10/10 [05:31<00:00, 33.19s/it]\n"
     ]
    },
    {
     "name": "stdout",
     "output_type": "stream",
     "text": [
      "mstep self.weights:  [0.0305725  0.22536323 0.07346813 0.28517656 0.04532158 0.07265924\n",
      " 0.03864515 0.07047474 0.05129106 0.10702781]\n",
      "Q Function:  -11386359.085998861\n",
      "\n"
     ]
    },
    {
     "name": "stderr",
     "output_type": "stream",
     "text": [
      "100%|████████████████████████████████████████████████████████████████████████████████████████████████████| 10/10 [05:30<00:00, 33.01s/it]\n"
     ]
    },
    {
     "name": "stdout",
     "output_type": "stream",
     "text": [
      "mstep self.weights:  [0.02998593 0.22536328 0.07342483 0.25308314 0.04546698 0.0734767\n",
      " 0.03864515 0.07070616 0.05129106 0.13855676]\n",
      "Q Function:  -11395154.854000635\n",
      "\n"
     ]
    },
    {
     "name": "stderr",
     "output_type": "stream",
     "text": [
      "100%|████████████████████████████████████████████████████████████████████████████████████████████████████| 10/10 [05:23<00:00, 32.39s/it]\n"
     ]
    },
    {
     "name": "stdout",
     "output_type": "stream",
     "text": [
      "mstep self.weights:  [0.02827352 0.22502068 0.07342105 0.23416394 0.04610347 0.07452851\n",
      " 0.03864395 0.06987953 0.05129106 0.15867429]\n",
      "Q Function:  -11381771.773607558\n",
      "\n"
     ]
    },
    {
     "name": "stderr",
     "output_type": "stream",
     "text": [
      "100%|████████████████████████████████████████████████████████████████████████████████████████████████████| 10/10 [05:23<00:00, 32.34s/it]\n"
     ]
    },
    {
     "name": "stdout",
     "output_type": "stream",
     "text": [
      "mstep self.weights:  [0.02728954 0.22500917 0.07342348 0.22031698 0.04543624 0.07570489\n",
      " 0.03864395 0.06979974 0.05129106 0.17308495]\n",
      "Q Function:  -11382921.10575632\n",
      "\n"
     ]
    },
    {
     "name": "stderr",
     "output_type": "stream",
     "text": [
      "100%|████████████████████████████████████████████████████████████████████████████████████████████████████| 10/10 [05:25<00:00, 32.53s/it]\n"
     ]
    },
    {
     "name": "stdout",
     "output_type": "stream",
     "text": [
      "mstep self.weights:  [0.02696629 0.22477159 0.07341298 0.21371137 0.04549106 0.07625382\n",
      " 0.03864395 0.06943654 0.05129106 0.18002134]\n",
      "Q Function:  -11385470.036828585\n",
      "\n"
     ]
    },
    {
     "name": "stderr",
     "output_type": "stream",
     "text": [
      "100%|████████████████████████████████████████████████████████████████████████████████████████████████████| 10/10 [05:23<00:00, 32.34s/it]\n"
     ]
    },
    {
     "name": "stdout",
     "output_type": "stream",
     "text": [
      "mstep self.weights:  [0.02400903 0.22466188 0.07339625 0.21096147 0.04510792 0.07962122\n",
      " 0.03864395 0.06922137 0.05129106 0.18308585]\n",
      "Q Function:  -11381231.49872629\n",
      "\n"
     ]
    },
    {
     "name": "stderr",
     "output_type": "stream",
     "text": [
      "100%|████████████████████████████████████████████████████████████████████████████████████████████████████| 10/10 [05:24<00:00, 32.40s/it]\n"
     ]
    },
    {
     "name": "stdout",
     "output_type": "stream",
     "text": [
      "mstep self.weights:  [0.02152395 0.22466213 0.07324796 0.20921245 0.04498604 0.08325931\n",
      " 0.03864393 0.06888707 0.05129106 0.1842861 ]\n",
      "Q Function:  -11382090.767521169\n",
      "\n",
      "No. clus:  10\n",
      "ARI:  0.5824515192504232\n"
     ]
    }
   ],
   "source": [
    "#For each loom in looms from ./hvg_objs\n",
    "\n",
    "# !mkdir /home/tchari/perturbCME/notebooks/fits/meKruns_0209\n",
    "!mkdir /home/tchari/perturbCME/notebooks/fits/meKruns_0317\n",
    "\n",
    "\n",
    "dir_strings = []\n",
    "data_strings = []\n",
    "result_strings = []\n",
    "\n",
    "#Save method, clustering, mat_in (U,S, etc), hyper (K or res), hvgs, data, ARI, AMI\n",
    "meK_res = pd.DataFrame()\n",
    "meths = []\n",
    "result = []\n",
    "mats = []\n",
    "hyper = []\n",
    "hvgs = []\n",
    "data = []\n",
    "ari = []\n",
    "ami = []\n",
    "\n",
    "for d in d_strings:\n",
    "    \n",
    "    #Get tech param by keyword (datas) in loom paths\n",
    "    ind = [i in d for i in datas]\n",
    "    \n",
    "    #Inference params for sampling\n",
    "    tech_tup = [list(samps.Cu[ind])[0],list(samps.Lam[ind])[0]]\n",
    "    \n",
    "    #Preprocessing params for filepaths\n",
    "    trans = list(samps.Transcrip[ind])[0]\n",
    "    k = list(samps.Clusters[ind])[0]\n",
    "    data_name = list(samps.Dataset[ind])[0]\n",
    "    \n",
    "    \n",
    "    ds = lp.connect(d)\n",
    "    g_names = ds.ra[attribute_names[1]]\n",
    "    num_genes = len(g_names)\n",
    "    num_cells = len(ds.ca[attribute_names[2]])\n",
    "    \n",
    "    U = ds.layers['unspliced'][:,:].T\n",
    "    S = ds.layers['spliced'][:,:].T\n",
    "\n",
    "\n",
    "    true_labs = list(ds.ca['subclass_label'])\n",
    "    ds.close()\n",
    "    print(data_name+' with '+str(num_genes)+' genes')\n",
    "    \n",
    "\n",
    "    \n",
    "    Ks = [k] #2,\n",
    "\n",
    "    for clus in Ks:\n",
    "       \n",
    "        #Run Monod preprocessing to set up files for run, leave room for genes to be removed with low U/S\n",
    "        dir_string,dataset_string = monod.preprocess.construct_batch([d], \\\n",
    "                                                     trans, \\\n",
    "                                                     [data_name], \\\n",
    "                                                     attribute_names=attribute_names,\\\n",
    "                                                     batch_location='./fits/meKruns_0317', \\\n",
    "                                                     meta=data_name+'_K'+str(clus)+'_'+str(num_genes), \\\n",
    "                                                     batch_id=1, \\\n",
    "                                                     n_genes=num_genes,exp_filter_threshold=None,\n",
    "                                                                     viz=False,genes_to_fit=g_names)\n",
    "                                                        #num_genes-60 or 100,genes_to_fit=markers\n",
    "        dir_strings += [dir_string]\n",
    "        data_strings += [dataset_string]\n",
    "\n",
    "        #Set model and run meK-Means\n",
    "        \n",
    "        #Define bounds for params\n",
    "        phys_lb = [-2.0, -1.8, -1.8 ] \n",
    "        phys_ub = [4.2, 2.5, 2.5] \n",
    "        samp_lb = tech_tup \n",
    "        samp_ub = tech_tup  \n",
    "        gridsize = [1,1] #Already have tech params\n",
    "    \n",
    "\n",
    "        epochs = 10\n",
    "\n",
    "        # ---------------- meK-Means Inference ---------------- \n",
    "        #Define model with bursty transcription and Poisson molecule capture/sampling\n",
    "        fitmodel = monod.cme_toolbox.CMEModel('Bursty','Poisson')\n",
    "\n",
    "        #Set up mminference parameters\n",
    "        inference_parameters = monod.mminference.InferenceParameters(phys_lb,phys_ub,samp_lb,samp_ub,gridsize,\\\n",
    "                    dataset_string[0],fitmodel,k=clus,epochs=epochs,use_lengths = True,\n",
    "                    gradient_params = {'max_iterations':5,'init_pattern':'moments','num_restarts':1})\n",
    "\n",
    "        #Read in loom file with filtered barcodes\n",
    "        search_data = monod.extract_data.extract_data(d, trans, data_name,\n",
    "                    dataset_string[0], dir_string, viz=False, dataset_attr_names=attribute_names)\n",
    "\n",
    "        #Run inference(fit_all_grid_points()) and Save result file strings\n",
    "        full_result_string = inference_parameters.fit_all_grid_points(40,search_data) \n",
    "\n",
    "        result_strings.append(full_result_string)\n",
    "        \n",
    "\n",
    "        # ----------------  Save output ---------------- \n",
    "        #Read in results and get cluster assignments\n",
    "        sr = [monod.analysis.load_search_results(i) for i in full_result_string]\n",
    "        \n",
    "        \n",
    "        cat_assigns = np.array([None]*num_cells) #cat_assigns is empty list of length = no. cell barcodes\n",
    "        for i in range(len(sr)):\n",
    "            r = sr[i]\n",
    "            cat_assigns[r.filt] = r.assigns #denotes which cluster (k), cells were assigned to\n",
    "\n",
    "        print('No. clus: ',len(np.unique(cat_assigns)))\n",
    "        \n",
    "\n",
    "        meths += ['meK-Means']\n",
    "        result += [cat_assigns]\n",
    "        mats += ['U,S']\n",
    "        hyper += [clus]\n",
    "        hvgs += [num_genes]\n",
    "        data += [data_name]\n",
    "        ari += [adjusted_rand_score(true_labs,cat_assigns)]\n",
    "        ami += [adjusted_mutual_info_score(true_labs,cat_assigns)]\n",
    "        \n",
    "        print('ARI: ',adjusted_rand_score(true_labs,cat_assigns))\n",
    "\n",
    "\n",
    "meK_res['Method'] = meths\n",
    "meK_res['Clustering'] = result\n",
    "meK_res['Matrices'] = mats\n",
    "meK_res['Hyperparam'] = hyper\n",
    "meK_res['Genes'] = hvgs\n",
    "meK_res['Data'] = data\n",
    "meK_res['ARI'] = ari\n",
    "meK_res['AMI'] = ami\n",
    "    "
   ]
  },
  {
   "cell_type": "code",
   "execution_count": 271,
   "id": "63365596",
   "metadata": {},
   "outputs": [
    {
     "data": {
      "text/html": [
       "<div>\n",
       "<style scoped>\n",
       "    .dataframe tbody tr th:only-of-type {\n",
       "        vertical-align: middle;\n",
       "    }\n",
       "\n",
       "    .dataframe tbody tr th {\n",
       "        vertical-align: top;\n",
       "    }\n",
       "\n",
       "    .dataframe thead th {\n",
       "        text-align: right;\n",
       "    }\n",
       "</style>\n",
       "<table border=\"1\" class=\"dataframe\">\n",
       "  <thead>\n",
       "    <tr style=\"text-align: right;\">\n",
       "      <th></th>\n",
       "      <th>Method</th>\n",
       "      <th>Clustering</th>\n",
       "      <th>Matrices</th>\n",
       "      <th>Hyperparam</th>\n",
       "      <th>Genes</th>\n",
       "      <th>Data</th>\n",
       "      <th>ARI</th>\n",
       "      <th>AMI</th>\n",
       "    </tr>\n",
       "  </thead>\n",
       "  <tbody>\n",
       "    <tr>\n",
       "      <th>0</th>\n",
       "      <td>meK-Means</td>\n",
       "      <td>[4, 4, 0, 4, 4, 4, 3, 3, 4, 4, 0, 0, 4, 4, 4, ...</td>\n",
       "      <td>U,S</td>\n",
       "      <td>5</td>\n",
       "      <td>357</td>\n",
       "      <td>cl5</td>\n",
       "      <td>0.982402</td>\n",
       "      <td>0.968188</td>\n",
       "    </tr>\n",
       "    <tr>\n",
       "      <th>1</th>\n",
       "      <td>meK-Means</td>\n",
       "      <td>[1, 1, 0, 1, 1, 1, 4, 4, 1, 1, 0, 0, 1, 1, 1, ...</td>\n",
       "      <td>U,S</td>\n",
       "      <td>5</td>\n",
       "      <td>1193</td>\n",
       "      <td>cl5</td>\n",
       "      <td>0.983810</td>\n",
       "      <td>0.971894</td>\n",
       "    </tr>\n",
       "    <tr>\n",
       "      <th>2</th>\n",
       "      <td>meK-Means</td>\n",
       "      <td>[5, 3, 3, 8, 7, 1, 6, 3, 7, 8, 1, 0, 1, 7, 3, ...</td>\n",
       "      <td>U,S</td>\n",
       "      <td>11</td>\n",
       "      <td>359</td>\n",
       "      <td>allen_b02h01a02</td>\n",
       "      <td>0.666748</td>\n",
       "      <td>0.802591</td>\n",
       "    </tr>\n",
       "    <tr>\n",
       "      <th>3</th>\n",
       "      <td>meK-Means</td>\n",
       "      <td>[2, 2, 2, 2, 2, 1, 2, 2, 2, 2, 1, 2, 2, 2, 1, ...</td>\n",
       "      <td>U,S</td>\n",
       "      <td>3</td>\n",
       "      <td>466</td>\n",
       "      <td>cl3</td>\n",
       "      <td>0.986588</td>\n",
       "      <td>0.974199</td>\n",
       "    </tr>\n",
       "    <tr>\n",
       "      <th>4</th>\n",
       "      <td>meK-Means</td>\n",
       "      <td>[0, 2, 5, 0, 3, 8, 3, 4, 2, 8, 3, 7, 0, 2, 2, ...</td>\n",
       "      <td>U,S</td>\n",
       "      <td>10</td>\n",
       "      <td>682</td>\n",
       "      <td>allen_b08</td>\n",
       "      <td>0.561534</td>\n",
       "      <td>0.776994</td>\n",
       "    </tr>\n",
       "    <tr>\n",
       "      <th>5</th>\n",
       "      <td>meK-Means</td>\n",
       "      <td>[1, 2, 2, 1, 6, 8, 0, 2, 6, 1, 8, 4, 4, 6, 2, ...</td>\n",
       "      <td>U,S</td>\n",
       "      <td>11</td>\n",
       "      <td>2770</td>\n",
       "      <td>allen_b02h01a02</td>\n",
       "      <td>0.494784</td>\n",
       "      <td>0.663461</td>\n",
       "    </tr>\n",
       "    <tr>\n",
       "      <th>6</th>\n",
       "      <td>meK-Means</td>\n",
       "      <td>[1, 1, 1, 1, 1, 2, 1, 1, 1, 1, 2, 1, 1, 1, 2, ...</td>\n",
       "      <td>U,S</td>\n",
       "      <td>3</td>\n",
       "      <td>1137</td>\n",
       "      <td>cl3</td>\n",
       "      <td>0.990040</td>\n",
       "      <td>0.979630</td>\n",
       "    </tr>\n",
       "    <tr>\n",
       "      <th>7</th>\n",
       "      <td>meK-Means</td>\n",
       "      <td>[1, 3, 8, 1, 3, 6, 3, 2, 0, 6, 3, 9, 1, 3, 0, ...</td>\n",
       "      <td>U,S</td>\n",
       "      <td>10</td>\n",
       "      <td>1948</td>\n",
       "      <td>allen_b08</td>\n",
       "      <td>0.582452</td>\n",
       "      <td>0.758634</td>\n",
       "    </tr>\n",
       "  </tbody>\n",
       "</table>\n",
       "</div>"
      ],
      "text/plain": [
       "      Method                                         Clustering Matrices  \\\n",
       "0  meK-Means  [4, 4, 0, 4, 4, 4, 3, 3, 4, 4, 0, 0, 4, 4, 4, ...      U,S   \n",
       "1  meK-Means  [1, 1, 0, 1, 1, 1, 4, 4, 1, 1, 0, 0, 1, 1, 1, ...      U,S   \n",
       "2  meK-Means  [5, 3, 3, 8, 7, 1, 6, 3, 7, 8, 1, 0, 1, 7, 3, ...      U,S   \n",
       "3  meK-Means  [2, 2, 2, 2, 2, 1, 2, 2, 2, 2, 1, 2, 2, 2, 1, ...      U,S   \n",
       "4  meK-Means  [0, 2, 5, 0, 3, 8, 3, 4, 2, 8, 3, 7, 0, 2, 2, ...      U,S   \n",
       "5  meK-Means  [1, 2, 2, 1, 6, 8, 0, 2, 6, 1, 8, 4, 4, 6, 2, ...      U,S   \n",
       "6  meK-Means  [1, 1, 1, 1, 1, 2, 1, 1, 1, 1, 2, 1, 1, 1, 2, ...      U,S   \n",
       "7  meK-Means  [1, 3, 8, 1, 3, 6, 3, 2, 0, 6, 3, 9, 1, 3, 0, ...      U,S   \n",
       "\n",
       "   Hyperparam  Genes             Data       ARI       AMI  \n",
       "0           5    357              cl5  0.982402  0.968188  \n",
       "1           5   1193              cl5  0.983810  0.971894  \n",
       "2          11    359  allen_b02h01a02  0.666748  0.802591  \n",
       "3           3    466              cl3  0.986588  0.974199  \n",
       "4          10    682        allen_b08  0.561534  0.776994  \n",
       "5          11   2770  allen_b02h01a02  0.494784  0.663461  \n",
       "6           3   1137              cl3  0.990040  0.979630  \n",
       "7          10   1948        allen_b08  0.582452  0.758634  "
      ]
     },
     "execution_count": 271,
     "metadata": {},
     "output_type": "execute_result"
    }
   ],
   "source": [
    "meK_res.to_pickle('./fits/meKruns_0317/meK_res_filt.pkl')\n",
    "\n",
    "#Test\n",
    "unpickled_df = pd.read_pickle('./fits/meKruns_0317/meK_res_filt.pkl')\n",
    "unpickled_df"
   ]
  },
  {
   "cell_type": "code",
   "execution_count": 10,
   "id": "b1046331",
   "metadata": {},
   "outputs": [],
   "source": [
    "# meK_res.to_pickle('./fits/meKruns_0216/meK_res_filt.pkl')\n",
    "# #unpickled_df = pd.read_pickle(\"./meK_res.pkl\")"
   ]
  },
  {
   "cell_type": "code",
   "execution_count": 11,
   "id": "30b642ce",
   "metadata": {},
   "outputs": [],
   "source": [
    "# unpickled_df = pd.read_pickle('./fits/meKruns_0216/meK_res_filt.pkl')"
   ]
  },
  {
   "cell_type": "code",
   "execution_count": 272,
   "id": "18484a3b",
   "metadata": {},
   "outputs": [],
   "source": [
    "# unpickled_df"
   ]
  },
  {
   "cell_type": "code",
   "execution_count": null,
   "id": "7947116a",
   "metadata": {},
   "outputs": [],
   "source": []
  },
  {
   "cell_type": "code",
   "execution_count": null,
   "id": "2a23bb3a",
   "metadata": {},
   "outputs": [],
   "source": []
  },
  {
   "cell_type": "code",
   "execution_count": null,
   "id": "69e4b95b",
   "metadata": {},
   "outputs": [],
   "source": []
  },
  {
   "cell_type": "markdown",
   "id": "43f3f9db",
   "metadata": {},
   "source": [
    "### **Leiden & K-Means**\n"
   ]
  },
  {
   "cell_type": "code",
   "execution_count": 28,
   "id": "9453d4f2",
   "metadata": {},
   "outputs": [],
   "source": [
    "# ! rm -r /home/tchari/perturbCME/notebooks/fits/LeidKMeansruns_0209"
   ]
  },
  {
   "cell_type": "code",
   "execution_count": 18,
   "id": "4c7f9ade",
   "metadata": {
    "scrolled": true
   },
   "outputs": [
    {
     "name": "stdout",
     "output_type": "stream",
     "text": [
      "cl5 with 357 HVGs\n"
     ]
    },
    {
     "name": "stderr",
     "output_type": "stream",
     "text": [
      "/home/tchari/.local/lib/python3.7/site-packages/ipykernel_launcher.py:7: RuntimeWarning: divide by zero encountered in true_divide\n",
      "  import sys\n",
      "/home/tchari/.local/lib/python3.7/site-packages/ipykernel_launcher.py:8: RuntimeWarning: invalid value encountered in multiply\n",
      "  \n"
     ]
    },
    {
     "name": "stdout",
     "output_type": "stream",
     "text": [
      "cl5 with 1193 HVGs\n",
      "allen_b02h01a02 with 359 HVGs\n",
      "cl3 with 466 HVGs\n",
      "allen_b08 with 682 HVGs\n",
      "allen_b02h01a02 with 2770 HVGs\n",
      "cl3 with 1137 HVGs\n",
      "allen_b08 with 1948 HVGs\n"
     ]
    }
   ],
   "source": [
    "#Make the U,S, U+S, Concat matrices, res 0.75,1,1.5,2\n",
    "\n",
    "!mkdir /home/tchari/perturbCME/notebooks/fits/LeidKMeansruns_0215\n",
    "\n",
    "\n",
    "#Save method, clustering, mat_in (U,S, etc), hyper (K or res), hvgs, data, ARI, AMI\n",
    "LK_res = pd.DataFrame()\n",
    "meths = []\n",
    "result = []\n",
    "mats = []\n",
    "hyper = []\n",
    "hvgs = []\n",
    "data = []\n",
    "ari = []\n",
    "ami = []\n",
    "\n",
    "for d in d_strings:\n",
    "    \n",
    "    #Get tech param by keyword (datas) in loom paths\n",
    "    ind = [i in d for i in datas]\n",
    "    \n",
    "    k = list(samps.Clusters[ind])[0]\n",
    "    data_name = list(samps.Dataset[ind])[0]\n",
    "    \n",
    "    \n",
    "    ds = lp.connect(d)\n",
    "    num_genes = len(ds.ra[attribute_names[1]])\n",
    "    num_cells = len(ds.ca[attribute_names[2]])\n",
    "    U = ds.layers[attribute_names[0][0]][:,:].T\n",
    "    S = ds.layers[attribute_names[0][1]][:,:].T\n",
    "    true_labs = list(ds.ca['subclass_label'])\n",
    "    ds.close()\n",
    "    print(data_name+' with '+str(num_genes)+' HVGs')\n",
    "    \n",
    "    res = [0.75,1,1.5,2]\n",
    "    \n",
    "    #Get U,S,U_p_S,U_c_S\n",
    "        \n",
    "    #Norm mats\n",
    "    U_norm = norm_mat(U)\n",
    "    S_norm = norm_mat(S)\n",
    "    U_p_S_norm = norm_mat(U+S)\n",
    "    U_c_S_norm = norm_mat(np.concatenate([U,S],axis=1))\n",
    "    \n",
    "    g_U = get_graph(U_norm)\n",
    "    g_S = get_graph(S_norm)\n",
    "    g_U_p_S = get_graph(U_p_S_norm)\n",
    "    g_U_c_S = get_graph(U_c_S_norm)\n",
    "    \n",
    "    # -------- Fit Leiden -------\n",
    "    for r in res:\n",
    "        \n",
    "        partition_type = la.RBConfigurationVertexPartition\n",
    "        #Make Knn graphs\n",
    "        for g in [g_U,g_S,g_U_p_S,g_U_c_S]:\n",
    "            part = la.find_partition(g, partition_type, \n",
    "                                        weights=np.array(g.es['weight']).astype(np.float64), \n",
    "                                        n_iterations=-1, resolution_parameter=r)\n",
    "\n",
    "            labels = np.array(part.membership)\n",
    "            \n",
    "            # ----- Save Results ---- ARI,AMI etc\n",
    "            meths += ['Leiden']\n",
    "            result += [labels]\n",
    "            hyper += [r]\n",
    "            hvgs += [num_genes]\n",
    "            data += [data_name]\n",
    "            ari += [adjusted_rand_score(true_labs,labels)]\n",
    "            ami += [adjusted_mutual_info_score(true_labs,labels)]\n",
    "            \n",
    "#             print('No. clus Leiden: ',len(np.unique(labels)))\n",
    "            \n",
    "        mats += ['U','S','U+S','UcatS']\n",
    "        \n",
    "        \n",
    "        \n",
    "    # -------- Fit K-Means with k -------\n",
    "    \n",
    "    for x in [U_norm,S_norm,U_p_S_norm,U_c_S_norm]:\n",
    "        kmeans = KMeans(n_clusters=k, random_state=0).fit(x)\n",
    "        labs = kmeans.labels_\n",
    "        \n",
    "        meths += ['K-Means']\n",
    "        result += [labs]\n",
    "        hyper += [k]\n",
    "        hvgs += [num_genes]\n",
    "        data += [data_name]\n",
    "        ari += [adjusted_rand_score(true_labs,labs)]\n",
    "        ami += [adjusted_mutual_info_score(true_labs,labs)]\n",
    "        \n",
    "#         print('No. clus K-Means: ',len(np.unique(labs)))\n",
    "        \n",
    "    mats += ['U','S','U+S','UcatS']\n",
    "\n",
    "    \n",
    "LK_res['Method'] = meths\n",
    "LK_res['Clustering'] = result\n",
    "LK_res['Matrices'] = mats\n",
    "LK_res['Hyperparam'] = hyper\n",
    "LK_res['HVGs'] = hvgs\n",
    "LK_res['Data'] = data\n",
    "LK_res['ARI'] = ari\n",
    "LK_res['AMI'] = ami"
   ]
  },
  {
   "cell_type": "code",
   "execution_count": null,
   "id": "b31864ed",
   "metadata": {},
   "outputs": [],
   "source": [
    "#Save method, clustering, mat_in (U,S, etc), hyper (K or res), hvgs, data, ARI, NMI\n",
    "# LK_res.to_csv('./fits/LeidKMeansruns_0209/LeidKMeans_bench_results.csv',index=None)\n",
    "# LK_res.head()\n",
    "\n"
   ]
  },
  {
   "cell_type": "code",
   "execution_count": 19,
   "id": "79e36c68",
   "metadata": {},
   "outputs": [],
   "source": [
    "LK_res.to_pickle('./fits/LeidKMeansruns_0215/LK_res.pkl')\n",
    "#unpickled_df = pd.read_pickle(\"./meK_res.pkl\")"
   ]
  },
  {
   "cell_type": "code",
   "execution_count": 13,
   "id": "7c0a54d3",
   "metadata": {},
   "outputs": [
    {
     "data": {
      "text/html": [
       "<div>\n",
       "<style scoped>\n",
       "    .dataframe tbody tr th:only-of-type {\n",
       "        vertical-align: middle;\n",
       "    }\n",
       "\n",
       "    .dataframe tbody tr th {\n",
       "        vertical-align: top;\n",
       "    }\n",
       "\n",
       "    .dataframe thead th {\n",
       "        text-align: right;\n",
       "    }\n",
       "</style>\n",
       "<table border=\"1\" class=\"dataframe\">\n",
       "  <thead>\n",
       "    <tr style=\"text-align: right;\">\n",
       "      <th></th>\n",
       "      <th>Method</th>\n",
       "      <th>Clustering</th>\n",
       "      <th>Matrices</th>\n",
       "      <th>Hyperparam</th>\n",
       "      <th>HVGs</th>\n",
       "      <th>Data</th>\n",
       "      <th>ARI</th>\n",
       "      <th>AMI</th>\n",
       "    </tr>\n",
       "  </thead>\n",
       "  <tbody>\n",
       "    <tr>\n",
       "      <th>0</th>\n",
       "      <td>Leiden</td>\n",
       "      <td>[3, 3, 1, 3, 3, 3, 4, 4, 3, 3, 1, 1, 3, 3, 3, ...</td>\n",
       "      <td>U</td>\n",
       "      <td>0.75</td>\n",
       "      <td>357</td>\n",
       "      <td>cl5</td>\n",
       "      <td>0.948212</td>\n",
       "      <td>0.915683</td>\n",
       "    </tr>\n",
       "    <tr>\n",
       "      <th>1</th>\n",
       "      <td>Leiden</td>\n",
       "      <td>[3, 3, 1, 3, 3, 3, 4, 4, 3, 3, 1, 1, 3, 3, 3, ...</td>\n",
       "      <td>S</td>\n",
       "      <td>0.75</td>\n",
       "      <td>357</td>\n",
       "      <td>cl5</td>\n",
       "      <td>0.986832</td>\n",
       "      <td>0.975747</td>\n",
       "    </tr>\n",
       "    <tr>\n",
       "      <th>2</th>\n",
       "      <td>Leiden</td>\n",
       "      <td>[3, 3, 1, 3, 3, 3, 4, 4, 3, 3, 1, 1, 3, 3, 3, ...</td>\n",
       "      <td>U+S</td>\n",
       "      <td>0.75</td>\n",
       "      <td>357</td>\n",
       "      <td>cl5</td>\n",
       "      <td>0.965742</td>\n",
       "      <td>0.946763</td>\n",
       "    </tr>\n",
       "    <tr>\n",
       "      <th>3</th>\n",
       "      <td>Leiden</td>\n",
       "      <td>[3, 3, 1, 3, 3, 3, 4, 4, 3, 3, 1, 1, 3, 3, 3, ...</td>\n",
       "      <td>UcatS</td>\n",
       "      <td>0.75</td>\n",
       "      <td>357</td>\n",
       "      <td>cl5</td>\n",
       "      <td>0.965702</td>\n",
       "      <td>0.947080</td>\n",
       "    </tr>\n",
       "    <tr>\n",
       "      <th>4</th>\n",
       "      <td>Leiden</td>\n",
       "      <td>[3, 3, 1, 3, 3, 3, 4, 4, 3, 3, 1, 1, 3, 3, 3, ...</td>\n",
       "      <td>U</td>\n",
       "      <td>1.00</td>\n",
       "      <td>357</td>\n",
       "      <td>cl5</td>\n",
       "      <td>0.948656</td>\n",
       "      <td>0.916597</td>\n",
       "    </tr>\n",
       "    <tr>\n",
       "      <th>...</th>\n",
       "      <td>...</td>\n",
       "      <td>...</td>\n",
       "      <td>...</td>\n",
       "      <td>...</td>\n",
       "      <td>...</td>\n",
       "      <td>...</td>\n",
       "      <td>...</td>\n",
       "      <td>...</td>\n",
       "    </tr>\n",
       "    <tr>\n",
       "      <th>155</th>\n",
       "      <td>Leiden</td>\n",
       "      <td>[4, 1, 9, 4, 0, 10, 2, 11, 1, 13, 7, 2, 3, 1, ...</td>\n",
       "      <td>UcatS</td>\n",
       "      <td>2.00</td>\n",
       "      <td>1948</td>\n",
       "      <td>allen_b08</td>\n",
       "      <td>0.490543</td>\n",
       "      <td>0.789872</td>\n",
       "    </tr>\n",
       "    <tr>\n",
       "      <th>156</th>\n",
       "      <td>K-Means</td>\n",
       "      <td>[9, 0, 2, 9, 3, 8, 6, 2, 0, 1, 3, 6, 1, 0, 0, ...</td>\n",
       "      <td>U</td>\n",
       "      <td>10.00</td>\n",
       "      <td>1948</td>\n",
       "      <td>allen_b08</td>\n",
       "      <td>0.449502</td>\n",
       "      <td>0.734600</td>\n",
       "    </tr>\n",
       "    <tr>\n",
       "      <th>157</th>\n",
       "      <td>K-Means</td>\n",
       "      <td>[0, 1, 5, 0, 4, 6, 2, 3, 1, 6, 4, 2, 7, 1, 1, ...</td>\n",
       "      <td>S</td>\n",
       "      <td>10.00</td>\n",
       "      <td>1948</td>\n",
       "      <td>allen_b08</td>\n",
       "      <td>0.583041</td>\n",
       "      <td>0.798872</td>\n",
       "    </tr>\n",
       "    <tr>\n",
       "      <th>158</th>\n",
       "      <td>K-Means</td>\n",
       "      <td>[2, 0, 3, 2, 1, 8, 6, 3, 0, 8, 1, 6, 5, 0, 0, ...</td>\n",
       "      <td>U+S</td>\n",
       "      <td>10.00</td>\n",
       "      <td>1948</td>\n",
       "      <td>allen_b08</td>\n",
       "      <td>0.572679</td>\n",
       "      <td>0.786544</td>\n",
       "    </tr>\n",
       "    <tr>\n",
       "      <th>159</th>\n",
       "      <td>K-Means</td>\n",
       "      <td>[0, 4, 9, 0, 1, 5, 3, 2, 8, 0, 1, 3, 0, 4, 8, ...</td>\n",
       "      <td>UcatS</td>\n",
       "      <td>10.00</td>\n",
       "      <td>1948</td>\n",
       "      <td>allen_b08</td>\n",
       "      <td>0.628755</td>\n",
       "      <td>0.808533</td>\n",
       "    </tr>\n",
       "  </tbody>\n",
       "</table>\n",
       "<p>160 rows × 8 columns</p>\n",
       "</div>"
      ],
      "text/plain": [
       "      Method                                         Clustering Matrices  \\\n",
       "0     Leiden  [3, 3, 1, 3, 3, 3, 4, 4, 3, 3, 1, 1, 3, 3, 3, ...        U   \n",
       "1     Leiden  [3, 3, 1, 3, 3, 3, 4, 4, 3, 3, 1, 1, 3, 3, 3, ...        S   \n",
       "2     Leiden  [3, 3, 1, 3, 3, 3, 4, 4, 3, 3, 1, 1, 3, 3, 3, ...      U+S   \n",
       "3     Leiden  [3, 3, 1, 3, 3, 3, 4, 4, 3, 3, 1, 1, 3, 3, 3, ...    UcatS   \n",
       "4     Leiden  [3, 3, 1, 3, 3, 3, 4, 4, 3, 3, 1, 1, 3, 3, 3, ...        U   \n",
       "..       ...                                                ...      ...   \n",
       "155   Leiden  [4, 1, 9, 4, 0, 10, 2, 11, 1, 13, 7, 2, 3, 1, ...    UcatS   \n",
       "156  K-Means  [9, 0, 2, 9, 3, 8, 6, 2, 0, 1, 3, 6, 1, 0, 0, ...        U   \n",
       "157  K-Means  [0, 1, 5, 0, 4, 6, 2, 3, 1, 6, 4, 2, 7, 1, 1, ...        S   \n",
       "158  K-Means  [2, 0, 3, 2, 1, 8, 6, 3, 0, 8, 1, 6, 5, 0, 0, ...      U+S   \n",
       "159  K-Means  [0, 4, 9, 0, 1, 5, 3, 2, 8, 0, 1, 3, 0, 4, 8, ...    UcatS   \n",
       "\n",
       "     Hyperparam  HVGs       Data       ARI       AMI  \n",
       "0          0.75   357        cl5  0.948212  0.915683  \n",
       "1          0.75   357        cl5  0.986832  0.975747  \n",
       "2          0.75   357        cl5  0.965742  0.946763  \n",
       "3          0.75   357        cl5  0.965702  0.947080  \n",
       "4          1.00   357        cl5  0.948656  0.916597  \n",
       "..          ...   ...        ...       ...       ...  \n",
       "155        2.00  1948  allen_b08  0.490543  0.789872  \n",
       "156       10.00  1948  allen_b08  0.449502  0.734600  \n",
       "157       10.00  1948  allen_b08  0.583041  0.798872  \n",
       "158       10.00  1948  allen_b08  0.572679  0.786544  \n",
       "159       10.00  1948  allen_b08  0.628755  0.808533  \n",
       "\n",
       "[160 rows x 8 columns]"
      ]
     },
     "execution_count": 13,
     "metadata": {},
     "output_type": "execute_result"
    }
   ],
   "source": [
    "unpickled_df_LK = pd.read_pickle(\"./fits/LeidKMeansruns_0215/LK_res.pkl\")\n",
    "unpickled_df_LK"
   ]
  },
  {
   "cell_type": "code",
   "execution_count": 21,
   "id": "a0ac0173",
   "metadata": {},
   "outputs": [
    {
     "data": {
      "text/html": [
       "<div>\n",
       "<style scoped>\n",
       "    .dataframe tbody tr th:only-of-type {\n",
       "        vertical-align: middle;\n",
       "    }\n",
       "\n",
       "    .dataframe tbody tr th {\n",
       "        vertical-align: top;\n",
       "    }\n",
       "\n",
       "    .dataframe thead th {\n",
       "        text-align: right;\n",
       "    }\n",
       "</style>\n",
       "<table border=\"1\" class=\"dataframe\">\n",
       "  <thead>\n",
       "    <tr style=\"text-align: right;\">\n",
       "      <th></th>\n",
       "      <th>Method</th>\n",
       "      <th>Clustering</th>\n",
       "      <th>Matrices</th>\n",
       "      <th>Hyperparam</th>\n",
       "      <th>HVGs</th>\n",
       "      <th>Data</th>\n",
       "      <th>ARI</th>\n",
       "      <th>AMI</th>\n",
       "    </tr>\n",
       "  </thead>\n",
       "  <tbody>\n",
       "    <tr>\n",
       "      <th>16</th>\n",
       "      <td>K-Means</td>\n",
       "      <td>[0, 0, 1, 0, 0, 0, 3, 3, 0, 0, 1, 1, 0, 0, 0, ...</td>\n",
       "      <td>U</td>\n",
       "      <td>5.0</td>\n",
       "      <td>357</td>\n",
       "      <td>cl5</td>\n",
       "      <td>0.961551</td>\n",
       "      <td>0.935268</td>\n",
       "    </tr>\n",
       "    <tr>\n",
       "      <th>17</th>\n",
       "      <td>K-Means</td>\n",
       "      <td>[0, 0, 4, 0, 0, 0, 3, 3, 0, 0, 4, 4, 0, 0, 0, ...</td>\n",
       "      <td>S</td>\n",
       "      <td>5.0</td>\n",
       "      <td>357</td>\n",
       "      <td>cl5</td>\n",
       "      <td>0.985684</td>\n",
       "      <td>0.971379</td>\n",
       "    </tr>\n",
       "    <tr>\n",
       "      <th>18</th>\n",
       "      <td>K-Means</td>\n",
       "      <td>[0, 0, 2, 0, 0, 0, 4, 4, 0, 0, 2, 2, 0, 0, 0, ...</td>\n",
       "      <td>U+S</td>\n",
       "      <td>5.0</td>\n",
       "      <td>357</td>\n",
       "      <td>cl5</td>\n",
       "      <td>0.986565</td>\n",
       "      <td>0.975978</td>\n",
       "    </tr>\n",
       "    <tr>\n",
       "      <th>19</th>\n",
       "      <td>K-Means</td>\n",
       "      <td>[0, 0, 1, 0, 0, 0, 4, 4, 0, 0, 1, 1, 0, 0, 0, ...</td>\n",
       "      <td>UcatS</td>\n",
       "      <td>5.0</td>\n",
       "      <td>357</td>\n",
       "      <td>cl5</td>\n",
       "      <td>0.984452</td>\n",
       "      <td>0.971651</td>\n",
       "    </tr>\n",
       "    <tr>\n",
       "      <th>36</th>\n",
       "      <td>K-Means</td>\n",
       "      <td>[2, 2, 4, 2, 2, 2, 3, 3, 2, 2, 4, 4, 2, 2, 2, ...</td>\n",
       "      <td>U</td>\n",
       "      <td>5.0</td>\n",
       "      <td>1193</td>\n",
       "      <td>cl5</td>\n",
       "      <td>0.976411</td>\n",
       "      <td>0.958415</td>\n",
       "    </tr>\n",
       "    <tr>\n",
       "      <th>37</th>\n",
       "      <td>K-Means</td>\n",
       "      <td>[3, 3, 1, 3, 3, 3, 0, 0, 3, 3, 1, 1, 3, 3, 3, ...</td>\n",
       "      <td>S</td>\n",
       "      <td>5.0</td>\n",
       "      <td>1193</td>\n",
       "      <td>cl5</td>\n",
       "      <td>0.989094</td>\n",
       "      <td>0.979287</td>\n",
       "    </tr>\n",
       "    <tr>\n",
       "      <th>38</th>\n",
       "      <td>K-Means</td>\n",
       "      <td>[0, 0, 3, 0, 0, 0, 4, 4, 0, 0, 3, 3, 0, 0, 0, ...</td>\n",
       "      <td>U+S</td>\n",
       "      <td>5.0</td>\n",
       "      <td>1193</td>\n",
       "      <td>cl5</td>\n",
       "      <td>0.991180</td>\n",
       "      <td>0.982610</td>\n",
       "    </tr>\n",
       "    <tr>\n",
       "      <th>39</th>\n",
       "      <td>K-Means</td>\n",
       "      <td>[0, 0, 2, 0, 0, 0, 4, 4, 0, 0, 2, 2, 0, 0, 0, ...</td>\n",
       "      <td>UcatS</td>\n",
       "      <td>5.0</td>\n",
       "      <td>1193</td>\n",
       "      <td>cl5</td>\n",
       "      <td>0.989056</td>\n",
       "      <td>0.979051</td>\n",
       "    </tr>\n",
       "    <tr>\n",
       "      <th>56</th>\n",
       "      <td>K-Means</td>\n",
       "      <td>[9, 7, 7, 2, 0, 10, 3, 7, 0, 2, 10, 10, 10, 0,...</td>\n",
       "      <td>U</td>\n",
       "      <td>11.0</td>\n",
       "      <td>359</td>\n",
       "      <td>allen_b02h01a02</td>\n",
       "      <td>0.621291</td>\n",
       "      <td>0.800626</td>\n",
       "    </tr>\n",
       "    <tr>\n",
       "      <th>57</th>\n",
       "      <td>K-Means</td>\n",
       "      <td>[5, 10, 10, 0, 4, 6, 7, 10, 6, 0, 1, 2, 1, 4, ...</td>\n",
       "      <td>S</td>\n",
       "      <td>11.0</td>\n",
       "      <td>359</td>\n",
       "      <td>allen_b02h01a02</td>\n",
       "      <td>0.568339</td>\n",
       "      <td>0.694427</td>\n",
       "    </tr>\n",
       "    <tr>\n",
       "      <th>58</th>\n",
       "      <td>K-Means</td>\n",
       "      <td>[10, 3, 3, 4, 0, 2, 6, 3, 0, 4, 2, 2, 2, 9, 3,...</td>\n",
       "      <td>U+S</td>\n",
       "      <td>11.0</td>\n",
       "      <td>359</td>\n",
       "      <td>allen_b02h01a02</td>\n",
       "      <td>0.615614</td>\n",
       "      <td>0.790387</td>\n",
       "    </tr>\n",
       "    <tr>\n",
       "      <th>59</th>\n",
       "      <td>K-Means</td>\n",
       "      <td>[7, 9, 9, 6, 10, 8, 5, 9, 10, 6, 8, 2, 8, 10, ...</td>\n",
       "      <td>UcatS</td>\n",
       "      <td>11.0</td>\n",
       "      <td>359</td>\n",
       "      <td>allen_b02h01a02</td>\n",
       "      <td>0.617297</td>\n",
       "      <td>0.799530</td>\n",
       "    </tr>\n",
       "    <tr>\n",
       "      <th>76</th>\n",
       "      <td>K-Means</td>\n",
       "      <td>[1, 0, 1, 1, 1, 0, 1, 1, 1, 1, 0, 1, 1, 1, 0, ...</td>\n",
       "      <td>U</td>\n",
       "      <td>3.0</td>\n",
       "      <td>466</td>\n",
       "      <td>cl3</td>\n",
       "      <td>0.986590</td>\n",
       "      <td>0.974196</td>\n",
       "    </tr>\n",
       "    <tr>\n",
       "      <th>77</th>\n",
       "      <td>K-Means</td>\n",
       "      <td>[2, 2, 2, 2, 2, 1, 2, 2, 2, 2, 1, 2, 2, 2, 1, ...</td>\n",
       "      <td>S</td>\n",
       "      <td>3.0</td>\n",
       "      <td>466</td>\n",
       "      <td>cl3</td>\n",
       "      <td>0.993278</td>\n",
       "      <td>0.986393</td>\n",
       "    </tr>\n",
       "    <tr>\n",
       "      <th>78</th>\n",
       "      <td>K-Means</td>\n",
       "      <td>[1, 1, 1, 1, 1, 2, 1, 1, 1, 1, 2, 1, 1, 1, 2, ...</td>\n",
       "      <td>U+S</td>\n",
       "      <td>3.0</td>\n",
       "      <td>466</td>\n",
       "      <td>cl3</td>\n",
       "      <td>0.993278</td>\n",
       "      <td>0.986393</td>\n",
       "    </tr>\n",
       "    <tr>\n",
       "      <th>79</th>\n",
       "      <td>K-Means</td>\n",
       "      <td>[1, 1, 1, 1, 1, 2, 1, 1, 1, 1, 2, 1, 1, 1, 2, ...</td>\n",
       "      <td>UcatS</td>\n",
       "      <td>3.0</td>\n",
       "      <td>466</td>\n",
       "      <td>cl3</td>\n",
       "      <td>0.993278</td>\n",
       "      <td>0.986393</td>\n",
       "    </tr>\n",
       "    <tr>\n",
       "      <th>96</th>\n",
       "      <td>K-Means</td>\n",
       "      <td>[0, 7, 9, 0, 1, 6, 2, 5, 7, 3, 1, 2, 4, 7, 7, ...</td>\n",
       "      <td>U</td>\n",
       "      <td>10.0</td>\n",
       "      <td>682</td>\n",
       "      <td>allen_b08</td>\n",
       "      <td>0.568171</td>\n",
       "      <td>0.789347</td>\n",
       "    </tr>\n",
       "    <tr>\n",
       "      <th>97</th>\n",
       "      <td>K-Means</td>\n",
       "      <td>[0, 1, 3, 0, 2, 4, 5, 9, 1, 4, 7, 5, 0, 1, 1, ...</td>\n",
       "      <td>S</td>\n",
       "      <td>10.0</td>\n",
       "      <td>682</td>\n",
       "      <td>allen_b08</td>\n",
       "      <td>0.561091</td>\n",
       "      <td>0.794990</td>\n",
       "    </tr>\n",
       "    <tr>\n",
       "      <th>98</th>\n",
       "      <td>K-Means</td>\n",
       "      <td>[0, 2, 5, 0, 6, 8, 7, 4, 2, 0, 6, 7, 0, 2, 2, ...</td>\n",
       "      <td>U+S</td>\n",
       "      <td>10.0</td>\n",
       "      <td>682</td>\n",
       "      <td>allen_b08</td>\n",
       "      <td>0.561130</td>\n",
       "      <td>0.792332</td>\n",
       "    </tr>\n",
       "    <tr>\n",
       "      <th>99</th>\n",
       "      <td>K-Means</td>\n",
       "      <td>[2, 0, 8, 2, 7, 9, 6, 4, 0, 2, 7, 6, 2, 0, 0, ...</td>\n",
       "      <td>UcatS</td>\n",
       "      <td>10.0</td>\n",
       "      <td>682</td>\n",
       "      <td>allen_b08</td>\n",
       "      <td>0.561342</td>\n",
       "      <td>0.794814</td>\n",
       "    </tr>\n",
       "    <tr>\n",
       "      <th>116</th>\n",
       "      <td>K-Means</td>\n",
       "      <td>[9, 10, 10, 1, 4, 3, 2, 10, 4, 1, 3, 7, 7, 4, ...</td>\n",
       "      <td>U</td>\n",
       "      <td>11.0</td>\n",
       "      <td>2770</td>\n",
       "      <td>allen_b02h01a02</td>\n",
       "      <td>0.568119</td>\n",
       "      <td>0.760267</td>\n",
       "    </tr>\n",
       "    <tr>\n",
       "      <th>117</th>\n",
       "      <td>K-Means</td>\n",
       "      <td>[6, 1, 1, 3, 10, 9, 8, 1, 2, 3, 9, 5, 2, 10, 1...</td>\n",
       "      <td>S</td>\n",
       "      <td>11.0</td>\n",
       "      <td>2770</td>\n",
       "      <td>allen_b02h01a02</td>\n",
       "      <td>0.500026</td>\n",
       "      <td>0.680573</td>\n",
       "    </tr>\n",
       "    <tr>\n",
       "      <th>118</th>\n",
       "      <td>K-Means</td>\n",
       "      <td>[4, 0, 0, 3, 8, 9, 2, 0, 8, 3, 9, 9, 1, 8, 0, ...</td>\n",
       "      <td>U+S</td>\n",
       "      <td>11.0</td>\n",
       "      <td>2770</td>\n",
       "      <td>allen_b02h01a02</td>\n",
       "      <td>0.529460</td>\n",
       "      <td>0.753200</td>\n",
       "    </tr>\n",
       "    <tr>\n",
       "      <th>119</th>\n",
       "      <td>K-Means</td>\n",
       "      <td>[1, 9, 9, 8, 2, 3, 6, 9, 2, 8, 3, 3, 3, 2, 9, ...</td>\n",
       "      <td>UcatS</td>\n",
       "      <td>11.0</td>\n",
       "      <td>2770</td>\n",
       "      <td>allen_b02h01a02</td>\n",
       "      <td>0.548104</td>\n",
       "      <td>0.743446</td>\n",
       "    </tr>\n",
       "    <tr>\n",
       "      <th>136</th>\n",
       "      <td>K-Means</td>\n",
       "      <td>[2, 2, 2, 2, 2, 1, 2, 2, 2, 2, 1, 2, 2, 2, 1, ...</td>\n",
       "      <td>U</td>\n",
       "      <td>3.0</td>\n",
       "      <td>1137</td>\n",
       "      <td>cl3</td>\n",
       "      <td>0.986588</td>\n",
       "      <td>0.974199</td>\n",
       "    </tr>\n",
       "    <tr>\n",
       "      <th>137</th>\n",
       "      <td>K-Means</td>\n",
       "      <td>[2, 2, 2, 2, 2, 1, 2, 2, 2, 2, 1, 2, 2, 2, 1, ...</td>\n",
       "      <td>S</td>\n",
       "      <td>3.0</td>\n",
       "      <td>1137</td>\n",
       "      <td>cl3</td>\n",
       "      <td>0.996536</td>\n",
       "      <td>0.993165</td>\n",
       "    </tr>\n",
       "    <tr>\n",
       "      <th>138</th>\n",
       "      <td>K-Means</td>\n",
       "      <td>[1, 1, 1, 1, 1, 2, 1, 1, 1, 1, 2, 1, 1, 1, 2, ...</td>\n",
       "      <td>U+S</td>\n",
       "      <td>3.0</td>\n",
       "      <td>1137</td>\n",
       "      <td>cl3</td>\n",
       "      <td>0.990040</td>\n",
       "      <td>0.979630</td>\n",
       "    </tr>\n",
       "    <tr>\n",
       "      <th>139</th>\n",
       "      <td>K-Means</td>\n",
       "      <td>[1, 1, 1, 1, 1, 2, 1, 1, 1, 1, 2, 1, 1, 1, 2, ...</td>\n",
       "      <td>UcatS</td>\n",
       "      <td>3.0</td>\n",
       "      <td>1137</td>\n",
       "      <td>cl3</td>\n",
       "      <td>0.993293</td>\n",
       "      <td>0.986400</td>\n",
       "    </tr>\n",
       "    <tr>\n",
       "      <th>156</th>\n",
       "      <td>K-Means</td>\n",
       "      <td>[9, 0, 2, 9, 3, 8, 6, 2, 0, 1, 3, 6, 1, 0, 0, ...</td>\n",
       "      <td>U</td>\n",
       "      <td>10.0</td>\n",
       "      <td>1948</td>\n",
       "      <td>allen_b08</td>\n",
       "      <td>0.449502</td>\n",
       "      <td>0.734600</td>\n",
       "    </tr>\n",
       "    <tr>\n",
       "      <th>157</th>\n",
       "      <td>K-Means</td>\n",
       "      <td>[0, 1, 5, 0, 4, 6, 2, 3, 1, 6, 4, 2, 7, 1, 1, ...</td>\n",
       "      <td>S</td>\n",
       "      <td>10.0</td>\n",
       "      <td>1948</td>\n",
       "      <td>allen_b08</td>\n",
       "      <td>0.583041</td>\n",
       "      <td>0.798872</td>\n",
       "    </tr>\n",
       "    <tr>\n",
       "      <th>158</th>\n",
       "      <td>K-Means</td>\n",
       "      <td>[2, 0, 3, 2, 1, 8, 6, 3, 0, 8, 1, 6, 5, 0, 0, ...</td>\n",
       "      <td>U+S</td>\n",
       "      <td>10.0</td>\n",
       "      <td>1948</td>\n",
       "      <td>allen_b08</td>\n",
       "      <td>0.572679</td>\n",
       "      <td>0.786544</td>\n",
       "    </tr>\n",
       "    <tr>\n",
       "      <th>159</th>\n",
       "      <td>K-Means</td>\n",
       "      <td>[0, 4, 9, 0, 1, 5, 3, 2, 8, 0, 1, 3, 0, 4, 8, ...</td>\n",
       "      <td>UcatS</td>\n",
       "      <td>10.0</td>\n",
       "      <td>1948</td>\n",
       "      <td>allen_b08</td>\n",
       "      <td>0.628755</td>\n",
       "      <td>0.808533</td>\n",
       "    </tr>\n",
       "  </tbody>\n",
       "</table>\n",
       "</div>"
      ],
      "text/plain": [
       "      Method                                         Clustering Matrices  \\\n",
       "16   K-Means  [0, 0, 1, 0, 0, 0, 3, 3, 0, 0, 1, 1, 0, 0, 0, ...        U   \n",
       "17   K-Means  [0, 0, 4, 0, 0, 0, 3, 3, 0, 0, 4, 4, 0, 0, 0, ...        S   \n",
       "18   K-Means  [0, 0, 2, 0, 0, 0, 4, 4, 0, 0, 2, 2, 0, 0, 0, ...      U+S   \n",
       "19   K-Means  [0, 0, 1, 0, 0, 0, 4, 4, 0, 0, 1, 1, 0, 0, 0, ...    UcatS   \n",
       "36   K-Means  [2, 2, 4, 2, 2, 2, 3, 3, 2, 2, 4, 4, 2, 2, 2, ...        U   \n",
       "37   K-Means  [3, 3, 1, 3, 3, 3, 0, 0, 3, 3, 1, 1, 3, 3, 3, ...        S   \n",
       "38   K-Means  [0, 0, 3, 0, 0, 0, 4, 4, 0, 0, 3, 3, 0, 0, 0, ...      U+S   \n",
       "39   K-Means  [0, 0, 2, 0, 0, 0, 4, 4, 0, 0, 2, 2, 0, 0, 0, ...    UcatS   \n",
       "56   K-Means  [9, 7, 7, 2, 0, 10, 3, 7, 0, 2, 10, 10, 10, 0,...        U   \n",
       "57   K-Means  [5, 10, 10, 0, 4, 6, 7, 10, 6, 0, 1, 2, 1, 4, ...        S   \n",
       "58   K-Means  [10, 3, 3, 4, 0, 2, 6, 3, 0, 4, 2, 2, 2, 9, 3,...      U+S   \n",
       "59   K-Means  [7, 9, 9, 6, 10, 8, 5, 9, 10, 6, 8, 2, 8, 10, ...    UcatS   \n",
       "76   K-Means  [1, 0, 1, 1, 1, 0, 1, 1, 1, 1, 0, 1, 1, 1, 0, ...        U   \n",
       "77   K-Means  [2, 2, 2, 2, 2, 1, 2, 2, 2, 2, 1, 2, 2, 2, 1, ...        S   \n",
       "78   K-Means  [1, 1, 1, 1, 1, 2, 1, 1, 1, 1, 2, 1, 1, 1, 2, ...      U+S   \n",
       "79   K-Means  [1, 1, 1, 1, 1, 2, 1, 1, 1, 1, 2, 1, 1, 1, 2, ...    UcatS   \n",
       "96   K-Means  [0, 7, 9, 0, 1, 6, 2, 5, 7, 3, 1, 2, 4, 7, 7, ...        U   \n",
       "97   K-Means  [0, 1, 3, 0, 2, 4, 5, 9, 1, 4, 7, 5, 0, 1, 1, ...        S   \n",
       "98   K-Means  [0, 2, 5, 0, 6, 8, 7, 4, 2, 0, 6, 7, 0, 2, 2, ...      U+S   \n",
       "99   K-Means  [2, 0, 8, 2, 7, 9, 6, 4, 0, 2, 7, 6, 2, 0, 0, ...    UcatS   \n",
       "116  K-Means  [9, 10, 10, 1, 4, 3, 2, 10, 4, 1, 3, 7, 7, 4, ...        U   \n",
       "117  K-Means  [6, 1, 1, 3, 10, 9, 8, 1, 2, 3, 9, 5, 2, 10, 1...        S   \n",
       "118  K-Means  [4, 0, 0, 3, 8, 9, 2, 0, 8, 3, 9, 9, 1, 8, 0, ...      U+S   \n",
       "119  K-Means  [1, 9, 9, 8, 2, 3, 6, 9, 2, 8, 3, 3, 3, 2, 9, ...    UcatS   \n",
       "136  K-Means  [2, 2, 2, 2, 2, 1, 2, 2, 2, 2, 1, 2, 2, 2, 1, ...        U   \n",
       "137  K-Means  [2, 2, 2, 2, 2, 1, 2, 2, 2, 2, 1, 2, 2, 2, 1, ...        S   \n",
       "138  K-Means  [1, 1, 1, 1, 1, 2, 1, 1, 1, 1, 2, 1, 1, 1, 2, ...      U+S   \n",
       "139  K-Means  [1, 1, 1, 1, 1, 2, 1, 1, 1, 1, 2, 1, 1, 1, 2, ...    UcatS   \n",
       "156  K-Means  [9, 0, 2, 9, 3, 8, 6, 2, 0, 1, 3, 6, 1, 0, 0, ...        U   \n",
       "157  K-Means  [0, 1, 5, 0, 4, 6, 2, 3, 1, 6, 4, 2, 7, 1, 1, ...        S   \n",
       "158  K-Means  [2, 0, 3, 2, 1, 8, 6, 3, 0, 8, 1, 6, 5, 0, 0, ...      U+S   \n",
       "159  K-Means  [0, 4, 9, 0, 1, 5, 3, 2, 8, 0, 1, 3, 0, 4, 8, ...    UcatS   \n",
       "\n",
       "     Hyperparam  HVGs             Data       ARI       AMI  \n",
       "16          5.0   357              cl5  0.961551  0.935268  \n",
       "17          5.0   357              cl5  0.985684  0.971379  \n",
       "18          5.0   357              cl5  0.986565  0.975978  \n",
       "19          5.0   357              cl5  0.984452  0.971651  \n",
       "36          5.0  1193              cl5  0.976411  0.958415  \n",
       "37          5.0  1193              cl5  0.989094  0.979287  \n",
       "38          5.0  1193              cl5  0.991180  0.982610  \n",
       "39          5.0  1193              cl5  0.989056  0.979051  \n",
       "56         11.0   359  allen_b02h01a02  0.621291  0.800626  \n",
       "57         11.0   359  allen_b02h01a02  0.568339  0.694427  \n",
       "58         11.0   359  allen_b02h01a02  0.615614  0.790387  \n",
       "59         11.0   359  allen_b02h01a02  0.617297  0.799530  \n",
       "76          3.0   466              cl3  0.986590  0.974196  \n",
       "77          3.0   466              cl3  0.993278  0.986393  \n",
       "78          3.0   466              cl3  0.993278  0.986393  \n",
       "79          3.0   466              cl3  0.993278  0.986393  \n",
       "96         10.0   682        allen_b08  0.568171  0.789347  \n",
       "97         10.0   682        allen_b08  0.561091  0.794990  \n",
       "98         10.0   682        allen_b08  0.561130  0.792332  \n",
       "99         10.0   682        allen_b08  0.561342  0.794814  \n",
       "116        11.0  2770  allen_b02h01a02  0.568119  0.760267  \n",
       "117        11.0  2770  allen_b02h01a02  0.500026  0.680573  \n",
       "118        11.0  2770  allen_b02h01a02  0.529460  0.753200  \n",
       "119        11.0  2770  allen_b02h01a02  0.548104  0.743446  \n",
       "136         3.0  1137              cl3  0.986588  0.974199  \n",
       "137         3.0  1137              cl3  0.996536  0.993165  \n",
       "138         3.0  1137              cl3  0.990040  0.979630  \n",
       "139         3.0  1137              cl3  0.993293  0.986400  \n",
       "156        10.0  1948        allen_b08  0.449502  0.734600  \n",
       "157        10.0  1948        allen_b08  0.583041  0.798872  \n",
       "158        10.0  1948        allen_b08  0.572679  0.786544  \n",
       "159        10.0  1948        allen_b08  0.628755  0.808533  "
      ]
     },
     "execution_count": 21,
     "metadata": {},
     "output_type": "execute_result"
    }
   ],
   "source": [
    "unpickled_df_LK[unpickled_df_LK.Method.isin(['K-Means']) ]"
   ]
  },
  {
   "cell_type": "code",
   "execution_count": 23,
   "id": "024af698",
   "metadata": {},
   "outputs": [
    {
     "data": {
      "text/html": [
       "<div>\n",
       "<style scoped>\n",
       "    .dataframe tbody tr th:only-of-type {\n",
       "        vertical-align: middle;\n",
       "    }\n",
       "\n",
       "    .dataframe tbody tr th {\n",
       "        vertical-align: top;\n",
       "    }\n",
       "\n",
       "    .dataframe thead th {\n",
       "        text-align: right;\n",
       "    }\n",
       "</style>\n",
       "<table border=\"1\" class=\"dataframe\">\n",
       "  <thead>\n",
       "    <tr style=\"text-align: right;\">\n",
       "      <th></th>\n",
       "      <th>Method</th>\n",
       "      <th>Clustering</th>\n",
       "      <th>Matrices</th>\n",
       "      <th>Hyperparam</th>\n",
       "      <th>HVGs</th>\n",
       "      <th>Data</th>\n",
       "      <th>ARI</th>\n",
       "      <th>AMI</th>\n",
       "    </tr>\n",
       "  </thead>\n",
       "  <tbody>\n",
       "    <tr>\n",
       "      <th>4</th>\n",
       "      <td>Leiden</td>\n",
       "      <td>[3, 3, 1, 3, 3, 3, 4, 4, 3, 3, 1, 1, 3, 3, 3, ...</td>\n",
       "      <td>U</td>\n",
       "      <td>1.0</td>\n",
       "      <td>357</td>\n",
       "      <td>cl5</td>\n",
       "      <td>0.948656</td>\n",
       "      <td>0.916597</td>\n",
       "    </tr>\n",
       "    <tr>\n",
       "      <th>5</th>\n",
       "      <td>Leiden</td>\n",
       "      <td>[3, 3, 1, 3, 3, 3, 5, 5, 3, 3, 1, 1, 3, 3, 3, ...</td>\n",
       "      <td>S</td>\n",
       "      <td>1.0</td>\n",
       "      <td>357</td>\n",
       "      <td>cl5</td>\n",
       "      <td>0.846898</td>\n",
       "      <td>0.900251</td>\n",
       "    </tr>\n",
       "    <tr>\n",
       "      <th>6</th>\n",
       "      <td>Leiden</td>\n",
       "      <td>[3, 3, 1, 3, 3, 3, 5, 5, 3, 3, 1, 1, 3, 3, 3, ...</td>\n",
       "      <td>U+S</td>\n",
       "      <td>1.0</td>\n",
       "      <td>357</td>\n",
       "      <td>cl5</td>\n",
       "      <td>0.833441</td>\n",
       "      <td>0.893414</td>\n",
       "    </tr>\n",
       "    <tr>\n",
       "      <th>7</th>\n",
       "      <td>Leiden</td>\n",
       "      <td>[3, 3, 1, 3, 3, 3, 5, 5, 3, 3, 1, 1, 3, 3, 3, ...</td>\n",
       "      <td>UcatS</td>\n",
       "      <td>1.0</td>\n",
       "      <td>357</td>\n",
       "      <td>cl5</td>\n",
       "      <td>0.841939</td>\n",
       "      <td>0.893758</td>\n",
       "    </tr>\n",
       "    <tr>\n",
       "      <th>24</th>\n",
       "      <td>Leiden</td>\n",
       "      <td>[3, 3, 1, 3, 3, 3, 4, 4, 3, 3, 1, 1, 3, 3, 3, ...</td>\n",
       "      <td>U</td>\n",
       "      <td>1.0</td>\n",
       "      <td>1193</td>\n",
       "      <td>cl5</td>\n",
       "      <td>0.939578</td>\n",
       "      <td>0.906968</td>\n",
       "    </tr>\n",
       "    <tr>\n",
       "      <th>25</th>\n",
       "      <td>Leiden</td>\n",
       "      <td>[3, 3, 1, 3, 3, 3, 5, 5, 3, 3, 1, 1, 3, 3, 3, ...</td>\n",
       "      <td>S</td>\n",
       "      <td>1.0</td>\n",
       "      <td>1193</td>\n",
       "      <td>cl5</td>\n",
       "      <td>0.839479</td>\n",
       "      <td>0.883125</td>\n",
       "    </tr>\n",
       "    <tr>\n",
       "      <th>26</th>\n",
       "      <td>Leiden</td>\n",
       "      <td>[3, 3, 2, 3, 3, 3, 5, 5, 3, 3, 2, 2, 3, 3, 3, ...</td>\n",
       "      <td>U+S</td>\n",
       "      <td>1.0</td>\n",
       "      <td>1193</td>\n",
       "      <td>cl5</td>\n",
       "      <td>0.769814</td>\n",
       "      <td>0.865851</td>\n",
       "    </tr>\n",
       "    <tr>\n",
       "      <th>27</th>\n",
       "      <td>Leiden</td>\n",
       "      <td>[3, 3, 1, 3, 3, 3, 4, 4, 3, 3, 1, 1, 3, 3, 3, ...</td>\n",
       "      <td>UcatS</td>\n",
       "      <td>1.0</td>\n",
       "      <td>1193</td>\n",
       "      <td>cl5</td>\n",
       "      <td>0.851972</td>\n",
       "      <td>0.903597</td>\n",
       "    </tr>\n",
       "    <tr>\n",
       "      <th>44</th>\n",
       "      <td>Leiden</td>\n",
       "      <td>[10, 1, 1, 5, 2, 3, 8, 1, 2, 5, 3, 0, 0, 2, 1,...</td>\n",
       "      <td>U</td>\n",
       "      <td>1.0</td>\n",
       "      <td>359</td>\n",
       "      <td>allen_b02h01a02</td>\n",
       "      <td>0.654273</td>\n",
       "      <td>0.823200</td>\n",
       "    </tr>\n",
       "    <tr>\n",
       "      <th>45</th>\n",
       "      <td>Leiden</td>\n",
       "      <td>[6, 0, 0, 4, 3, 1, 5, 0, 0, 4, 1, 2, 1, 3, 0, ...</td>\n",
       "      <td>S</td>\n",
       "      <td>1.0</td>\n",
       "      <td>359</td>\n",
       "      <td>allen_b02h01a02</td>\n",
       "      <td>0.554039</td>\n",
       "      <td>0.646380</td>\n",
       "    </tr>\n",
       "    <tr>\n",
       "      <th>46</th>\n",
       "      <td>Leiden</td>\n",
       "      <td>[11, 1, 1, 5, 2, 3, 8, 1, 2, 5, 3, 0, 0, 2, 1,...</td>\n",
       "      <td>U+S</td>\n",
       "      <td>1.0</td>\n",
       "      <td>359</td>\n",
       "      <td>allen_b02h01a02</td>\n",
       "      <td>0.654277</td>\n",
       "      <td>0.824783</td>\n",
       "    </tr>\n",
       "    <tr>\n",
       "      <th>47</th>\n",
       "      <td>Leiden</td>\n",
       "      <td>[10, 1, 1, 5, 2, 3, 8, 1, 2, 5, 3, 0, 0, 2, 1,...</td>\n",
       "      <td>UcatS</td>\n",
       "      <td>1.0</td>\n",
       "      <td>359</td>\n",
       "      <td>allen_b02h01a02</td>\n",
       "      <td>0.653671</td>\n",
       "      <td>0.823722</td>\n",
       "    </tr>\n",
       "    <tr>\n",
       "      <th>64</th>\n",
       "      <td>Leiden</td>\n",
       "      <td>[1, 1, 1, 1, 1, 0, 1, 1, 1, 1, 0, 1, 1, 1, 0, ...</td>\n",
       "      <td>U</td>\n",
       "      <td>1.0</td>\n",
       "      <td>466</td>\n",
       "      <td>cl3</td>\n",
       "      <td>0.853643</td>\n",
       "      <td>0.877056</td>\n",
       "    </tr>\n",
       "    <tr>\n",
       "      <th>65</th>\n",
       "      <td>Leiden</td>\n",
       "      <td>[0, 0, 0, 0, 0, 2, 0, 0, 0, 0, 2, 0, 0, 0, 3, ...</td>\n",
       "      <td>S</td>\n",
       "      <td>1.0</td>\n",
       "      <td>466</td>\n",
       "      <td>cl3</td>\n",
       "      <td>0.728959</td>\n",
       "      <td>0.815635</td>\n",
       "    </tr>\n",
       "    <tr>\n",
       "      <th>66</th>\n",
       "      <td>Leiden</td>\n",
       "      <td>[0, 0, 0, 0, 0, 2, 0, 0, 0, 0, 2, 0, 0, 0, 3, ...</td>\n",
       "      <td>U+S</td>\n",
       "      <td>1.0</td>\n",
       "      <td>466</td>\n",
       "      <td>cl3</td>\n",
       "      <td>0.723654</td>\n",
       "      <td>0.810425</td>\n",
       "    </tr>\n",
       "    <tr>\n",
       "      <th>67</th>\n",
       "      <td>Leiden</td>\n",
       "      <td>[0, 0, 0, 0, 0, 2, 0, 0, 0, 0, 2, 0, 0, 0, 3, ...</td>\n",
       "      <td>UcatS</td>\n",
       "      <td>1.0</td>\n",
       "      <td>466</td>\n",
       "      <td>cl3</td>\n",
       "      <td>0.729116</td>\n",
       "      <td>0.816607</td>\n",
       "    </tr>\n",
       "    <tr>\n",
       "      <th>84</th>\n",
       "      <td>Leiden</td>\n",
       "      <td>[3, 1, 7, 3, 0, 9, 2, 10, 1, 11, 0, 2, 4, 1, 1...</td>\n",
       "      <td>U</td>\n",
       "      <td>1.0</td>\n",
       "      <td>682</td>\n",
       "      <td>allen_b08</td>\n",
       "      <td>0.572253</td>\n",
       "      <td>0.809545</td>\n",
       "    </tr>\n",
       "    <tr>\n",
       "      <th>85</th>\n",
       "      <td>Leiden</td>\n",
       "      <td>[2, 1, 7, 2, 0, 9, 3, 10, 1, 4, 0, 3, 4, 1, 1,...</td>\n",
       "      <td>S</td>\n",
       "      <td>1.0</td>\n",
       "      <td>682</td>\n",
       "      <td>allen_b08</td>\n",
       "      <td>0.573326</td>\n",
       "      <td>0.808092</td>\n",
       "    </tr>\n",
       "    <tr>\n",
       "      <th>86</th>\n",
       "      <td>Leiden</td>\n",
       "      <td>[3, 1, 7, 3, 0, 9, 2, 10, 1, 11, 0, 2, 4, 1, 1...</td>\n",
       "      <td>U+S</td>\n",
       "      <td>1.0</td>\n",
       "      <td>682</td>\n",
       "      <td>allen_b08</td>\n",
       "      <td>0.575094</td>\n",
       "      <td>0.815383</td>\n",
       "    </tr>\n",
       "    <tr>\n",
       "      <th>87</th>\n",
       "      <td>Leiden</td>\n",
       "      <td>[3, 1, 7, 3, 0, 9, 2, 10, 1, 11, 0, 2, 4, 1, 1...</td>\n",
       "      <td>UcatS</td>\n",
       "      <td>1.0</td>\n",
       "      <td>682</td>\n",
       "      <td>allen_b08</td>\n",
       "      <td>0.575348</td>\n",
       "      <td>0.814595</td>\n",
       "    </tr>\n",
       "    <tr>\n",
       "      <th>104</th>\n",
       "      <td>Leiden</td>\n",
       "      <td>[9, 0, 0, 5, 3, 2, 7, 0, 3, 5, 2, 1, 1, 3, 0, ...</td>\n",
       "      <td>U</td>\n",
       "      <td>1.0</td>\n",
       "      <td>2770</td>\n",
       "      <td>allen_b02h01a02</td>\n",
       "      <td>0.744210</td>\n",
       "      <td>0.843668</td>\n",
       "    </tr>\n",
       "    <tr>\n",
       "      <th>105</th>\n",
       "      <td>Leiden</td>\n",
       "      <td>[2, 1, 1, 2, 6, 1, 4, 1, 4, 2, 3, 0, 3, 0, 1, ...</td>\n",
       "      <td>S</td>\n",
       "      <td>1.0</td>\n",
       "      <td>2770</td>\n",
       "      <td>allen_b02h01a02</td>\n",
       "      <td>0.319125</td>\n",
       "      <td>0.346050</td>\n",
       "    </tr>\n",
       "    <tr>\n",
       "      <th>106</th>\n",
       "      <td>Leiden</td>\n",
       "      <td>[10, 2, 2, 6, 3, 1, 8, 2, 3, 6, 1, 0, 0, 3, 2,...</td>\n",
       "      <td>U+S</td>\n",
       "      <td>1.0</td>\n",
       "      <td>2770</td>\n",
       "      <td>allen_b02h01a02</td>\n",
       "      <td>0.636462</td>\n",
       "      <td>0.800609</td>\n",
       "    </tr>\n",
       "    <tr>\n",
       "      <th>107</th>\n",
       "      <td>Leiden</td>\n",
       "      <td>[9, 1, 1, 4, 5, 2, 7, 1, 5, 4, 2, 0, 0, 2, 1, ...</td>\n",
       "      <td>UcatS</td>\n",
       "      <td>1.0</td>\n",
       "      <td>2770</td>\n",
       "      <td>allen_b02h01a02</td>\n",
       "      <td>0.697810</td>\n",
       "      <td>0.809352</td>\n",
       "    </tr>\n",
       "    <tr>\n",
       "      <th>124</th>\n",
       "      <td>Leiden</td>\n",
       "      <td>[2, 2, 2, 2, 2, 1, 2, 2, 2, 2, 1, 2, 2, 2, 1, ...</td>\n",
       "      <td>U</td>\n",
       "      <td>1.0</td>\n",
       "      <td>1137</td>\n",
       "      <td>cl3</td>\n",
       "      <td>0.989846</td>\n",
       "      <td>0.980971</td>\n",
       "    </tr>\n",
       "    <tr>\n",
       "      <th>125</th>\n",
       "      <td>Leiden</td>\n",
       "      <td>[0, 0, 0, 0, 0, 2, 0, 0, 0, 0, 2, 0, 0, 0, 3, ...</td>\n",
       "      <td>S</td>\n",
       "      <td>1.0</td>\n",
       "      <td>1137</td>\n",
       "      <td>cl3</td>\n",
       "      <td>0.739695</td>\n",
       "      <td>0.823770</td>\n",
       "    </tr>\n",
       "    <tr>\n",
       "      <th>126</th>\n",
       "      <td>Leiden</td>\n",
       "      <td>[2, 4, 4, 4, 2, 1, 2, 2, 4, 4, 1, 2, 4, 4, 3, ...</td>\n",
       "      <td>U+S</td>\n",
       "      <td>1.0</td>\n",
       "      <td>1137</td>\n",
       "      <td>cl3</td>\n",
       "      <td>0.609564</td>\n",
       "      <td>0.758451</td>\n",
       "    </tr>\n",
       "    <tr>\n",
       "      <th>127</th>\n",
       "      <td>Leiden</td>\n",
       "      <td>[0, 0, 0, 0, 0, 2, 0, 0, 0, 0, 2, 0, 0, 0, 3, ...</td>\n",
       "      <td>UcatS</td>\n",
       "      <td>1.0</td>\n",
       "      <td>1137</td>\n",
       "      <td>cl3</td>\n",
       "      <td>0.731710</td>\n",
       "      <td>0.817557</td>\n",
       "    </tr>\n",
       "    <tr>\n",
       "      <th>144</th>\n",
       "      <td>Leiden</td>\n",
       "      <td>[0, 2, 6, 0, 1, 8, 3, 9, 2, 10, 1, 3, 0, 2, 2,...</td>\n",
       "      <td>U</td>\n",
       "      <td>1.0</td>\n",
       "      <td>1948</td>\n",
       "      <td>allen_b08</td>\n",
       "      <td>0.659182</td>\n",
       "      <td>0.838580</td>\n",
       "    </tr>\n",
       "    <tr>\n",
       "      <th>145</th>\n",
       "      <td>Leiden</td>\n",
       "      <td>[2, 1, 7, 2, 0, 9, 3, 10, 1, 11, 0, 3, 4, 1, 1...</td>\n",
       "      <td>S</td>\n",
       "      <td>1.0</td>\n",
       "      <td>1948</td>\n",
       "      <td>allen_b08</td>\n",
       "      <td>0.580586</td>\n",
       "      <td>0.813102</td>\n",
       "    </tr>\n",
       "    <tr>\n",
       "      <th>146</th>\n",
       "      <td>Leiden</td>\n",
       "      <td>[4, 1, 7, 4, 0, 9, 2, 10, 1, 11, 0, 2, 3, 1, 1...</td>\n",
       "      <td>U+S</td>\n",
       "      <td>1.0</td>\n",
       "      <td>1948</td>\n",
       "      <td>allen_b08</td>\n",
       "      <td>0.567254</td>\n",
       "      <td>0.808693</td>\n",
       "    </tr>\n",
       "    <tr>\n",
       "      <th>147</th>\n",
       "      <td>Leiden</td>\n",
       "      <td>[4, 1, 7, 4, 0, 9, 3, 10, 1, 11, 0, 3, 2, 1, 1...</td>\n",
       "      <td>UcatS</td>\n",
       "      <td>1.0</td>\n",
       "      <td>1948</td>\n",
       "      <td>allen_b08</td>\n",
       "      <td>0.568488</td>\n",
       "      <td>0.807734</td>\n",
       "    </tr>\n",
       "  </tbody>\n",
       "</table>\n",
       "</div>"
      ],
      "text/plain": [
       "     Method                                         Clustering Matrices  \\\n",
       "4    Leiden  [3, 3, 1, 3, 3, 3, 4, 4, 3, 3, 1, 1, 3, 3, 3, ...        U   \n",
       "5    Leiden  [3, 3, 1, 3, 3, 3, 5, 5, 3, 3, 1, 1, 3, 3, 3, ...        S   \n",
       "6    Leiden  [3, 3, 1, 3, 3, 3, 5, 5, 3, 3, 1, 1, 3, 3, 3, ...      U+S   \n",
       "7    Leiden  [3, 3, 1, 3, 3, 3, 5, 5, 3, 3, 1, 1, 3, 3, 3, ...    UcatS   \n",
       "24   Leiden  [3, 3, 1, 3, 3, 3, 4, 4, 3, 3, 1, 1, 3, 3, 3, ...        U   \n",
       "25   Leiden  [3, 3, 1, 3, 3, 3, 5, 5, 3, 3, 1, 1, 3, 3, 3, ...        S   \n",
       "26   Leiden  [3, 3, 2, 3, 3, 3, 5, 5, 3, 3, 2, 2, 3, 3, 3, ...      U+S   \n",
       "27   Leiden  [3, 3, 1, 3, 3, 3, 4, 4, 3, 3, 1, 1, 3, 3, 3, ...    UcatS   \n",
       "44   Leiden  [10, 1, 1, 5, 2, 3, 8, 1, 2, 5, 3, 0, 0, 2, 1,...        U   \n",
       "45   Leiden  [6, 0, 0, 4, 3, 1, 5, 0, 0, 4, 1, 2, 1, 3, 0, ...        S   \n",
       "46   Leiden  [11, 1, 1, 5, 2, 3, 8, 1, 2, 5, 3, 0, 0, 2, 1,...      U+S   \n",
       "47   Leiden  [10, 1, 1, 5, 2, 3, 8, 1, 2, 5, 3, 0, 0, 2, 1,...    UcatS   \n",
       "64   Leiden  [1, 1, 1, 1, 1, 0, 1, 1, 1, 1, 0, 1, 1, 1, 0, ...        U   \n",
       "65   Leiden  [0, 0, 0, 0, 0, 2, 0, 0, 0, 0, 2, 0, 0, 0, 3, ...        S   \n",
       "66   Leiden  [0, 0, 0, 0, 0, 2, 0, 0, 0, 0, 2, 0, 0, 0, 3, ...      U+S   \n",
       "67   Leiden  [0, 0, 0, 0, 0, 2, 0, 0, 0, 0, 2, 0, 0, 0, 3, ...    UcatS   \n",
       "84   Leiden  [3, 1, 7, 3, 0, 9, 2, 10, 1, 11, 0, 2, 4, 1, 1...        U   \n",
       "85   Leiden  [2, 1, 7, 2, 0, 9, 3, 10, 1, 4, 0, 3, 4, 1, 1,...        S   \n",
       "86   Leiden  [3, 1, 7, 3, 0, 9, 2, 10, 1, 11, 0, 2, 4, 1, 1...      U+S   \n",
       "87   Leiden  [3, 1, 7, 3, 0, 9, 2, 10, 1, 11, 0, 2, 4, 1, 1...    UcatS   \n",
       "104  Leiden  [9, 0, 0, 5, 3, 2, 7, 0, 3, 5, 2, 1, 1, 3, 0, ...        U   \n",
       "105  Leiden  [2, 1, 1, 2, 6, 1, 4, 1, 4, 2, 3, 0, 3, 0, 1, ...        S   \n",
       "106  Leiden  [10, 2, 2, 6, 3, 1, 8, 2, 3, 6, 1, 0, 0, 3, 2,...      U+S   \n",
       "107  Leiden  [9, 1, 1, 4, 5, 2, 7, 1, 5, 4, 2, 0, 0, 2, 1, ...    UcatS   \n",
       "124  Leiden  [2, 2, 2, 2, 2, 1, 2, 2, 2, 2, 1, 2, 2, 2, 1, ...        U   \n",
       "125  Leiden  [0, 0, 0, 0, 0, 2, 0, 0, 0, 0, 2, 0, 0, 0, 3, ...        S   \n",
       "126  Leiden  [2, 4, 4, 4, 2, 1, 2, 2, 4, 4, 1, 2, 4, 4, 3, ...      U+S   \n",
       "127  Leiden  [0, 0, 0, 0, 0, 2, 0, 0, 0, 0, 2, 0, 0, 0, 3, ...    UcatS   \n",
       "144  Leiden  [0, 2, 6, 0, 1, 8, 3, 9, 2, 10, 1, 3, 0, 2, 2,...        U   \n",
       "145  Leiden  [2, 1, 7, 2, 0, 9, 3, 10, 1, 11, 0, 3, 4, 1, 1...        S   \n",
       "146  Leiden  [4, 1, 7, 4, 0, 9, 2, 10, 1, 11, 0, 2, 3, 1, 1...      U+S   \n",
       "147  Leiden  [4, 1, 7, 4, 0, 9, 3, 10, 1, 11, 0, 3, 2, 1, 1...    UcatS   \n",
       "\n",
       "     Hyperparam  HVGs             Data       ARI       AMI  \n",
       "4           1.0   357              cl5  0.948656  0.916597  \n",
       "5           1.0   357              cl5  0.846898  0.900251  \n",
       "6           1.0   357              cl5  0.833441  0.893414  \n",
       "7           1.0   357              cl5  0.841939  0.893758  \n",
       "24          1.0  1193              cl5  0.939578  0.906968  \n",
       "25          1.0  1193              cl5  0.839479  0.883125  \n",
       "26          1.0  1193              cl5  0.769814  0.865851  \n",
       "27          1.0  1193              cl5  0.851972  0.903597  \n",
       "44          1.0   359  allen_b02h01a02  0.654273  0.823200  \n",
       "45          1.0   359  allen_b02h01a02  0.554039  0.646380  \n",
       "46          1.0   359  allen_b02h01a02  0.654277  0.824783  \n",
       "47          1.0   359  allen_b02h01a02  0.653671  0.823722  \n",
       "64          1.0   466              cl3  0.853643  0.877056  \n",
       "65          1.0   466              cl3  0.728959  0.815635  \n",
       "66          1.0   466              cl3  0.723654  0.810425  \n",
       "67          1.0   466              cl3  0.729116  0.816607  \n",
       "84          1.0   682        allen_b08  0.572253  0.809545  \n",
       "85          1.0   682        allen_b08  0.573326  0.808092  \n",
       "86          1.0   682        allen_b08  0.575094  0.815383  \n",
       "87          1.0   682        allen_b08  0.575348  0.814595  \n",
       "104         1.0  2770  allen_b02h01a02  0.744210  0.843668  \n",
       "105         1.0  2770  allen_b02h01a02  0.319125  0.346050  \n",
       "106         1.0  2770  allen_b02h01a02  0.636462  0.800609  \n",
       "107         1.0  2770  allen_b02h01a02  0.697810  0.809352  \n",
       "124         1.0  1137              cl3  0.989846  0.980971  \n",
       "125         1.0  1137              cl3  0.739695  0.823770  \n",
       "126         1.0  1137              cl3  0.609564  0.758451  \n",
       "127         1.0  1137              cl3  0.731710  0.817557  \n",
       "144         1.0  1948        allen_b08  0.659182  0.838580  \n",
       "145         1.0  1948        allen_b08  0.580586  0.813102  \n",
       "146         1.0  1948        allen_b08  0.567254  0.808693  \n",
       "147         1.0  1948        allen_b08  0.568488  0.807734  "
      ]
     },
     "execution_count": 23,
     "metadata": {},
     "output_type": "execute_result"
    }
   ],
   "source": [
    "unpickled_df_LK[unpickled_df_LK.Method.isin(['Leiden']) & unpickled_df_LK.Hyperparam.isin([1.00]) ]"
   ]
  },
  {
   "cell_type": "code",
   "execution_count": 14,
   "id": "298cbe83",
   "metadata": {},
   "outputs": [
    {
     "data": {
      "text/html": [
       "<div>\n",
       "<style scoped>\n",
       "    .dataframe tbody tr th:only-of-type {\n",
       "        vertical-align: middle;\n",
       "    }\n",
       "\n",
       "    .dataframe tbody tr th {\n",
       "        vertical-align: top;\n",
       "    }\n",
       "\n",
       "    .dataframe thead th {\n",
       "        text-align: right;\n",
       "    }\n",
       "</style>\n",
       "<table border=\"1\" class=\"dataframe\">\n",
       "  <thead>\n",
       "    <tr style=\"text-align: right;\">\n",
       "      <th></th>\n",
       "      <th>Method</th>\n",
       "      <th>Clustering</th>\n",
       "      <th>Matrices</th>\n",
       "      <th>Hyperparam</th>\n",
       "      <th>HVGs</th>\n",
       "      <th>Data</th>\n",
       "      <th>ARI</th>\n",
       "      <th>AMI</th>\n",
       "    </tr>\n",
       "  </thead>\n",
       "  <tbody>\n",
       "    <tr>\n",
       "      <th>0</th>\n",
       "      <td>Leiden</td>\n",
       "      <td>[3, 3, 1, 3, 3, 3, 4, 4, 3, 3, 1, 1, 3, 3, 3, ...</td>\n",
       "      <td>U</td>\n",
       "      <td>0.75</td>\n",
       "      <td>357</td>\n",
       "      <td>cl5</td>\n",
       "      <td>0.948212</td>\n",
       "      <td>9.156829e-01</td>\n",
       "    </tr>\n",
       "    <tr>\n",
       "      <th>1</th>\n",
       "      <td>Leiden</td>\n",
       "      <td>[3, 3, 1, 3, 3, 3, 4, 4, 3, 3, 1, 1, 3, 3, 3, ...</td>\n",
       "      <td>S</td>\n",
       "      <td>0.75</td>\n",
       "      <td>357</td>\n",
       "      <td>cl5</td>\n",
       "      <td>0.986832</td>\n",
       "      <td>9.757465e-01</td>\n",
       "    </tr>\n",
       "    <tr>\n",
       "      <th>2</th>\n",
       "      <td>Leiden</td>\n",
       "      <td>[3, 3, 1, 3, 3, 3, 4, 4, 3, 3, 1, 1, 3, 3, 3, ...</td>\n",
       "      <td>U+S</td>\n",
       "      <td>0.75</td>\n",
       "      <td>357</td>\n",
       "      <td>cl5</td>\n",
       "      <td>0.965742</td>\n",
       "      <td>9.467628e-01</td>\n",
       "    </tr>\n",
       "    <tr>\n",
       "      <th>3</th>\n",
       "      <td>Leiden</td>\n",
       "      <td>[3, 3, 1, 3, 3, 3, 4, 4, 3, 3, 1, 1, 3, 3, 3, ...</td>\n",
       "      <td>UcatS</td>\n",
       "      <td>0.75</td>\n",
       "      <td>357</td>\n",
       "      <td>cl5</td>\n",
       "      <td>0.965702</td>\n",
       "      <td>9.470799e-01</td>\n",
       "    </tr>\n",
       "    <tr>\n",
       "      <th>20</th>\n",
       "      <td>Leiden</td>\n",
       "      <td>[3, 3, 1, 3, 3, 3, 4, 4, 3, 3, 1, 1, 3, 3, 3, ...</td>\n",
       "      <td>U</td>\n",
       "      <td>0.75</td>\n",
       "      <td>1193</td>\n",
       "      <td>cl5</td>\n",
       "      <td>0.941836</td>\n",
       "      <td>9.101720e-01</td>\n",
       "    </tr>\n",
       "    <tr>\n",
       "      <th>21</th>\n",
       "      <td>Leiden</td>\n",
       "      <td>[3, 3, 1, 3, 3, 3, 4, 4, 3, 3, 1, 1, 3, 3, 3, ...</td>\n",
       "      <td>S</td>\n",
       "      <td>0.75</td>\n",
       "      <td>1193</td>\n",
       "      <td>cl5</td>\n",
       "      <td>0.970077</td>\n",
       "      <td>9.544757e-01</td>\n",
       "    </tr>\n",
       "    <tr>\n",
       "      <th>22</th>\n",
       "      <td>Leiden</td>\n",
       "      <td>[3, 3, 1, 3, 3, 3, 4, 4, 3, 3, 1, 1, 3, 3, 3, ...</td>\n",
       "      <td>U+S</td>\n",
       "      <td>0.75</td>\n",
       "      <td>1193</td>\n",
       "      <td>cl5</td>\n",
       "      <td>0.970676</td>\n",
       "      <td>9.540767e-01</td>\n",
       "    </tr>\n",
       "    <tr>\n",
       "      <th>23</th>\n",
       "      <td>Leiden</td>\n",
       "      <td>[3, 3, 1, 3, 3, 3, 4, 4, 3, 3, 1, 1, 3, 3, 3, ...</td>\n",
       "      <td>UcatS</td>\n",
       "      <td>0.75</td>\n",
       "      <td>1193</td>\n",
       "      <td>cl5</td>\n",
       "      <td>0.977565</td>\n",
       "      <td>9.625895e-01</td>\n",
       "    </tr>\n",
       "    <tr>\n",
       "      <th>40</th>\n",
       "      <td>Leiden</td>\n",
       "      <td>[9, 0, 0, 5, 3, 2, 7, 0, 3, 5, 2, 1, 1, 3, 0, ...</td>\n",
       "      <td>U</td>\n",
       "      <td>0.75</td>\n",
       "      <td>359</td>\n",
       "      <td>allen_b02h01a02</td>\n",
       "      <td>0.729684</td>\n",
       "      <td>8.556821e-01</td>\n",
       "    </tr>\n",
       "    <tr>\n",
       "      <th>41</th>\n",
       "      <td>Leiden</td>\n",
       "      <td>[3, 0, 0, 3, 0, 1, 4, 0, 0, 3, 1, 2, 1, 4, 0, ...</td>\n",
       "      <td>S</td>\n",
       "      <td>0.75</td>\n",
       "      <td>359</td>\n",
       "      <td>allen_b02h01a02</td>\n",
       "      <td>0.517760</td>\n",
       "      <td>5.975224e-01</td>\n",
       "    </tr>\n",
       "    <tr>\n",
       "      <th>42</th>\n",
       "      <td>Leiden</td>\n",
       "      <td>[9, 0, 0, 5, 3, 2, 7, 0, 3, 5, 2, 1, 1, 3, 0, ...</td>\n",
       "      <td>U+S</td>\n",
       "      <td>0.75</td>\n",
       "      <td>359</td>\n",
       "      <td>allen_b02h01a02</td>\n",
       "      <td>0.732286</td>\n",
       "      <td>8.584031e-01</td>\n",
       "    </tr>\n",
       "    <tr>\n",
       "      <th>43</th>\n",
       "      <td>Leiden</td>\n",
       "      <td>[9, 0, 0, 5, 3, 2, 7, 0, 3, 5, 2, 1, 1, 3, 0, ...</td>\n",
       "      <td>UcatS</td>\n",
       "      <td>0.75</td>\n",
       "      <td>359</td>\n",
       "      <td>allen_b02h01a02</td>\n",
       "      <td>0.729541</td>\n",
       "      <td>8.570092e-01</td>\n",
       "    </tr>\n",
       "    <tr>\n",
       "      <th>60</th>\n",
       "      <td>Leiden</td>\n",
       "      <td>[2, 2, 2, 2, 2, 1, 2, 2, 2, 2, 1, 2, 2, 2, 1, ...</td>\n",
       "      <td>U</td>\n",
       "      <td>0.75</td>\n",
       "      <td>466</td>\n",
       "      <td>cl3</td>\n",
       "      <td>0.982984</td>\n",
       "      <td>9.687229e-01</td>\n",
       "    </tr>\n",
       "    <tr>\n",
       "      <th>61</th>\n",
       "      <td>Leiden</td>\n",
       "      <td>[1, 1, 1, 1, 1, 2, 1, 1, 1, 1, 2, 1, 1, 1, 3, ...</td>\n",
       "      <td>S</td>\n",
       "      <td>0.75</td>\n",
       "      <td>466</td>\n",
       "      <td>cl3</td>\n",
       "      <td>0.855503</td>\n",
       "      <td>8.903166e-01</td>\n",
       "    </tr>\n",
       "    <tr>\n",
       "      <th>62</th>\n",
       "      <td>Leiden</td>\n",
       "      <td>[0, 0, 0, 0, 0, 2, 0, 0, 0, 0, 2, 0, 0, 0, 3, ...</td>\n",
       "      <td>U+S</td>\n",
       "      <td>0.75</td>\n",
       "      <td>466</td>\n",
       "      <td>cl3</td>\n",
       "      <td>0.729136</td>\n",
       "      <td>8.124035e-01</td>\n",
       "    </tr>\n",
       "    <tr>\n",
       "      <th>63</th>\n",
       "      <td>Leiden</td>\n",
       "      <td>[1, 1, 1, 1, 1, 2, 1, 1, 1, 1, 2, 1, 1, 1, 3, ...</td>\n",
       "      <td>UcatS</td>\n",
       "      <td>0.75</td>\n",
       "      <td>466</td>\n",
       "      <td>cl3</td>\n",
       "      <td>0.851025</td>\n",
       "      <td>8.849104e-01</td>\n",
       "    </tr>\n",
       "    <tr>\n",
       "      <th>80</th>\n",
       "      <td>Leiden</td>\n",
       "      <td>[1, 2, 6, 1, 0, 8, 3, 9, 2, 10, 0, 3, 1, 2, 2,...</td>\n",
       "      <td>U</td>\n",
       "      <td>0.75</td>\n",
       "      <td>682</td>\n",
       "      <td>allen_b08</td>\n",
       "      <td>0.665662</td>\n",
       "      <td>8.403887e-01</td>\n",
       "    </tr>\n",
       "    <tr>\n",
       "      <th>81</th>\n",
       "      <td>Leiden</td>\n",
       "      <td>[2, 1, 7, 2, 0, 9, 4, 10, 1, 3, 0, 4, 3, 1, 1,...</td>\n",
       "      <td>S</td>\n",
       "      <td>0.75</td>\n",
       "      <td>682</td>\n",
       "      <td>allen_b08</td>\n",
       "      <td>0.576662</td>\n",
       "      <td>8.087109e-01</td>\n",
       "    </tr>\n",
       "    <tr>\n",
       "      <th>82</th>\n",
       "      <td>Leiden</td>\n",
       "      <td>[4, 1, 7, 4, 0, 9, 3, 10, 1, 2, 0, 3, 2, 1, 1,...</td>\n",
       "      <td>U+S</td>\n",
       "      <td>0.75</td>\n",
       "      <td>682</td>\n",
       "      <td>allen_b08</td>\n",
       "      <td>0.577345</td>\n",
       "      <td>8.104126e-01</td>\n",
       "    </tr>\n",
       "    <tr>\n",
       "      <th>83</th>\n",
       "      <td>Leiden</td>\n",
       "      <td>[4, 1, 7, 4, 0, 9, 2, 10, 1, 3, 0, 2, 3, 1, 1,...</td>\n",
       "      <td>UcatS</td>\n",
       "      <td>0.75</td>\n",
       "      <td>682</td>\n",
       "      <td>allen_b08</td>\n",
       "      <td>0.570664</td>\n",
       "      <td>8.086771e-01</td>\n",
       "    </tr>\n",
       "    <tr>\n",
       "      <th>100</th>\n",
       "      <td>Leiden</td>\n",
       "      <td>[6, 0, 0, 5, 3, 2, 8, 0, 3, 5, 2, 1, 1, 3, 0, ...</td>\n",
       "      <td>U</td>\n",
       "      <td>0.75</td>\n",
       "      <td>2770</td>\n",
       "      <td>allen_b02h01a02</td>\n",
       "      <td>0.742117</td>\n",
       "      <td>8.342893e-01</td>\n",
       "    </tr>\n",
       "    <tr>\n",
       "      <th>101</th>\n",
       "      <td>Leiden</td>\n",
       "      <td>[0, 0, 0, 0, 0, 0, 0, 0, 0, 0, 0, 0, 0, 0, 0, ...</td>\n",
       "      <td>S</td>\n",
       "      <td>0.75</td>\n",
       "      <td>2770</td>\n",
       "      <td>allen_b02h01a02</td>\n",
       "      <td>0.000000</td>\n",
       "      <td>-4.501998e-16</td>\n",
       "    </tr>\n",
       "    <tr>\n",
       "      <th>102</th>\n",
       "      <td>Leiden</td>\n",
       "      <td>[6, 1, 1, 5, 3, 2, 8, 1, 3, 5, 2, 0, 0, 3, 1, ...</td>\n",
       "      <td>U+S</td>\n",
       "      <td>0.75</td>\n",
       "      <td>2770</td>\n",
       "      <td>allen_b02h01a02</td>\n",
       "      <td>0.712069</td>\n",
       "      <td>8.183104e-01</td>\n",
       "    </tr>\n",
       "    <tr>\n",
       "      <th>103</th>\n",
       "      <td>Leiden</td>\n",
       "      <td>[5, 0, 0, 4, 1, 0, 8, 0, 1, 4, 0, 1, 1, 0, 0, ...</td>\n",
       "      <td>UcatS</td>\n",
       "      <td>0.75</td>\n",
       "      <td>2770</td>\n",
       "      <td>allen_b02h01a02</td>\n",
       "      <td>0.488031</td>\n",
       "      <td>7.145436e-01</td>\n",
       "    </tr>\n",
       "    <tr>\n",
       "      <th>120</th>\n",
       "      <td>Leiden</td>\n",
       "      <td>[2, 2, 2, 2, 2, 1, 2, 2, 2, 2, 1, 2, 2, 2, 1, ...</td>\n",
       "      <td>U</td>\n",
       "      <td>0.75</td>\n",
       "      <td>1137</td>\n",
       "      <td>cl3</td>\n",
       "      <td>0.989846</td>\n",
       "      <td>9.809711e-01</td>\n",
       "    </tr>\n",
       "    <tr>\n",
       "      <th>121</th>\n",
       "      <td>Leiden</td>\n",
       "      <td>[1, 1, 1, 1, 1, 2, 1, 1, 1, 1, 2, 1, 1, 1, 3, ...</td>\n",
       "      <td>S</td>\n",
       "      <td>0.75</td>\n",
       "      <td>1137</td>\n",
       "      <td>cl3</td>\n",
       "      <td>0.855030</td>\n",
       "      <td>8.901112e-01</td>\n",
       "    </tr>\n",
       "    <tr>\n",
       "      <th>122</th>\n",
       "      <td>Leiden</td>\n",
       "      <td>[1, 1, 1, 1, 1, 2, 1, 1, 1, 1, 2, 1, 1, 1, 3, ...</td>\n",
       "      <td>U+S</td>\n",
       "      <td>0.75</td>\n",
       "      <td>1137</td>\n",
       "      <td>cl3</td>\n",
       "      <td>0.852483</td>\n",
       "      <td>8.855395e-01</td>\n",
       "    </tr>\n",
       "    <tr>\n",
       "      <th>123</th>\n",
       "      <td>Leiden</td>\n",
       "      <td>[1, 1, 1, 1, 1, 2, 1, 1, 1, 1, 2, 1, 1, 1, 3, ...</td>\n",
       "      <td>UcatS</td>\n",
       "      <td>0.75</td>\n",
       "      <td>1137</td>\n",
       "      <td>cl3</td>\n",
       "      <td>0.850782</td>\n",
       "      <td>8.848058e-01</td>\n",
       "    </tr>\n",
       "    <tr>\n",
       "      <th>140</th>\n",
       "      <td>Leiden</td>\n",
       "      <td>[1, 2, 6, 1, 0, 8, 3, 9, 2, 10, 0, 3, 1, 2, 2,...</td>\n",
       "      <td>U</td>\n",
       "      <td>0.75</td>\n",
       "      <td>1948</td>\n",
       "      <td>allen_b08</td>\n",
       "      <td>0.661620</td>\n",
       "      <td>8.404123e-01</td>\n",
       "    </tr>\n",
       "    <tr>\n",
       "      <th>141</th>\n",
       "      <td>Leiden</td>\n",
       "      <td>[1, 2, 6, 1, 0, 8, 3, 9, 2, 10, 0, 3, 1, 2, 2,...</td>\n",
       "      <td>S</td>\n",
       "      <td>0.75</td>\n",
       "      <td>1948</td>\n",
       "      <td>allen_b08</td>\n",
       "      <td>0.673105</td>\n",
       "      <td>8.457967e-01</td>\n",
       "    </tr>\n",
       "    <tr>\n",
       "      <th>142</th>\n",
       "      <td>Leiden</td>\n",
       "      <td>[1, 2, 6, 1, 0, 8, 3, 9, 2, 10, 0, 3, 1, 2, 2,...</td>\n",
       "      <td>U+S</td>\n",
       "      <td>0.75</td>\n",
       "      <td>1948</td>\n",
       "      <td>allen_b08</td>\n",
       "      <td>0.658754</td>\n",
       "      <td>8.403522e-01</td>\n",
       "    </tr>\n",
       "    <tr>\n",
       "      <th>143</th>\n",
       "      <td>Leiden</td>\n",
       "      <td>[1, 2, 6, 1, 0, 8, 3, 9, 2, 10, 0, 3, 1, 2, 2,...</td>\n",
       "      <td>UcatS</td>\n",
       "      <td>0.75</td>\n",
       "      <td>1948</td>\n",
       "      <td>allen_b08</td>\n",
       "      <td>0.660264</td>\n",
       "      <td>8.425190e-01</td>\n",
       "    </tr>\n",
       "  </tbody>\n",
       "</table>\n",
       "</div>"
      ],
      "text/plain": [
       "     Method                                         Clustering Matrices  \\\n",
       "0    Leiden  [3, 3, 1, 3, 3, 3, 4, 4, 3, 3, 1, 1, 3, 3, 3, ...        U   \n",
       "1    Leiden  [3, 3, 1, 3, 3, 3, 4, 4, 3, 3, 1, 1, 3, 3, 3, ...        S   \n",
       "2    Leiden  [3, 3, 1, 3, 3, 3, 4, 4, 3, 3, 1, 1, 3, 3, 3, ...      U+S   \n",
       "3    Leiden  [3, 3, 1, 3, 3, 3, 4, 4, 3, 3, 1, 1, 3, 3, 3, ...    UcatS   \n",
       "20   Leiden  [3, 3, 1, 3, 3, 3, 4, 4, 3, 3, 1, 1, 3, 3, 3, ...        U   \n",
       "21   Leiden  [3, 3, 1, 3, 3, 3, 4, 4, 3, 3, 1, 1, 3, 3, 3, ...        S   \n",
       "22   Leiden  [3, 3, 1, 3, 3, 3, 4, 4, 3, 3, 1, 1, 3, 3, 3, ...      U+S   \n",
       "23   Leiden  [3, 3, 1, 3, 3, 3, 4, 4, 3, 3, 1, 1, 3, 3, 3, ...    UcatS   \n",
       "40   Leiden  [9, 0, 0, 5, 3, 2, 7, 0, 3, 5, 2, 1, 1, 3, 0, ...        U   \n",
       "41   Leiden  [3, 0, 0, 3, 0, 1, 4, 0, 0, 3, 1, 2, 1, 4, 0, ...        S   \n",
       "42   Leiden  [9, 0, 0, 5, 3, 2, 7, 0, 3, 5, 2, 1, 1, 3, 0, ...      U+S   \n",
       "43   Leiden  [9, 0, 0, 5, 3, 2, 7, 0, 3, 5, 2, 1, 1, 3, 0, ...    UcatS   \n",
       "60   Leiden  [2, 2, 2, 2, 2, 1, 2, 2, 2, 2, 1, 2, 2, 2, 1, ...        U   \n",
       "61   Leiden  [1, 1, 1, 1, 1, 2, 1, 1, 1, 1, 2, 1, 1, 1, 3, ...        S   \n",
       "62   Leiden  [0, 0, 0, 0, 0, 2, 0, 0, 0, 0, 2, 0, 0, 0, 3, ...      U+S   \n",
       "63   Leiden  [1, 1, 1, 1, 1, 2, 1, 1, 1, 1, 2, 1, 1, 1, 3, ...    UcatS   \n",
       "80   Leiden  [1, 2, 6, 1, 0, 8, 3, 9, 2, 10, 0, 3, 1, 2, 2,...        U   \n",
       "81   Leiden  [2, 1, 7, 2, 0, 9, 4, 10, 1, 3, 0, 4, 3, 1, 1,...        S   \n",
       "82   Leiden  [4, 1, 7, 4, 0, 9, 3, 10, 1, 2, 0, 3, 2, 1, 1,...      U+S   \n",
       "83   Leiden  [4, 1, 7, 4, 0, 9, 2, 10, 1, 3, 0, 2, 3, 1, 1,...    UcatS   \n",
       "100  Leiden  [6, 0, 0, 5, 3, 2, 8, 0, 3, 5, 2, 1, 1, 3, 0, ...        U   \n",
       "101  Leiden  [0, 0, 0, 0, 0, 0, 0, 0, 0, 0, 0, 0, 0, 0, 0, ...        S   \n",
       "102  Leiden  [6, 1, 1, 5, 3, 2, 8, 1, 3, 5, 2, 0, 0, 3, 1, ...      U+S   \n",
       "103  Leiden  [5, 0, 0, 4, 1, 0, 8, 0, 1, 4, 0, 1, 1, 0, 0, ...    UcatS   \n",
       "120  Leiden  [2, 2, 2, 2, 2, 1, 2, 2, 2, 2, 1, 2, 2, 2, 1, ...        U   \n",
       "121  Leiden  [1, 1, 1, 1, 1, 2, 1, 1, 1, 1, 2, 1, 1, 1, 3, ...        S   \n",
       "122  Leiden  [1, 1, 1, 1, 1, 2, 1, 1, 1, 1, 2, 1, 1, 1, 3, ...      U+S   \n",
       "123  Leiden  [1, 1, 1, 1, 1, 2, 1, 1, 1, 1, 2, 1, 1, 1, 3, ...    UcatS   \n",
       "140  Leiden  [1, 2, 6, 1, 0, 8, 3, 9, 2, 10, 0, 3, 1, 2, 2,...        U   \n",
       "141  Leiden  [1, 2, 6, 1, 0, 8, 3, 9, 2, 10, 0, 3, 1, 2, 2,...        S   \n",
       "142  Leiden  [1, 2, 6, 1, 0, 8, 3, 9, 2, 10, 0, 3, 1, 2, 2,...      U+S   \n",
       "143  Leiden  [1, 2, 6, 1, 0, 8, 3, 9, 2, 10, 0, 3, 1, 2, 2,...    UcatS   \n",
       "\n",
       "     Hyperparam  HVGs             Data       ARI           AMI  \n",
       "0          0.75   357              cl5  0.948212  9.156829e-01  \n",
       "1          0.75   357              cl5  0.986832  9.757465e-01  \n",
       "2          0.75   357              cl5  0.965742  9.467628e-01  \n",
       "3          0.75   357              cl5  0.965702  9.470799e-01  \n",
       "20         0.75  1193              cl5  0.941836  9.101720e-01  \n",
       "21         0.75  1193              cl5  0.970077  9.544757e-01  \n",
       "22         0.75  1193              cl5  0.970676  9.540767e-01  \n",
       "23         0.75  1193              cl5  0.977565  9.625895e-01  \n",
       "40         0.75   359  allen_b02h01a02  0.729684  8.556821e-01  \n",
       "41         0.75   359  allen_b02h01a02  0.517760  5.975224e-01  \n",
       "42         0.75   359  allen_b02h01a02  0.732286  8.584031e-01  \n",
       "43         0.75   359  allen_b02h01a02  0.729541  8.570092e-01  \n",
       "60         0.75   466              cl3  0.982984  9.687229e-01  \n",
       "61         0.75   466              cl3  0.855503  8.903166e-01  \n",
       "62         0.75   466              cl3  0.729136  8.124035e-01  \n",
       "63         0.75   466              cl3  0.851025  8.849104e-01  \n",
       "80         0.75   682        allen_b08  0.665662  8.403887e-01  \n",
       "81         0.75   682        allen_b08  0.576662  8.087109e-01  \n",
       "82         0.75   682        allen_b08  0.577345  8.104126e-01  \n",
       "83         0.75   682        allen_b08  0.570664  8.086771e-01  \n",
       "100        0.75  2770  allen_b02h01a02  0.742117  8.342893e-01  \n",
       "101        0.75  2770  allen_b02h01a02  0.000000 -4.501998e-16  \n",
       "102        0.75  2770  allen_b02h01a02  0.712069  8.183104e-01  \n",
       "103        0.75  2770  allen_b02h01a02  0.488031  7.145436e-01  \n",
       "120        0.75  1137              cl3  0.989846  9.809711e-01  \n",
       "121        0.75  1137              cl3  0.855030  8.901112e-01  \n",
       "122        0.75  1137              cl3  0.852483  8.855395e-01  \n",
       "123        0.75  1137              cl3  0.850782  8.848058e-01  \n",
       "140        0.75  1948        allen_b08  0.661620  8.404123e-01  \n",
       "141        0.75  1948        allen_b08  0.673105  8.457967e-01  \n",
       "142        0.75  1948        allen_b08  0.658754  8.403522e-01  \n",
       "143        0.75  1948        allen_b08  0.660264  8.425190e-01  "
      ]
     },
     "execution_count": 14,
     "metadata": {},
     "output_type": "execute_result"
    }
   ],
   "source": [
    "unpickled_df_LK[unpickled_df_LK.Method.isin(['Leiden']) & unpickled_df_LK.Hyperparam.isin([0.75]) ]\n"
   ]
  },
  {
   "cell_type": "markdown",
   "id": "eca28d2e",
   "metadata": {},
   "source": [
    "### **Run Methods on Simulated Data**"
   ]
  },
  {
   "cell_type": "code",
   "execution_count": 232,
   "id": "16d5c142",
   "metadata": {},
   "outputs": [
    {
     "data": {
      "text/plain": [
       "['/home/tchari/counts/meKMeans_sims/loom/drop_1perc_sim_k8.loom',\n",
       " '/home/tchari/counts/meKMeans_sims/loom/drop_5perc_sim_k8.loom',\n",
       " '/home/tchari/counts/meKMeans_sims/loom/drop_20perc_sim_k8.loom',\n",
       " '/home/tchari/counts/meKMeans_sims/loom/negctrl_sim_k1.loom',\n",
       " '/home/tchari/counts/meKMeans_sims/loom/b_beta_sim_k8.loom',\n",
       " '/home/tchari/counts/meKMeans_sims/loom/k_gamma_sim_k8.loom']"
      ]
     },
     "execution_count": 232,
     "metadata": {},
     "output_type": "execute_result"
    }
   ],
   "source": [
    "d_strings  = glob.glob('/home/tchari/counts/meKMeans_sims/loom/*.loom')\n",
    "d_strings "
   ]
  },
  {
   "cell_type": "code",
   "execution_count": 233,
   "id": "9119ccbd",
   "metadata": {},
   "outputs": [
    {
     "data": {
      "text/plain": [
       "['/home/tchari/counts/meKMeans_sims/loom/negctrl_sim_k1.loom',\n",
       " '/home/tchari/counts/meKMeans_sims/loom/b_beta_sim_k8.loom',\n",
       " '/home/tchari/counts/meKMeans_sims/loom/k_gamma_sim_k8.loom']"
      ]
     },
     "execution_count": 233,
     "metadata": {},
     "output_type": "execute_result"
    }
   ],
   "source": [
    "#Not doing dropout data for now\n",
    "sub_d_strings = d_strings[3:]\n",
    "sub_d_strings"
   ]
  },
  {
   "cell_type": "code",
   "execution_count": 234,
   "id": "98a01eea",
   "metadata": {},
   "outputs": [],
   "source": [
    "attribute_names =[('unspliced','spliced'),'gene_name','barcode']"
   ]
  },
  {
   "cell_type": "code",
   "execution_count": 235,
   "id": "22eae524",
   "metadata": {},
   "outputs": [],
   "source": [
    "datas = ['negctrl_sim_k1','b_beta_sim_k8','k_gamma_sim_k8']"
   ]
  },
  {
   "cell_type": "code",
   "execution_count": 236,
   "id": "fe7f9d49",
   "metadata": {},
   "outputs": [],
   "source": [
    "samp = [-6.777777777777778, -1.25]"
   ]
  },
  {
   "cell_type": "code",
   "execution_count": null,
   "id": "7028c403",
   "metadata": {},
   "outputs": [],
   "source": []
  },
  {
   "cell_type": "code",
   "execution_count": null,
   "id": "2e86b5d6",
   "metadata": {},
   "outputs": [],
   "source": []
  },
  {
   "cell_type": "code",
   "execution_count": 237,
   "id": "5f4c8581",
   "metadata": {},
   "outputs": [
    {
     "name": "stdout",
     "output_type": "stream",
     "text": [
      "mkdir: cannot create directory ‘/home/tchari/perturbCME/notebooks/fits/LeidKMeansruns_0306’: File exists\n",
      "negctrl_sim_k1 with 1100 HVGs\n",
      "Negctrl k:  10\n",
      "b_beta_sim_k8 with 1100 HVGs\n",
      "k_gamma_sim_k8 with 700 HVGs\n"
     ]
    }
   ],
   "source": [
    "#Run Leiden + K-Means first, with K=Leiden # of clus for neg control\n",
    "\n",
    "#Make the U,S, U+S, Concat matrices, res 0.75,1,1.5,2\n",
    "\n",
    "!mkdir /home/tchari/perturbCME/notebooks/fits/LeidKMeansruns_0306\n",
    "\n",
    "\n",
    "#Save method, clustering, mat_in (U,S, etc), hyper (K or res), hvgs, data, ARI, AMI\n",
    "LK_res = pd.DataFrame()\n",
    "meths = []\n",
    "result = []\n",
    "mats = []\n",
    "hyper = []\n",
    "hvgs = []\n",
    "data = []\n",
    "ari = []\n",
    "ami = []\n",
    "\n",
    "for d in sub_d_strings:\n",
    "    \n",
    "    #Get tech param by keyword (datas) in loom paths\n",
    "    ind = [i in d for i in datas]\n",
    "    \n",
    "\n",
    "    data_name = np.array(datas)[ind][0]\n",
    "    \n",
    "    \n",
    "    ds = lp.connect(d)\n",
    "    num_genes = len(ds.ra[attribute_names[1]])\n",
    "    num_cells = len(ds.ca[attribute_names[2]])\n",
    "    U = ds.layers[attribute_names[0][0]][:,:].T\n",
    "    S = ds.layers[attribute_names[0][1]][:,:].T\n",
    "    true_labs = list(ds.ca['subclass_label'])\n",
    "    ds.close()\n",
    "    print(data_name+' with '+str(num_genes)+' HVGs')\n",
    "    \n",
    "    \n",
    "    res = [1]\n",
    "    \n",
    "    #Get U,S,U_p_S,U_c_S\n",
    "        \n",
    "    #Norm mats\n",
    "    U_norm = norm_mat(U)\n",
    "    S_norm = norm_mat(S)\n",
    "    U_p_S_norm = norm_mat(U+S)\n",
    "    U_c_S_norm = norm_mat(np.concatenate([U,S],axis=1))\n",
    "    \n",
    "    g_U = get_graph(U_norm)\n",
    "    g_S = get_graph(S_norm)\n",
    "    g_U_p_S = get_graph(U_p_S_norm)\n",
    "    g_U_c_S = get_graph(U_c_S_norm)\n",
    "    \n",
    "    # -------- Fit Leiden -------\n",
    "    for r in res:\n",
    "        \n",
    "        partition_type = la.RBConfigurationVertexPartition\n",
    "        #Make Knn graphs\n",
    "        for g in [g_U,g_S,g_U_p_S,g_U_c_S]:\n",
    "            part = la.find_partition(g, partition_type, \n",
    "                                        weights=np.array(g.es['weight']).astype(np.float64), \n",
    "                                        n_iterations=-1, resolution_parameter=r)\n",
    "\n",
    "            labels = np.array(part.membership)\n",
    "            \n",
    "            # ----- Save Results ---- ARI,AMI etc\n",
    "            meths += ['Leiden']\n",
    "            result += [labels]\n",
    "            hyper += [r]\n",
    "            hvgs += [num_genes]\n",
    "            data += [data_name]\n",
    "            ari += [adjusted_rand_score(true_labs,labels)]\n",
    "            ami += [adjusted_mutual_info_score(true_labs,labels)]\n",
    "            \n",
    "#             print('No. clus Leiden: ',len(np.unique(labels)))\n",
    "            \n",
    "        mats += ['U','S','U+S','UcatS']\n",
    "        \n",
    "        \n",
    "        \n",
    "    # -------- Fit K-Means with k -------\n",
    "    if 'negctrl' in d:\n",
    "        k = len(np.unique(labels)) #**************** FILL THIS IN ****************\n",
    "        print('Negctrl k: ',k)\n",
    "    else:\n",
    "        k = len(np.unique(true_labs))\n",
    "        \n",
    "    \n",
    "    for x in [U_norm,S_norm,U_p_S_norm,U_c_S_norm]:\n",
    "        kmeans = KMeans(n_clusters=k, random_state=0).fit(x)\n",
    "        labs = kmeans.labels_\n",
    "        \n",
    "        meths += ['K-Means']\n",
    "        result += [labs]\n",
    "        hyper += [k]\n",
    "        hvgs += [num_genes]\n",
    "        data += [data_name]\n",
    "        ari += [adjusted_rand_score(true_labs,labs)]\n",
    "        ami += [adjusted_mutual_info_score(true_labs,labs)]\n",
    "        \n",
    "#         print('No. clus K-Means: ',len(np.unique(labs)))\n",
    "        \n",
    "    mats += ['U','S','U+S','UcatS']\n",
    "\n",
    "    \n",
    "LK_res['Method'] = meths\n",
    "LK_res['Clustering'] = result\n",
    "LK_res['Matrices'] = mats\n",
    "LK_res['Hyperparam'] = hyper\n",
    "LK_res['HVGs'] = hvgs\n",
    "LK_res['Data'] = data\n",
    "LK_res['ARI'] = ari\n",
    "LK_res['AMI'] = ami"
   ]
  },
  {
   "cell_type": "code",
   "execution_count": 208,
   "id": "41b8d599",
   "metadata": {},
   "outputs": [],
   "source": [
    "#RERUN K-Means = 10"
   ]
  },
  {
   "cell_type": "code",
   "execution_count": 238,
   "id": "bc31d75a",
   "metadata": {},
   "outputs": [
    {
     "data": {
      "text/html": [
       "<div>\n",
       "<style scoped>\n",
       "    .dataframe tbody tr th:only-of-type {\n",
       "        vertical-align: middle;\n",
       "    }\n",
       "\n",
       "    .dataframe tbody tr th {\n",
       "        vertical-align: top;\n",
       "    }\n",
       "\n",
       "    .dataframe thead th {\n",
       "        text-align: right;\n",
       "    }\n",
       "</style>\n",
       "<table border=\"1\" class=\"dataframe\">\n",
       "  <thead>\n",
       "    <tr style=\"text-align: right;\">\n",
       "      <th></th>\n",
       "      <th>Method</th>\n",
       "      <th>Clustering</th>\n",
       "      <th>Matrices</th>\n",
       "      <th>Hyperparam</th>\n",
       "      <th>HVGs</th>\n",
       "      <th>Data</th>\n",
       "      <th>ARI</th>\n",
       "      <th>AMI</th>\n",
       "    </tr>\n",
       "  </thead>\n",
       "  <tbody>\n",
       "    <tr>\n",
       "      <th>0</th>\n",
       "      <td>Leiden</td>\n",
       "      <td>[0, 1, 7, 8, 2, 0, 2, 1, 0, 3, 0, 7, 0, 5, 4, ...</td>\n",
       "      <td>U</td>\n",
       "      <td>1</td>\n",
       "      <td>1100</td>\n",
       "      <td>negctrl_sim_k1</td>\n",
       "      <td>0.000000</td>\n",
       "      <td>1.837018e-16</td>\n",
       "    </tr>\n",
       "    <tr>\n",
       "      <th>1</th>\n",
       "      <td>Leiden</td>\n",
       "      <td>[14, 12, 13, 12, 2, 13, 3, 11, 2, 13, 3, 14, 0...</td>\n",
       "      <td>S</td>\n",
       "      <td>1</td>\n",
       "      <td>1100</td>\n",
       "      <td>negctrl_sim_k1</td>\n",
       "      <td>0.000000</td>\n",
       "      <td>2.178137e-16</td>\n",
       "    </tr>\n",
       "    <tr>\n",
       "      <th>2</th>\n",
       "      <td>Leiden</td>\n",
       "      <td>[5, 9, 12, 3, 2, 9, 12, 0, 3, 5, 0, 9, 10, 1, ...</td>\n",
       "      <td>U+S</td>\n",
       "      <td>1</td>\n",
       "      <td>1100</td>\n",
       "      <td>negctrl_sim_k1</td>\n",
       "      <td>0.000000</td>\n",
       "      <td>2.179588e-16</td>\n",
       "    </tr>\n",
       "    <tr>\n",
       "      <th>3</th>\n",
       "      <td>Leiden</td>\n",
       "      <td>[1, 5, 1, 1, 5, 1, 8, 0, 5, 4, 3, 3, 6, 1, 0, ...</td>\n",
       "      <td>UcatS</td>\n",
       "      <td>1</td>\n",
       "      <td>1100</td>\n",
       "      <td>negctrl_sim_k1</td>\n",
       "      <td>0.000000</td>\n",
       "      <td>6.054004e-16</td>\n",
       "    </tr>\n",
       "    <tr>\n",
       "      <th>4</th>\n",
       "      <td>K-Means</td>\n",
       "      <td>[4, 4, 3, 2, 8, 8, 0, 9, 6, 5, 4, 9, 6, 8, 2, ...</td>\n",
       "      <td>U</td>\n",
       "      <td>10</td>\n",
       "      <td>1100</td>\n",
       "      <td>negctrl_sim_k1</td>\n",
       "      <td>0.000000</td>\n",
       "      <td>2.613066e-16</td>\n",
       "    </tr>\n",
       "    <tr>\n",
       "      <th>5</th>\n",
       "      <td>K-Means</td>\n",
       "      <td>[8, 5, 0, 8, 8, 5, 1, 4, 9, 9, 2, 3, 4, 1, 1, ...</td>\n",
       "      <td>S</td>\n",
       "      <td>10</td>\n",
       "      <td>1100</td>\n",
       "      <td>negctrl_sim_k1</td>\n",
       "      <td>0.000000</td>\n",
       "      <td>1.389040e-16</td>\n",
       "    </tr>\n",
       "    <tr>\n",
       "      <th>6</th>\n",
       "      <td>K-Means</td>\n",
       "      <td>[4, 7, 2, 2, 4, 9, 5, 1, 6, 7, 4, 9, 8, 6, 2, ...</td>\n",
       "      <td>U+S</td>\n",
       "      <td>10</td>\n",
       "      <td>1100</td>\n",
       "      <td>negctrl_sim_k1</td>\n",
       "      <td>0.000000</td>\n",
       "      <td>2.272039e-17</td>\n",
       "    </tr>\n",
       "    <tr>\n",
       "      <th>7</th>\n",
       "      <td>K-Means</td>\n",
       "      <td>[8, 3, 7, 0, 5, 5, 0, 4, 0, 1, 1, 7, 5, 5, 9, ...</td>\n",
       "      <td>UcatS</td>\n",
       "      <td>10</td>\n",
       "      <td>1100</td>\n",
       "      <td>negctrl_sim_k1</td>\n",
       "      <td>0.000000</td>\n",
       "      <td>-1.629062e-16</td>\n",
       "    </tr>\n",
       "    <tr>\n",
       "      <th>8</th>\n",
       "      <td>Leiden</td>\n",
       "      <td>[6, 0, 6, 6, 6, 6, 6, 6, 0, 6, 6, 6, 0, 0, 6, ...</td>\n",
       "      <td>U</td>\n",
       "      <td>1</td>\n",
       "      <td>1100</td>\n",
       "      <td>b_beta_sim_k8</td>\n",
       "      <td>0.743029</td>\n",
       "      <td>8.097669e-01</td>\n",
       "    </tr>\n",
       "    <tr>\n",
       "      <th>9</th>\n",
       "      <td>Leiden</td>\n",
       "      <td>[2, 4, 3, 4, 8, 9, 0, 3, 3, 7, 5, 3, 3, 2, 4, ...</td>\n",
       "      <td>S</td>\n",
       "      <td>1</td>\n",
       "      <td>1100</td>\n",
       "      <td>b_beta_sim_k8</td>\n",
       "      <td>0.029161</td>\n",
       "      <td>3.302685e-02</td>\n",
       "    </tr>\n",
       "    <tr>\n",
       "      <th>10</th>\n",
       "      <td>Leiden</td>\n",
       "      <td>[3, 0, 3, 3, 3, 3, 3, 3, 3, 3, 3, 3, 3, 0, 3, ...</td>\n",
       "      <td>U+S</td>\n",
       "      <td>1</td>\n",
       "      <td>1100</td>\n",
       "      <td>b_beta_sim_k8</td>\n",
       "      <td>0.678228</td>\n",
       "      <td>7.031904e-01</td>\n",
       "    </tr>\n",
       "    <tr>\n",
       "      <th>11</th>\n",
       "      <td>Leiden</td>\n",
       "      <td>[5, 5, 5, 5, 5, 5, 5, 5, 5, 5, 5, 5, 5, 5, 5, ...</td>\n",
       "      <td>UcatS</td>\n",
       "      <td>1</td>\n",
       "      <td>1100</td>\n",
       "      <td>b_beta_sim_k8</td>\n",
       "      <td>0.666374</td>\n",
       "      <td>7.241318e-01</td>\n",
       "    </tr>\n",
       "    <tr>\n",
       "      <th>12</th>\n",
       "      <td>K-Means</td>\n",
       "      <td>[2, 2, 2, 2, 2, 2, 2, 2, 2, 2, 2, 2, 2, 2, 5, ...</td>\n",
       "      <td>U</td>\n",
       "      <td>10</td>\n",
       "      <td>1100</td>\n",
       "      <td>b_beta_sim_k8</td>\n",
       "      <td>0.685873</td>\n",
       "      <td>8.600074e-01</td>\n",
       "    </tr>\n",
       "    <tr>\n",
       "      <th>13</th>\n",
       "      <td>K-Means</td>\n",
       "      <td>[3, 2, 7, 0, 4, 3, 9, 6, 0, 8, 2, 2, 2, 7, 2, ...</td>\n",
       "      <td>S</td>\n",
       "      <td>10</td>\n",
       "      <td>1100</td>\n",
       "      <td>b_beta_sim_k8</td>\n",
       "      <td>0.258088</td>\n",
       "      <td>2.378114e-01</td>\n",
       "    </tr>\n",
       "    <tr>\n",
       "      <th>14</th>\n",
       "      <td>K-Means</td>\n",
       "      <td>[7, 7, 7, 7, 7, 7, 4, 7, 7, 7, 7, 7, 7, 7, 1, ...</td>\n",
       "      <td>U+S</td>\n",
       "      <td>10</td>\n",
       "      <td>1100</td>\n",
       "      <td>b_beta_sim_k8</td>\n",
       "      <td>0.795965</td>\n",
       "      <td>8.999546e-01</td>\n",
       "    </tr>\n",
       "    <tr>\n",
       "      <th>15</th>\n",
       "      <td>K-Means</td>\n",
       "      <td>[7, 2, 2, 2, 2, 2, 2, 2, 2, 2, 2, 2, 2, 2, 2, ...</td>\n",
       "      <td>UcatS</td>\n",
       "      <td>10</td>\n",
       "      <td>1100</td>\n",
       "      <td>b_beta_sim_k8</td>\n",
       "      <td>0.866420</td>\n",
       "      <td>9.445300e-01</td>\n",
       "    </tr>\n",
       "    <tr>\n",
       "      <th>16</th>\n",
       "      <td>Leiden</td>\n",
       "      <td>[4, 4, 4, 4, 4, 4, 4, 4, 4, 4, 4, 4, 4, 4, 4, ...</td>\n",
       "      <td>U</td>\n",
       "      <td>1</td>\n",
       "      <td>700</td>\n",
       "      <td>k_gamma_sim_k8</td>\n",
       "      <td>0.998428</td>\n",
       "      <td>9.951753e-01</td>\n",
       "    </tr>\n",
       "    <tr>\n",
       "      <th>17</th>\n",
       "      <td>Leiden</td>\n",
       "      <td>[1, 1, 3, 2, 2, 1, 2, 3, 2, 4, 1, 0, 2, 0, 2, ...</td>\n",
       "      <td>S</td>\n",
       "      <td>1</td>\n",
       "      <td>700</td>\n",
       "      <td>k_gamma_sim_k8</td>\n",
       "      <td>0.471722</td>\n",
       "      <td>3.502715e-01</td>\n",
       "    </tr>\n",
       "    <tr>\n",
       "      <th>18</th>\n",
       "      <td>Leiden</td>\n",
       "      <td>[1, 4, 4, 4, 4, 4, 4, 4, 4, 4, 4, 4, 4, 4, 4, ...</td>\n",
       "      <td>U+S</td>\n",
       "      <td>1</td>\n",
       "      <td>700</td>\n",
       "      <td>k_gamma_sim_k8</td>\n",
       "      <td>0.996348</td>\n",
       "      <td>9.880589e-01</td>\n",
       "    </tr>\n",
       "    <tr>\n",
       "      <th>19</th>\n",
       "      <td>Leiden</td>\n",
       "      <td>[4, 4, 4, 4, 4, 4, 4, 4, 4, 4, 4, 4, 4, 4, 4, ...</td>\n",
       "      <td>UcatS</td>\n",
       "      <td>1</td>\n",
       "      <td>700</td>\n",
       "      <td>k_gamma_sim_k8</td>\n",
       "      <td>0.998026</td>\n",
       "      <td>9.923766e-01</td>\n",
       "    </tr>\n",
       "    <tr>\n",
       "      <th>20</th>\n",
       "      <td>K-Means</td>\n",
       "      <td>[3, 3, 3, 3, 3, 3, 3, 3, 3, 3, 3, 3, 3, 3, 0, ...</td>\n",
       "      <td>U</td>\n",
       "      <td>5</td>\n",
       "      <td>700</td>\n",
       "      <td>k_gamma_sim_k8</td>\n",
       "      <td>0.738457</td>\n",
       "      <td>8.639497e-01</td>\n",
       "    </tr>\n",
       "    <tr>\n",
       "      <th>21</th>\n",
       "      <td>K-Means</td>\n",
       "      <td>[0, 1, 3, 1, 4, 4, 1, 4, 3, 2, 3, 2, 4, 2, 1, ...</td>\n",
       "      <td>S</td>\n",
       "      <td>5</td>\n",
       "      <td>700</td>\n",
       "      <td>k_gamma_sim_k8</td>\n",
       "      <td>0.539081</td>\n",
       "      <td>5.699528e-01</td>\n",
       "    </tr>\n",
       "    <tr>\n",
       "      <th>22</th>\n",
       "      <td>K-Means</td>\n",
       "      <td>[0, 0, 0, 2, 0, 4, 4, 0, 2, 0, 0, 0, 0, 0, 4, ...</td>\n",
       "      <td>U+S</td>\n",
       "      <td>5</td>\n",
       "      <td>700</td>\n",
       "      <td>k_gamma_sim_k8</td>\n",
       "      <td>0.736945</td>\n",
       "      <td>8.504663e-01</td>\n",
       "    </tr>\n",
       "    <tr>\n",
       "      <th>23</th>\n",
       "      <td>K-Means</td>\n",
       "      <td>[1, 1, 1, 1, 1, 1, 1, 1, 1, 1, 1, 1, 1, 1, 1, ...</td>\n",
       "      <td>UcatS</td>\n",
       "      <td>5</td>\n",
       "      <td>700</td>\n",
       "      <td>k_gamma_sim_k8</td>\n",
       "      <td>1.000000</td>\n",
       "      <td>1.000000e+00</td>\n",
       "    </tr>\n",
       "  </tbody>\n",
       "</table>\n",
       "</div>"
      ],
      "text/plain": [
       "     Method                                         Clustering Matrices  \\\n",
       "0    Leiden  [0, 1, 7, 8, 2, 0, 2, 1, 0, 3, 0, 7, 0, 5, 4, ...        U   \n",
       "1    Leiden  [14, 12, 13, 12, 2, 13, 3, 11, 2, 13, 3, 14, 0...        S   \n",
       "2    Leiden  [5, 9, 12, 3, 2, 9, 12, 0, 3, 5, 0, 9, 10, 1, ...      U+S   \n",
       "3    Leiden  [1, 5, 1, 1, 5, 1, 8, 0, 5, 4, 3, 3, 6, 1, 0, ...    UcatS   \n",
       "4   K-Means  [4, 4, 3, 2, 8, 8, 0, 9, 6, 5, 4, 9, 6, 8, 2, ...        U   \n",
       "5   K-Means  [8, 5, 0, 8, 8, 5, 1, 4, 9, 9, 2, 3, 4, 1, 1, ...        S   \n",
       "6   K-Means  [4, 7, 2, 2, 4, 9, 5, 1, 6, 7, 4, 9, 8, 6, 2, ...      U+S   \n",
       "7   K-Means  [8, 3, 7, 0, 5, 5, 0, 4, 0, 1, 1, 7, 5, 5, 9, ...    UcatS   \n",
       "8    Leiden  [6, 0, 6, 6, 6, 6, 6, 6, 0, 6, 6, 6, 0, 0, 6, ...        U   \n",
       "9    Leiden  [2, 4, 3, 4, 8, 9, 0, 3, 3, 7, 5, 3, 3, 2, 4, ...        S   \n",
       "10   Leiden  [3, 0, 3, 3, 3, 3, 3, 3, 3, 3, 3, 3, 3, 0, 3, ...      U+S   \n",
       "11   Leiden  [5, 5, 5, 5, 5, 5, 5, 5, 5, 5, 5, 5, 5, 5, 5, ...    UcatS   \n",
       "12  K-Means  [2, 2, 2, 2, 2, 2, 2, 2, 2, 2, 2, 2, 2, 2, 5, ...        U   \n",
       "13  K-Means  [3, 2, 7, 0, 4, 3, 9, 6, 0, 8, 2, 2, 2, 7, 2, ...        S   \n",
       "14  K-Means  [7, 7, 7, 7, 7, 7, 4, 7, 7, 7, 7, 7, 7, 7, 1, ...      U+S   \n",
       "15  K-Means  [7, 2, 2, 2, 2, 2, 2, 2, 2, 2, 2, 2, 2, 2, 2, ...    UcatS   \n",
       "16   Leiden  [4, 4, 4, 4, 4, 4, 4, 4, 4, 4, 4, 4, 4, 4, 4, ...        U   \n",
       "17   Leiden  [1, 1, 3, 2, 2, 1, 2, 3, 2, 4, 1, 0, 2, 0, 2, ...        S   \n",
       "18   Leiden  [1, 4, 4, 4, 4, 4, 4, 4, 4, 4, 4, 4, 4, 4, 4, ...      U+S   \n",
       "19   Leiden  [4, 4, 4, 4, 4, 4, 4, 4, 4, 4, 4, 4, 4, 4, 4, ...    UcatS   \n",
       "20  K-Means  [3, 3, 3, 3, 3, 3, 3, 3, 3, 3, 3, 3, 3, 3, 0, ...        U   \n",
       "21  K-Means  [0, 1, 3, 1, 4, 4, 1, 4, 3, 2, 3, 2, 4, 2, 1, ...        S   \n",
       "22  K-Means  [0, 0, 0, 2, 0, 4, 4, 0, 2, 0, 0, 0, 0, 0, 4, ...      U+S   \n",
       "23  K-Means  [1, 1, 1, 1, 1, 1, 1, 1, 1, 1, 1, 1, 1, 1, 1, ...    UcatS   \n",
       "\n",
       "    Hyperparam  HVGs            Data       ARI           AMI  \n",
       "0            1  1100  negctrl_sim_k1  0.000000  1.837018e-16  \n",
       "1            1  1100  negctrl_sim_k1  0.000000  2.178137e-16  \n",
       "2            1  1100  negctrl_sim_k1  0.000000  2.179588e-16  \n",
       "3            1  1100  negctrl_sim_k1  0.000000  6.054004e-16  \n",
       "4           10  1100  negctrl_sim_k1  0.000000  2.613066e-16  \n",
       "5           10  1100  negctrl_sim_k1  0.000000  1.389040e-16  \n",
       "6           10  1100  negctrl_sim_k1  0.000000  2.272039e-17  \n",
       "7           10  1100  negctrl_sim_k1  0.000000 -1.629062e-16  \n",
       "8            1  1100   b_beta_sim_k8  0.743029  8.097669e-01  \n",
       "9            1  1100   b_beta_sim_k8  0.029161  3.302685e-02  \n",
       "10           1  1100   b_beta_sim_k8  0.678228  7.031904e-01  \n",
       "11           1  1100   b_beta_sim_k8  0.666374  7.241318e-01  \n",
       "12          10  1100   b_beta_sim_k8  0.685873  8.600074e-01  \n",
       "13          10  1100   b_beta_sim_k8  0.258088  2.378114e-01  \n",
       "14          10  1100   b_beta_sim_k8  0.795965  8.999546e-01  \n",
       "15          10  1100   b_beta_sim_k8  0.866420  9.445300e-01  \n",
       "16           1   700  k_gamma_sim_k8  0.998428  9.951753e-01  \n",
       "17           1   700  k_gamma_sim_k8  0.471722  3.502715e-01  \n",
       "18           1   700  k_gamma_sim_k8  0.996348  9.880589e-01  \n",
       "19           1   700  k_gamma_sim_k8  0.998026  9.923766e-01  \n",
       "20           5   700  k_gamma_sim_k8  0.738457  8.639497e-01  \n",
       "21           5   700  k_gamma_sim_k8  0.539081  5.699528e-01  \n",
       "22           5   700  k_gamma_sim_k8  0.736945  8.504663e-01  \n",
       "23           5   700  k_gamma_sim_k8  1.000000  1.000000e+00  "
      ]
     },
     "execution_count": 238,
     "metadata": {},
     "output_type": "execute_result"
    }
   ],
   "source": [
    "LK_res"
   ]
  },
  {
   "cell_type": "code",
   "execution_count": 239,
   "id": "c40aae37",
   "metadata": {},
   "outputs": [],
   "source": [
    "LK_res.to_pickle('./fits/LeidKMeansruns_0306/LK_sim_results.pkl') #0301\n",
    "#unpickled_df = pd.read_pickle(\"./meK_res.pkl\")"
   ]
  },
  {
   "cell_type": "code",
   "execution_count": 241,
   "id": "f40e463f",
   "metadata": {},
   "outputs": [],
   "source": [
    "transcriptomes = ['/home/tchari/perturbCME/notebooks/sim_genome_polyA_cum_3_0',\n",
    "                  '/home/tchari/perturbCME/notebooks/sim_genome_polyA_cum_3_0',\n",
    "                 '/home/tchari/perturbCME/notebooks/sim_genome_polyA_cum_3_1']"
   ]
  },
  {
   "cell_type": "code",
   "execution_count": 243,
   "id": "673ab57a",
   "metadata": {},
   "outputs": [
    {
     "name": "stdout",
     "output_type": "stream",
     "text": [
      "mkdir: cannot create directory ‘/home/tchari/perturbCME/notebooks/fits/meKruns_0306’: File exists\n",
      "b_beta_sim_k8 with 1100 genes\n",
      "WARNING:root:Selecting 1100 genes required 0.0% dataset threshold.\n"
     ]
    },
    {
     "name": "stderr",
     "output_type": "stream",
     "text": [
      "100%|████████████████████████████████████████████████████████████████████████████████████████████████████| 10/10 [01:45<00:00, 10.52s/it]\n",
      "100%|████████████████████████████████████████████████████████████████████████████████████████████████████| 10/10 [01:50<00:00, 11.03s/it]\n"
     ]
    },
    {
     "name": "stdout",
     "output_type": "stream",
     "text": [
      "mstep self.weights:  [0.02130789 0.21951494 0.16482509 0.1216082  0.06894709 0.08862405\n",
      " 0.06587888 0.07057967 0.12444889 0.0542653 ]\n",
      "Q Function:  -7646860.875121265\n",
      "\n"
     ]
    },
    {
     "name": "stderr",
     "output_type": "stream",
     "text": [
      "100%|████████████████████████████████████████████████████████████████████████████████████████████████████| 10/10 [01:41<00:00, 10.14s/it]\n"
     ]
    },
    {
     "name": "stdout",
     "output_type": "stream",
     "text": [
      "mstep self.weights:  [0.00069093 0.23858718 0.19537353 0.15939084 0.05120111 0.0600907\n",
      " 0.09508959 0.07557237 0.10175058 0.02225315]\n",
      "Q Function:  -7598969.520596657\n",
      "\n"
     ]
    },
    {
     "name": "stderr",
     "output_type": "stream",
     "text": [
      "100%|██████████████████████████████████████████████████████████████████████████████████████████████████████| 9/9 [01:45<00:00, 11.68s/it]\n"
     ]
    },
    {
     "name": "stdout",
     "output_type": "stream",
     "text": [
      "mstep self.weights:  [2.00000000e-10 2.56008718e-01 1.98482154e-01 1.60605416e-01\n",
      " 4.11572487e-02 5.81470461e-02 1.01689478e-01 7.93333040e-02\n",
      " 1.00196738e-01 4.37989755e-03]\n",
      "Q Function:  -7593111.06645591\n",
      "\n"
     ]
    },
    {
     "name": "stderr",
     "output_type": "stream",
     "text": [
      "100%|██████████████████████████████████████████████████████████████████████████████████████████████████████| 8/8 [01:36<00:00, 12.09s/it]\n"
     ]
    },
    {
     "name": "stdout",
     "output_type": "stream",
     "text": [
      "mstep self.weights:  [2.00000000e-10 2.60538089e-01 1.99136406e-01 1.60487843e-01\n",
      " 4.05913591e-02 5.76568051e-02 1.03031606e-01 7.85194320e-02\n",
      " 1.00038459e-01 2.00000000e-10]\n",
      "Q Function:  -7585727.365004344\n",
      "\n"
     ]
    },
    {
     "name": "stderr",
     "output_type": "stream",
     "text": [
      "100%|██████████████████████████████████████████████████████████████████████████████████████████████████████| 8/8 [01:46<00:00, 13.27s/it]\n"
     ]
    },
    {
     "name": "stdout",
     "output_type": "stream",
     "text": [
      "mstep self.weights:  [2.00000000e-10 2.60634457e-01 1.99213017e-01 1.60540388e-01\n",
      " 4.05994396e-02 5.77038781e-02 1.04114269e-01 7.72132048e-02\n",
      " 9.99813462e-02 2.00000000e-10]\n",
      "Q Function:  -7589362.74209284\n",
      "\n"
     ]
    },
    {
     "name": "stderr",
     "output_type": "stream",
     "text": [
      "100%|██████████████████████████████████████████████████████████████████████████████████████████████████████| 8/8 [01:39<00:00, 12.41s/it]\n"
     ]
    },
    {
     "name": "stdout",
     "output_type": "stream",
     "text": [
      "mstep self.weights:  [2.00000000e-10 2.60625148e-01 1.99176110e-01 1.60731555e-01\n",
      " 4.05992130e-02 5.76710358e-02 1.04511366e-01 7.67110117e-02\n",
      " 9.99745601e-02 2.00000000e-10]\n",
      "Q Function:  -7588814.783809085\n",
      "\n"
     ]
    },
    {
     "name": "stderr",
     "output_type": "stream",
     "text": [
      "100%|██████████████████████████████████████████████████████████████████████████████████████████████████████| 8/8 [01:48<00:00, 13.52s/it]\n"
     ]
    },
    {
     "name": "stdout",
     "output_type": "stream",
     "text": [
      "mstep self.weights:  [2.00000000e-10 2.60631652e-01 1.99179722e-01 1.60764910e-01\n",
      " 4.05992801e-02 5.77129698e-02 1.04700185e-01 7.64317035e-02\n",
      " 9.99795767e-02 2.00000000e-10]\n",
      "Q Function:  -7588918.205886777\n",
      "\n"
     ]
    },
    {
     "name": "stderr",
     "output_type": "stream",
     "text": [
      "100%|██████████████████████████████████████████████████████████████████████████████████████████████████████| 8/8 [01:39<00:00, 12.39s/it]\n"
     ]
    },
    {
     "name": "stdout",
     "output_type": "stream",
     "text": [
      "mstep self.weights:  [2.00000000e-10 2.60631695e-01 1.99179717e-01 1.60765181e-01\n",
      " 4.05992791e-02 5.77130374e-02 1.04701253e-01 7.64301918e-02\n",
      " 9.99796448e-02 2.00000000e-10]\n",
      "Q Function:  -7588918.212162818\n",
      "\n"
     ]
    },
    {
     "name": "stderr",
     "output_type": "stream",
     "text": [
      "100%|██████████████████████████████████████████████████████████████████████████████████████████████████████| 8/8 [01:37<00:00, 12.19s/it]\n"
     ]
    },
    {
     "name": "stdout",
     "output_type": "stream",
     "text": [
      "mstep self.weights:  [2.00000000e-10 2.60631695e-01 1.99179717e-01 1.60765182e-01\n",
      " 4.05992791e-02 5.77130375e-02 1.04701259e-01 7.64301835e-02\n",
      " 9.99796452e-02 2.00000000e-10]\n",
      "Q Function:  -7588918.212219475\n",
      "\n"
     ]
    },
    {
     "name": "stderr",
     "output_type": "stream",
     "text": [
      "100%|██████████████████████████████████████████████████████████████████████████████████████████████████████| 8/8 [01:37<00:00, 12.25s/it]\n"
     ]
    },
    {
     "name": "stdout",
     "output_type": "stream",
     "text": [
      "mstep self.weights:  [2.00000000e-10 2.60631695e-01 1.99179717e-01 1.60765182e-01\n",
      " 4.05992791e-02 5.77130375e-02 1.04701260e-01 7.64301834e-02\n",
      " 9.99796452e-02 2.00000000e-10]\n",
      "Q Function:  -7588918.212219794\n",
      "\n",
      "No. clus:  8\n",
      "ARI:  0.9771046604192287\n",
      "k_gamma_sim_k8 with 700 genes\n",
      "WARNING:root:Selecting 700 genes required 0.0% dataset threshold.\n"
     ]
    },
    {
     "name": "stderr",
     "output_type": "stream",
     "text": [
      "100%|██████████████████████████████████████████████████████████████████████████████████████████████████████| 5/5 [00:41<00:00,  8.29s/it]\n",
      "100%|██████████████████████████████████████████████████████████████████████████████████████████████████████| 5/5 [00:41<00:00,  8.34s/it]\n"
     ]
    },
    {
     "name": "stdout",
     "output_type": "stream",
     "text": [
      "mstep self.weights:  [0.12303505 0.2942045  0.16207656 0.27866867 0.14201521]\n",
      "Q Function:  -3352778.0062893457\n",
      "\n"
     ]
    },
    {
     "name": "stderr",
     "output_type": "stream",
     "text": [
      "100%|██████████████████████████████████████████████████████████████████████████████████████████████████████| 5/5 [00:47<00:00,  9.53s/it]\n"
     ]
    },
    {
     "name": "stdout",
     "output_type": "stream",
     "text": [
      "mstep self.weights:  [0.11817373 0.29413751 0.18210131 0.25908663 0.14650082]\n",
      "Q Function:  -3335612.3462723405\n",
      "\n"
     ]
    },
    {
     "name": "stderr",
     "output_type": "stream",
     "text": [
      "100%|██████████████████████████████████████████████████████████████████████████████████████████████████████| 5/5 [00:41<00:00,  8.33s/it]\n"
     ]
    },
    {
     "name": "stdout",
     "output_type": "stream",
     "text": [
      "mstep self.weights:  [0.1178585  0.29417964 0.14445117 0.2967253  0.14678539]\n",
      "Q Function:  -3334373.7938849297\n",
      "\n"
     ]
    },
    {
     "name": "stderr",
     "output_type": "stream",
     "text": [
      "100%|██████████████████████████████████████████████████████████████████████████████████████████████████████| 5/5 [00:42<00:00,  8.41s/it]\n"
     ]
    },
    {
     "name": "stdout",
     "output_type": "stream",
     "text": [
      "mstep self.weights:  [0.11784623 0.29419277 0.15625715 0.28491933 0.14678452]\n",
      "Q Function:  -3334827.0017203027\n",
      "\n"
     ]
    },
    {
     "name": "stderr",
     "output_type": "stream",
     "text": [
      "100%|██████████████████████████████████████████████████████████████████████████████████████████████████████| 5/5 [00:41<00:00,  8.28s/it]\n"
     ]
    },
    {
     "name": "stdout",
     "output_type": "stream",
     "text": [
      "mstep self.weights:  [0.11784623 0.29419278 0.12498703 0.31618944 0.14678452]\n",
      "Q Function:  -3334028.3468119223\n",
      "\n"
     ]
    },
    {
     "name": "stderr",
     "output_type": "stream",
     "text": [
      "100%|██████████████████████████████████████████████████████████████████████████████████████████████████████| 5/5 [00:48<00:00,  9.66s/it]\n"
     ]
    },
    {
     "name": "stdout",
     "output_type": "stream",
     "text": [
      "mstep self.weights:  [0.11784623 0.29419278 0.12039585 0.32078062 0.14678452]\n",
      "Q Function:  -3335474.527696818\n",
      "\n"
     ]
    },
    {
     "name": "stderr",
     "output_type": "stream",
     "text": [
      "100%|██████████████████████████████████████████████████████████████████████████████████████████████████████| 5/5 [00:41<00:00,  8.30s/it]\n"
     ]
    },
    {
     "name": "stdout",
     "output_type": "stream",
     "text": [
      "mstep self.weights:  [0.11784623 0.29419278 0.08114286 0.36003361 0.14678452]\n",
      "Q Function:  -3334448.2043319936\n",
      "\n"
     ]
    },
    {
     "name": "stderr",
     "output_type": "stream",
     "text": [
      "100%|██████████████████████████████████████████████████████████████████████████████████████████████████████| 5/5 [00:41<00:00,  8.31s/it]\n"
     ]
    },
    {
     "name": "stdout",
     "output_type": "stream",
     "text": [
      "mstep self.weights:  [0.11784623 0.29419278 0.06957437 0.37160211 0.14678452]\n",
      "Q Function:  -3334269.140620426\n",
      "\n"
     ]
    },
    {
     "name": "stderr",
     "output_type": "stream",
     "text": [
      "100%|██████████████████████████████████████████████████████████████████████████████████████████████████████| 5/5 [00:41<00:00,  8.33s/it]\n"
     ]
    },
    {
     "name": "stdout",
     "output_type": "stream",
     "text": [
      "mstep self.weights:  [0.11784626 0.29419278 0.01628122 0.42489522 0.14678452]\n",
      "Q Function:  -3336645.365907383\n",
      "\n"
     ]
    },
    {
     "name": "stderr",
     "output_type": "stream",
     "text": [
      "100%|██████████████████████████████████████████████████████████████████████████████████████████████████████| 4/4 [00:40<00:00, 10.21s/it]\n"
     ]
    },
    {
     "name": "stdout",
     "output_type": "stream",
     "text": [
      "mstep self.weights:  [1.17846235e-01 2.94192768e-01 1.94523151e-08 4.41176455e-01\n",
      " 1.46784523e-01]\n",
      "Q Function:  -3335875.9705061186\n",
      "\n",
      "No. clus:  4\n",
      "ARI:  0.9875836314870531\n"
     ]
    }
   ],
   "source": [
    "#For each loom in looms from ./hvg_objs\n",
    "\n",
    "# !mkdir /home/tchari/perturbCME/notebooks/fits/meKruns_0209\n",
    "!mkdir /home/tchari/perturbCME/notebooks/fits/meKruns_0306\n",
    "\n",
    "\n",
    "dir_strings = []\n",
    "data_strings = []\n",
    "result_strings = []\n",
    "\n",
    "#Save method, clustering, mat_in (U,S, etc), hyper (K or res), hvgs, data, ARI, AMI\n",
    "meK_res = pd.DataFrame()\n",
    "meths = []\n",
    "result = []\n",
    "mats = []\n",
    "hyper = []\n",
    "hvgs = []\n",
    "data = []\n",
    "ari = []\n",
    "ami = []\n",
    "\n",
    "for d in sub_d_strings[1:]: #************* FASTER FOR NOW ************* \n",
    "    \n",
    "    #Get tech param by keyword (datas) in loom paths\n",
    "    ind = [i in d for i in datas]\n",
    "    \n",
    "    #Inference params for sampling\n",
    "    tech_tup = samp\n",
    "    \n",
    "    #Preprocessing params for filepaths\n",
    "    trans = np.array(transcriptomes)[ind][0]\n",
    "\n",
    "    data_name = np.array(datas)[ind][0]\n",
    "    \n",
    "    \n",
    "    ds = lp.connect(d)\n",
    "    g_names = ds.ra[attribute_names[1]]\n",
    "    num_genes = len(g_names)\n",
    "    num_cells = len(ds.ca[attribute_names[2]])\n",
    "    \n",
    "    U = ds.layers['unspliced'][:,:].T\n",
    "    S = ds.layers['spliced'][:,:].T\n",
    "    true_labs = list(ds.ca['subclass_label'])\n",
    "    ds.close()\n",
    "\n",
    "    \n",
    "    print(data_name+' with '+str(num_genes)+' genes')\n",
    "    \n",
    "    \n",
    "    if 'negctrl' in d:\n",
    "        Ks = [10] #***FILL THIS IN from leiden *******\n",
    "    else:\n",
    "        Ks = [len(np.unique(true_labs))]\n",
    "        \n",
    "\n",
    "    for clus in Ks:\n",
    "       \n",
    "        #Run Monod preprocessing to set up files for run, leave room for genes to be removed with low U/S\n",
    "        dir_string,dataset_string = monod.preprocess.construct_batch([d], \\\n",
    "                                                     trans, \\\n",
    "                                                     [data_name], \\\n",
    "                                                     attribute_names=attribute_names,\\\n",
    "                                                     batch_location='./fits/meKruns_0306', \\\n",
    "                                                     meta=data_name+'_K'+str(clus), \\\n",
    "                                                     batch_id=1, \\\n",
    "                                                     n_genes=num_genes,exp_filter_threshold=None,\n",
    "                                                                     viz=False,genes_to_fit=g_names)\n",
    "                                                        #num_genes-60 or 100,genes_to_fit=markers\n",
    "        dir_strings += [dir_string]\n",
    "        data_strings += [dataset_string]\n",
    "\n",
    "        #Set model and run meK-Means\n",
    "        \n",
    "        #Define bounds for params\n",
    "        phys_lb = [-3.0, -3, -3 ] \n",
    "        phys_ub = [4.2, 2.5, 2.5] \n",
    "        samp_lb = tech_tup \n",
    "        samp_ub = tech_tup  \n",
    "        gridsize = [1,1] #Already have tech params\n",
    "    \n",
    "\n",
    "        epochs = 10\n",
    "\n",
    "        # ---------------- meK-Means Inference ---------------- \n",
    "        #Define model with bursty transcription and Poisson molecule capture/sampling\n",
    "        fitmodel = monod.cme_toolbox.CMEModel('Bursty','Poisson')\n",
    "\n",
    "        #Set up mminference parameters\n",
    "        inference_parameters = monod.mminference.InferenceParameters(phys_lb,phys_ub,samp_lb,samp_ub,gridsize,\\\n",
    "                    dataset_string[0],fitmodel,k=clus,epochs=epochs,use_lengths = True,\n",
    "                    gradient_params = {'max_iterations':5,'init_pattern':'moments','num_restarts':1})\n",
    "\n",
    "        #Read in loom file with filtered barcodes\n",
    "        search_data = monod.extract_data.extract_data(d, trans, data_name,\n",
    "                    dataset_string[0], dir_string, viz=False, dataset_attr_names=attribute_names)\n",
    "\n",
    "        #Run inference(fit_all_grid_points()) and Save result file strings\n",
    "        full_result_string = inference_parameters.fit_all_grid_points(40,search_data) \n",
    "\n",
    "        result_strings.append(full_result_string)\n",
    "        \n",
    "\n",
    "        # ----------------  Save output ---------------- \n",
    "        #Read in results and get cluster assignments\n",
    "        sr = [monod.analysis.load_search_results(i) for i in full_result_string]\n",
    "        \n",
    "        \n",
    "        cat_assigns = np.array([None]*num_cells) #cat_assigns is empty list of length = no. cell barcodes\n",
    "        for i in range(len(sr)):\n",
    "            r = sr[i]\n",
    "            cat_assigns[r.filt] = r.assigns #denotes which cluster (k), cells were assigned to\n",
    "\n",
    "        print('No. clus: ',len(np.unique(cat_assigns)))\n",
    "        \n",
    "\n",
    "        meths += ['meK-Means']\n",
    "        result += [cat_assigns]\n",
    "        mats += ['U,S']\n",
    "        hyper += [clus]\n",
    "        hvgs += [num_genes]\n",
    "        data += [data_name]\n",
    "        ari += [adjusted_rand_score(true_labs,cat_assigns)]\n",
    "        ami += [adjusted_mutual_info_score(true_labs,cat_assigns)]\n",
    "        \n",
    "        print('ARI: ',adjusted_rand_score(true_labs,cat_assigns))\n",
    "\n",
    "\n",
    "meK_res['Method'] = meths\n",
    "meK_res['Clustering'] = result\n",
    "meK_res['Matrices'] = mats\n",
    "meK_res['Hyperparam'] = hyper\n",
    "meK_res['Genes'] = hvgs\n",
    "meK_res['Data'] = data\n",
    "meK_res['ARI'] = ari\n",
    "meK_res['AMI'] = ami\n",
    "    "
   ]
  },
  {
   "cell_type": "code",
   "execution_count": 244,
   "id": "eab7c913",
   "metadata": {},
   "outputs": [
    {
     "data": {
      "text/html": [
       "<div>\n",
       "<style scoped>\n",
       "    .dataframe tbody tr th:only-of-type {\n",
       "        vertical-align: middle;\n",
       "    }\n",
       "\n",
       "    .dataframe tbody tr th {\n",
       "        vertical-align: top;\n",
       "    }\n",
       "\n",
       "    .dataframe thead th {\n",
       "        text-align: right;\n",
       "    }\n",
       "</style>\n",
       "<table border=\"1\" class=\"dataframe\">\n",
       "  <thead>\n",
       "    <tr style=\"text-align: right;\">\n",
       "      <th></th>\n",
       "      <th>Method</th>\n",
       "      <th>Clustering</th>\n",
       "      <th>Matrices</th>\n",
       "      <th>Hyperparam</th>\n",
       "      <th>Genes</th>\n",
       "      <th>Data</th>\n",
       "      <th>ARI</th>\n",
       "      <th>AMI</th>\n",
       "    </tr>\n",
       "  </thead>\n",
       "  <tbody>\n",
       "    <tr>\n",
       "      <th>0</th>\n",
       "      <td>meK-Means</td>\n",
       "      <td>[7, 7, 7, 7, 7, 7, 7, 7, 7, 7, 7, 7, 7, 7, 7, ...</td>\n",
       "      <td>U,S</td>\n",
       "      <td>10</td>\n",
       "      <td>1100</td>\n",
       "      <td>b_beta_sim_k8</td>\n",
       "      <td>0.977105</td>\n",
       "      <td>0.957871</td>\n",
       "    </tr>\n",
       "    <tr>\n",
       "      <th>1</th>\n",
       "      <td>meK-Means</td>\n",
       "      <td>[0, 0, 0, 0, 0, 0, 0, 0, 0, 0, 0, 0, 0, 0, 0, ...</td>\n",
       "      <td>U,S</td>\n",
       "      <td>5</td>\n",
       "      <td>700</td>\n",
       "      <td>k_gamma_sim_k8</td>\n",
       "      <td>0.987584</td>\n",
       "      <td>0.972653</td>\n",
       "    </tr>\n",
       "  </tbody>\n",
       "</table>\n",
       "</div>"
      ],
      "text/plain": [
       "      Method                                         Clustering Matrices  \\\n",
       "0  meK-Means  [7, 7, 7, 7, 7, 7, 7, 7, 7, 7, 7, 7, 7, 7, 7, ...      U,S   \n",
       "1  meK-Means  [0, 0, 0, 0, 0, 0, 0, 0, 0, 0, 0, 0, 0, 0, 0, ...      U,S   \n",
       "\n",
       "   Hyperparam  Genes            Data       ARI       AMI  \n",
       "0          10   1100   b_beta_sim_k8  0.977105  0.957871  \n",
       "1           5    700  k_gamma_sim_k8  0.987584  0.972653  "
      ]
     },
     "execution_count": 244,
     "metadata": {},
     "output_type": "execute_result"
    }
   ],
   "source": [
    "meK_res"
   ]
  },
  {
   "cell_type": "code",
   "execution_count": 245,
   "id": "17ecfd7e",
   "metadata": {},
   "outputs": [],
   "source": [
    "meK_res.to_pickle('./fits/meKruns_0306/meK_sim_results.pkl') #0301\n",
    "#unpickled_df = pd.read_pickle(\"./meK_res.pkl\")"
   ]
  },
  {
   "cell_type": "code",
   "execution_count": 249,
   "id": "ea7d8d71",
   "metadata": {},
   "outputs": [
    {
     "data": {
      "text/plain": [
       "'/home/tchari/perturbCME/notebooks/sim_genome_polyA_cum_3_0'"
      ]
     },
     "execution_count": 249,
     "metadata": {},
     "output_type": "execute_result"
    }
   ],
   "source": [
    "np.array(transcriptomes)[0]"
   ]
  },
  {
   "cell_type": "code",
   "execution_count": 250,
   "id": "5fd2f62a",
   "metadata": {},
   "outputs": [
    {
     "name": "stdout",
     "output_type": "stream",
     "text": [
      "negctrl_sim_k1 with 1100 genes\n",
      "WARNING:root:Selecting 1100 genes required 0.0% dataset threshold.\n"
     ]
    },
    {
     "name": "stderr",
     "output_type": "stream",
     "text": [
      "100%|████████████████████████████████████████████████████████████████████████████████████████████████████| 10/10 [01:38<00:00,  9.82s/it]\n",
      "100%|████████████████████████████████████████████████████████████████████████████████████████████████████| 10/10 [01:38<00:00,  9.81s/it]\n"
     ]
    },
    {
     "name": "stdout",
     "output_type": "stream",
     "text": [
      "mstep self.weights:  [0.03866153 0.27886566 0.10848511 0.02935103 0.02319026 0.21954071\n",
      " 0.08938233 0.07991915 0.01599268 0.11661154]\n",
      "Q Function:  -7205402.919601542\n",
      "\n"
     ]
    },
    {
     "name": "stderr",
     "output_type": "stream",
     "text": [
      "100%|██████████████████████████████████████████████████████████████████████████████████████████████████████| 9/9 [01:40<00:00, 11.22s/it]\n"
     ]
    },
    {
     "name": "stdout",
     "output_type": "stream",
     "text": [
      "mstep self.weights:  [3.42013288e-03 4.91752303e-01 1.30272183e-01 9.84453936e-04\n",
      " 6.28162594e-06 1.48956136e-01 4.33010212e-02 4.83604226e-02\n",
      " 8.84346411e-04 1.32062719e-01]\n",
      "Q Function:  -7195788.6708520325\n",
      "\n"
     ]
    },
    {
     "name": "stderr",
     "output_type": "stream",
     "text": [
      "100%|██████████████████████████████████████████████████████████████████████████████████████████████████████| 6/6 [01:34<00:00, 15.78s/it]\n"
     ]
    },
    {
     "name": "stdout",
     "output_type": "stream",
     "text": [
      "mstep self.weights:  [2.00000000e-10 4.68676894e-01 1.94785961e-01 2.00000000e-10\n",
      " 1.16439947e-08 2.75898400e-01 1.80580310e-02 2.46824951e-02\n",
      " 2.00000000e-10 1.78982061e-02]\n",
      "Q Function:  -7196495.303387906\n",
      "\n"
     ]
    },
    {
     "name": "stderr",
     "output_type": "stream",
     "text": [
      "100%|██████████████████████████████████████████████████████████████████████████████████████████████████████| 5/5 [01:48<00:00, 21.61s/it]\n"
     ]
    },
    {
     "name": "stdout",
     "output_type": "stream",
     "text": [
      "mstep self.weights:  [2.00000000e-10 7.77980229e-01 5.54422984e-02 2.00000000e-10\n",
      " 2.00866615e-10 1.61407677e-01 4.88893032e-03 2.80859531e-04\n",
      " 2.00000000e-10 5.48829504e-09]\n",
      "Q Function:  -7192066.547749391\n",
      "\n"
     ]
    },
    {
     "name": "stderr",
     "output_type": "stream",
     "text": [
      "100%|██████████████████████████████████████████████████████████████████████████████████████████████████████| 3/3 [01:43<00:00, 34.49s/it]\n"
     ]
    },
    {
     "name": "stdout",
     "output_type": "stream",
     "text": [
      "mstep self.weights:  [2.00000000e-10 9.87132399e-01 7.16275013e-03 2.00000000e-10\n",
      " 2.01205391e-10 5.70484931e-03 2.00000000e-10 2.00000000e-10\n",
      " 2.00000000e-10 2.00011332e-10]\n",
      "Q Function:  -7196454.04687782\n",
      "\n"
     ]
    },
    {
     "name": "stderr",
     "output_type": "stream",
     "text": [
      "100%|██████████████████████████████████████████████████████████████████████████████████████████████████████| 1/1 [01:29<00:00, 89.60s/it]\n"
     ]
    },
    {
     "name": "stdout",
     "output_type": "stream",
     "text": [
      "mstep self.weights:  [2.00000000e-10 9.99999998e-01 2.00000000e-10 2.00000000e-10\n",
      " 2.01102149e-10 2.00000000e-10 2.00000000e-10 2.00000000e-10\n",
      " 2.00000000e-10 2.00000095e-10]\n",
      "Q Function:  -7196153.749406412\n",
      "\n"
     ]
    },
    {
     "name": "stderr",
     "output_type": "stream",
     "text": [
      "100%|██████████████████████████████████████████████████████████████████████████████████████████████████████| 1/1 [01:29<00:00, 89.11s/it]\n"
     ]
    },
    {
     "name": "stdout",
     "output_type": "stream",
     "text": [
      "mstep self.weights:  [2.00000000e-10 9.99999998e-01 2.00000000e-10 2.00000000e-10\n",
      " 2.00027819e-10 2.00000000e-10 2.00000000e-10 2.00000000e-10\n",
      " 2.00000000e-10 2.00000007e-10]\n",
      "Q Function:  -7189215.459900713\n",
      "\n"
     ]
    },
    {
     "name": "stderr",
     "output_type": "stream",
     "text": [
      "100%|██████████████████████████████████████████████████████████████████████████████████████████████████████| 1/1 [01:28<00:00, 88.93s/it]\n"
     ]
    },
    {
     "name": "stdout",
     "output_type": "stream",
     "text": [
      "mstep self.weights:  [2.00000000e-10 9.99999998e-01 2.00000000e-10 2.00000000e-10\n",
      " 2.00027670e-10 2.00000000e-10 2.00000000e-10 2.00000000e-10\n",
      " 2.00000000e-10 2.00000007e-10]\n",
      "Q Function:  -7189215.459900708\n",
      "\n"
     ]
    },
    {
     "name": "stderr",
     "output_type": "stream",
     "text": [
      "100%|██████████████████████████████████████████████████████████████████████████████████████████████████████| 1/1 [01:29<00:00, 89.51s/it]\n"
     ]
    },
    {
     "name": "stdout",
     "output_type": "stream",
     "text": [
      "mstep self.weights:  [2.00000000e-10 9.99999998e-01 2.00000000e-10 2.00000000e-10\n",
      " 2.00027670e-10 2.00000000e-10 2.00000000e-10 2.00000000e-10\n",
      " 2.00000000e-10 2.00000007e-10]\n",
      "Q Function:  -7189215.459900708\n",
      "\n"
     ]
    },
    {
     "name": "stderr",
     "output_type": "stream",
     "text": [
      "100%|██████████████████████████████████████████████████████████████████████████████████████████████████████| 1/1 [01:35<00:00, 95.31s/it]\n"
     ]
    },
    {
     "name": "stdout",
     "output_type": "stream",
     "text": [
      "mstep self.weights:  [2.00000000e-10 9.99999998e-01 2.00000000e-10 2.00000000e-10\n",
      " 2.00027670e-10 2.00000000e-10 2.00000000e-10 2.00000000e-10\n",
      " 2.00000000e-10 2.00000007e-10]\n",
      "Q Function:  -7189215.459900708\n",
      "\n",
      "No. clus:  1\n",
      "ARI:  1.0\n"
     ]
    },
    {
     "ename": "ValueError",
     "evalue": "Length of values (3) does not match length of index (2)",
     "output_type": "error",
     "traceback": [
      "\u001b[0;31m---------------------------------------------------------------------------\u001b[0m",
      "\u001b[0;31mValueError\u001b[0m                                Traceback (most recent call last)",
      "\u001b[0;32m/tmp/ipykernel_2272094/2704085631.py\u001b[0m in \u001b[0;36m<module>\u001b[0;34m\u001b[0m\n\u001b[1;32m    105\u001b[0m \u001b[0;34m\u001b[0m\u001b[0m\n\u001b[1;32m    106\u001b[0m \u001b[0;34m\u001b[0m\u001b[0m\n\u001b[0;32m--> 107\u001b[0;31m \u001b[0mmeK_res\u001b[0m\u001b[0;34m[\u001b[0m\u001b[0;34m'Method'\u001b[0m\u001b[0;34m]\u001b[0m \u001b[0;34m=\u001b[0m \u001b[0mmeths\u001b[0m\u001b[0;34m\u001b[0m\u001b[0;34m\u001b[0m\u001b[0m\n\u001b[0m\u001b[1;32m    108\u001b[0m \u001b[0mmeK_res\u001b[0m\u001b[0;34m[\u001b[0m\u001b[0;34m'Clustering'\u001b[0m\u001b[0;34m]\u001b[0m \u001b[0;34m=\u001b[0m \u001b[0mresult\u001b[0m\u001b[0;34m\u001b[0m\u001b[0;34m\u001b[0m\u001b[0m\n\u001b[1;32m    109\u001b[0m \u001b[0mmeK_res\u001b[0m\u001b[0;34m[\u001b[0m\u001b[0;34m'Matrices'\u001b[0m\u001b[0;34m]\u001b[0m \u001b[0;34m=\u001b[0m \u001b[0mmats\u001b[0m\u001b[0;34m\u001b[0m\u001b[0;34m\u001b[0m\u001b[0m\n",
      "\u001b[0;32m~/miniconda3/envs/py37/lib/python3.7/site-packages/pandas/core/frame.py\u001b[0m in \u001b[0;36m__setitem__\u001b[0;34m(self, key, value)\u001b[0m\n\u001b[1;32m   3610\u001b[0m         \u001b[0;32melse\u001b[0m\u001b[0;34m:\u001b[0m\u001b[0;34m\u001b[0m\u001b[0;34m\u001b[0m\u001b[0m\n\u001b[1;32m   3611\u001b[0m             \u001b[0;31m# set column\u001b[0m\u001b[0;34m\u001b[0m\u001b[0;34m\u001b[0m\u001b[0;34m\u001b[0m\u001b[0m\n\u001b[0;32m-> 3612\u001b[0;31m             \u001b[0mself\u001b[0m\u001b[0;34m.\u001b[0m\u001b[0m_set_item\u001b[0m\u001b[0;34m(\u001b[0m\u001b[0mkey\u001b[0m\u001b[0;34m,\u001b[0m \u001b[0mvalue\u001b[0m\u001b[0;34m)\u001b[0m\u001b[0;34m\u001b[0m\u001b[0;34m\u001b[0m\u001b[0m\n\u001b[0m\u001b[1;32m   3613\u001b[0m \u001b[0;34m\u001b[0m\u001b[0m\n\u001b[1;32m   3614\u001b[0m     \u001b[0;32mdef\u001b[0m \u001b[0m_setitem_slice\u001b[0m\u001b[0;34m(\u001b[0m\u001b[0mself\u001b[0m\u001b[0;34m,\u001b[0m \u001b[0mkey\u001b[0m\u001b[0;34m:\u001b[0m \u001b[0mslice\u001b[0m\u001b[0;34m,\u001b[0m \u001b[0mvalue\u001b[0m\u001b[0;34m)\u001b[0m\u001b[0;34m:\u001b[0m\u001b[0;34m\u001b[0m\u001b[0;34m\u001b[0m\u001b[0m\n",
      "\u001b[0;32m~/miniconda3/envs/py37/lib/python3.7/site-packages/pandas/core/frame.py\u001b[0m in \u001b[0;36m_set_item\u001b[0;34m(self, key, value)\u001b[0m\n\u001b[1;32m   3782\u001b[0m         \u001b[0mensure\u001b[0m \u001b[0mhomogeneity\u001b[0m\u001b[0;34m.\u001b[0m\u001b[0;34m\u001b[0m\u001b[0;34m\u001b[0m\u001b[0m\n\u001b[1;32m   3783\u001b[0m         \"\"\"\n\u001b[0;32m-> 3784\u001b[0;31m         \u001b[0mvalue\u001b[0m \u001b[0;34m=\u001b[0m \u001b[0mself\u001b[0m\u001b[0;34m.\u001b[0m\u001b[0m_sanitize_column\u001b[0m\u001b[0;34m(\u001b[0m\u001b[0mvalue\u001b[0m\u001b[0;34m)\u001b[0m\u001b[0;34m\u001b[0m\u001b[0;34m\u001b[0m\u001b[0m\n\u001b[0m\u001b[1;32m   3785\u001b[0m \u001b[0;34m\u001b[0m\u001b[0m\n\u001b[1;32m   3786\u001b[0m         if (\n",
      "\u001b[0;32m~/miniconda3/envs/py37/lib/python3.7/site-packages/pandas/core/frame.py\u001b[0m in \u001b[0;36m_sanitize_column\u001b[0;34m(self, value)\u001b[0m\n\u001b[1;32m   4507\u001b[0m \u001b[0;34m\u001b[0m\u001b[0m\n\u001b[1;32m   4508\u001b[0m         \u001b[0;32mif\u001b[0m \u001b[0mis_list_like\u001b[0m\u001b[0;34m(\u001b[0m\u001b[0mvalue\u001b[0m\u001b[0;34m)\u001b[0m\u001b[0;34m:\u001b[0m\u001b[0;34m\u001b[0m\u001b[0;34m\u001b[0m\u001b[0m\n\u001b[0;32m-> 4509\u001b[0;31m             \u001b[0mcom\u001b[0m\u001b[0;34m.\u001b[0m\u001b[0mrequire_length_match\u001b[0m\u001b[0;34m(\u001b[0m\u001b[0mvalue\u001b[0m\u001b[0;34m,\u001b[0m \u001b[0mself\u001b[0m\u001b[0;34m.\u001b[0m\u001b[0mindex\u001b[0m\u001b[0;34m)\u001b[0m\u001b[0;34m\u001b[0m\u001b[0;34m\u001b[0m\u001b[0m\n\u001b[0m\u001b[1;32m   4510\u001b[0m         \u001b[0;32mreturn\u001b[0m \u001b[0msanitize_array\u001b[0m\u001b[0;34m(\u001b[0m\u001b[0mvalue\u001b[0m\u001b[0;34m,\u001b[0m \u001b[0mself\u001b[0m\u001b[0;34m.\u001b[0m\u001b[0mindex\u001b[0m\u001b[0;34m,\u001b[0m \u001b[0mcopy\u001b[0m\u001b[0;34m=\u001b[0m\u001b[0;32mTrue\u001b[0m\u001b[0;34m,\u001b[0m \u001b[0mallow_2d\u001b[0m\u001b[0;34m=\u001b[0m\u001b[0;32mTrue\u001b[0m\u001b[0;34m)\u001b[0m\u001b[0;34m\u001b[0m\u001b[0;34m\u001b[0m\u001b[0m\n\u001b[1;32m   4511\u001b[0m \u001b[0;34m\u001b[0m\u001b[0m\n",
      "\u001b[0;32m~/miniconda3/envs/py37/lib/python3.7/site-packages/pandas/core/common.py\u001b[0m in \u001b[0;36mrequire_length_match\u001b[0;34m(data, index)\u001b[0m\n\u001b[1;32m    530\u001b[0m     \u001b[0;32mif\u001b[0m \u001b[0mlen\u001b[0m\u001b[0;34m(\u001b[0m\u001b[0mdata\u001b[0m\u001b[0;34m)\u001b[0m \u001b[0;34m!=\u001b[0m \u001b[0mlen\u001b[0m\u001b[0;34m(\u001b[0m\u001b[0mindex\u001b[0m\u001b[0;34m)\u001b[0m\u001b[0;34m:\u001b[0m\u001b[0;34m\u001b[0m\u001b[0;34m\u001b[0m\u001b[0m\n\u001b[1;32m    531\u001b[0m         raise ValueError(\n\u001b[0;32m--> 532\u001b[0;31m             \u001b[0;34m\"Length of values \"\u001b[0m\u001b[0;34m\u001b[0m\u001b[0;34m\u001b[0m\u001b[0m\n\u001b[0m\u001b[1;32m    533\u001b[0m             \u001b[0;34mf\"({len(data)}) \"\u001b[0m\u001b[0;34m\u001b[0m\u001b[0;34m\u001b[0m\u001b[0m\n\u001b[1;32m    534\u001b[0m             \u001b[0;34m\"does not match length of index \"\u001b[0m\u001b[0;34m\u001b[0m\u001b[0;34m\u001b[0m\u001b[0m\n",
      "\u001b[0;31mValueError\u001b[0m: Length of values (3) does not match length of index (2)"
     ]
    }
   ],
   "source": [
    "for d in [sub_d_strings[0]]: #Forgot to run negctrl\n",
    "    \n",
    "    #Get tech param by keyword (datas) in loom paths\n",
    "    ind = [i in d for i in datas]\n",
    "    \n",
    "    #Inference params for sampling\n",
    "    tech_tup = samp\n",
    "    \n",
    "    #Preprocessing params for filepaths\n",
    "    trans = np.array(transcriptomes)[ind][0]\n",
    "\n",
    "    data_name = np.array(datas)[ind][0]\n",
    "    \n",
    "    \n",
    "    ds = lp.connect(d)\n",
    "    g_names = ds.ra[attribute_names[1]]\n",
    "    num_genes = len(g_names)\n",
    "    num_cells = len(ds.ca[attribute_names[2]])\n",
    "    \n",
    "    U = ds.layers['unspliced'][:,:].T\n",
    "    S = ds.layers['spliced'][:,:].T\n",
    "    true_labs = list(ds.ca['subclass_label'])\n",
    "    ds.close()\n",
    "\n",
    "    \n",
    "    print(data_name+' with '+str(num_genes)+' genes')\n",
    "    \n",
    "    \n",
    "    if 'negctrl' in d:\n",
    "        Ks = [10] #***FILL THIS IN from leiden *******\n",
    "    else:\n",
    "        Ks = [len(np.unique(true_labs))]\n",
    "        \n",
    "\n",
    "    for clus in Ks:\n",
    "       \n",
    "        #Run Monod preprocessing to set up files for run, leave room for genes to be removed with low U/S\n",
    "        dir_string,dataset_string = monod.preprocess.construct_batch([d], \\\n",
    "                                                     trans, \\\n",
    "                                                     [data_name], \\\n",
    "                                                     attribute_names=attribute_names,\\\n",
    "                                                     batch_location='./fits/meKruns_0306', \\\n",
    "                                                     meta=data_name+'_K'+str(clus), \\\n",
    "                                                     batch_id=1, \\\n",
    "                                                     n_genes=num_genes,exp_filter_threshold=None,\n",
    "                                                                     viz=False,genes_to_fit=g_names)\n",
    "                                                        #num_genes-60 or 100,genes_to_fit=markers\n",
    "        dir_strings += [dir_string]\n",
    "        data_strings += [dataset_string]\n",
    "\n",
    "        #Set model and run meK-Means\n",
    "        \n",
    "        #Define bounds for params\n",
    "        phys_lb = [-3.0, -3, -3 ] \n",
    "        phys_ub = [4.2, 2.5, 2.5] \n",
    "        samp_lb = tech_tup \n",
    "        samp_ub = tech_tup  \n",
    "        gridsize = [1,1] #Already have tech params\n",
    "    \n",
    "\n",
    "        epochs = 10\n",
    "\n",
    "        # ---------------- meK-Means Inference ---------------- \n",
    "        #Define model with bursty transcription and Poisson molecule capture/sampling\n",
    "        fitmodel = monod.cme_toolbox.CMEModel('Bursty','Poisson')\n",
    "\n",
    "        #Set up mminference parameters\n",
    "        inference_parameters = monod.mminference.InferenceParameters(phys_lb,phys_ub,samp_lb,samp_ub,gridsize,\\\n",
    "                    dataset_string[0],fitmodel,k=clus,epochs=epochs,use_lengths = True,\n",
    "                    gradient_params = {'max_iterations':5,'init_pattern':'moments','num_restarts':1})\n",
    "\n",
    "        #Read in loom file with filtered barcodes\n",
    "        search_data = monod.extract_data.extract_data(d, trans, data_name,\n",
    "                    dataset_string[0], dir_string, viz=False, dataset_attr_names=attribute_names)\n",
    "\n",
    "        #Run inference(fit_all_grid_points()) and Save result file strings\n",
    "        full_result_string = inference_parameters.fit_all_grid_points(40,search_data) \n",
    "\n",
    "        result_strings.append(full_result_string)\n",
    "        \n",
    "\n",
    "        # ----------------  Save output ---------------- \n",
    "        #Read in results and get cluster assignments\n",
    "        sr = [monod.analysis.load_search_results(i) for i in full_result_string]\n",
    "        \n",
    "        \n",
    "        cat_assigns = np.array([None]*num_cells) #cat_assigns is empty list of length = no. cell barcodes\n",
    "        for i in range(len(sr)):\n",
    "            r = sr[i]\n",
    "            cat_assigns[r.filt] = r.assigns #denotes which cluster (k), cells were assigned to\n",
    "\n",
    "        print('No. clus: ',len(np.unique(cat_assigns)))\n",
    "        \n",
    "\n",
    "        meths += ['meK-Means']\n",
    "        result += [cat_assigns]\n",
    "        mats += ['U,S']\n",
    "        hyper += [clus]\n",
    "        hvgs += [num_genes]\n",
    "        data += [data_name]\n",
    "        ari += [adjusted_rand_score(true_labs,cat_assigns)]\n",
    "        ami += [adjusted_mutual_info_score(true_labs,cat_assigns)]\n",
    "        \n",
    "        print('ARI: ',adjusted_rand_score(true_labs,cat_assigns))\n"
   ]
  },
  {
   "cell_type": "code",
   "execution_count": 252,
   "id": "0273a225",
   "metadata": {},
   "outputs": [],
   "source": [
    "meK_res = pd.DataFrame()\n",
    "\n",
    "meK_res['Method'] = meths\n",
    "meK_res['Clustering'] = result\n",
    "meK_res['Matrices'] = mats\n",
    "meK_res['Hyperparam'] = hyper\n",
    "meK_res['Genes'] = hvgs\n",
    "meK_res['Data'] = data\n",
    "meK_res['ARI'] = ari\n",
    "meK_res['AMI'] = ami"
   ]
  },
  {
   "cell_type": "code",
   "execution_count": 253,
   "id": "35d644e3",
   "metadata": {},
   "outputs": [
    {
     "data": {
      "text/html": [
       "<div>\n",
       "<style scoped>\n",
       "    .dataframe tbody tr th:only-of-type {\n",
       "        vertical-align: middle;\n",
       "    }\n",
       "\n",
       "    .dataframe tbody tr th {\n",
       "        vertical-align: top;\n",
       "    }\n",
       "\n",
       "    .dataframe thead th {\n",
       "        text-align: right;\n",
       "    }\n",
       "</style>\n",
       "<table border=\"1\" class=\"dataframe\">\n",
       "  <thead>\n",
       "    <tr style=\"text-align: right;\">\n",
       "      <th></th>\n",
       "      <th>Method</th>\n",
       "      <th>Clustering</th>\n",
       "      <th>Matrices</th>\n",
       "      <th>Hyperparam</th>\n",
       "      <th>Genes</th>\n",
       "      <th>Data</th>\n",
       "      <th>ARI</th>\n",
       "      <th>AMI</th>\n",
       "    </tr>\n",
       "  </thead>\n",
       "  <tbody>\n",
       "    <tr>\n",
       "      <th>0</th>\n",
       "      <td>meK-Means</td>\n",
       "      <td>[7, 7, 7, 7, 7, 7, 7, 7, 7, 7, 7, 7, 7, 7, 7, ...</td>\n",
       "      <td>U,S</td>\n",
       "      <td>10</td>\n",
       "      <td>1100</td>\n",
       "      <td>b_beta_sim_k8</td>\n",
       "      <td>0.977105</td>\n",
       "      <td>0.957871</td>\n",
       "    </tr>\n",
       "    <tr>\n",
       "      <th>1</th>\n",
       "      <td>meK-Means</td>\n",
       "      <td>[0, 0, 0, 0, 0, 0, 0, 0, 0, 0, 0, 0, 0, 0, 0, ...</td>\n",
       "      <td>U,S</td>\n",
       "      <td>5</td>\n",
       "      <td>700</td>\n",
       "      <td>k_gamma_sim_k8</td>\n",
       "      <td>0.987584</td>\n",
       "      <td>0.972653</td>\n",
       "    </tr>\n",
       "    <tr>\n",
       "      <th>2</th>\n",
       "      <td>meK-Means</td>\n",
       "      <td>[1, 1, 1, 1, 1, 1, 1, 1, 1, 1, 1, 1, 1, 1, 1, ...</td>\n",
       "      <td>U,S</td>\n",
       "      <td>10</td>\n",
       "      <td>1100</td>\n",
       "      <td>negctrl_sim_k1</td>\n",
       "      <td>1.000000</td>\n",
       "      <td>1.000000</td>\n",
       "    </tr>\n",
       "  </tbody>\n",
       "</table>\n",
       "</div>"
      ],
      "text/plain": [
       "      Method                                         Clustering Matrices  \\\n",
       "0  meK-Means  [7, 7, 7, 7, 7, 7, 7, 7, 7, 7, 7, 7, 7, 7, 7, ...      U,S   \n",
       "1  meK-Means  [0, 0, 0, 0, 0, 0, 0, 0, 0, 0, 0, 0, 0, 0, 0, ...      U,S   \n",
       "2  meK-Means  [1, 1, 1, 1, 1, 1, 1, 1, 1, 1, 1, 1, 1, 1, 1, ...      U,S   \n",
       "\n",
       "   Hyperparam  Genes            Data       ARI       AMI  \n",
       "0          10   1100   b_beta_sim_k8  0.977105  0.957871  \n",
       "1           5    700  k_gamma_sim_k8  0.987584  0.972653  \n",
       "2          10   1100  negctrl_sim_k1  1.000000  1.000000  "
      ]
     },
     "execution_count": 253,
     "metadata": {},
     "output_type": "execute_result"
    }
   ],
   "source": [
    "meK_res"
   ]
  },
  {
   "cell_type": "code",
   "execution_count": 254,
   "id": "172aaa9f",
   "metadata": {},
   "outputs": [],
   "source": [
    "meK_res.to_pickle('./fits/meKruns_0306/meK_sim_results.pkl') #0301\n",
    "#unpickled_df = pd.read_pickle(\"./meK_res.pkl\")"
   ]
  },
  {
   "cell_type": "code",
   "execution_count": null,
   "id": "f291713b",
   "metadata": {},
   "outputs": [],
   "source": []
  },
  {
   "cell_type": "code",
   "execution_count": null,
   "id": "0262bcb0",
   "metadata": {},
   "outputs": [],
   "source": []
  }
 ],
 "metadata": {
  "kernelspec": {
   "display_name": "Python 3 (ipykernel)",
   "language": "python",
   "name": "python3"
  },
  "language_info": {
   "codemirror_mode": {
    "name": "ipython",
    "version": 3
   },
   "file_extension": ".py",
   "mimetype": "text/x-python",
   "name": "python",
   "nbconvert_exporter": "python",
   "pygments_lexer": "ipython3",
   "version": "3.7.11"
  }
 },
 "nbformat": 4,
 "nbformat_minor": 5
}
