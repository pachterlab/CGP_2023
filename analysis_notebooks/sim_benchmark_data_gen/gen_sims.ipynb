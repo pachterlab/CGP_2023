{
 "cells": [
  {
   "cell_type": "markdown",
   "id": "0d4583c2",
   "metadata": {},
   "source": [
    "**In this notebook we generate simulated datasets, and save files for clustering**"
   ]
  },
  {
   "cell_type": "code",
   "execution_count": 694,
   "id": "c2ff9af6",
   "metadata": {},
   "outputs": [],
   "source": [
    "import h5py\n",
    "import scanpy as sc\n",
    "import anndata\n",
    "import loompy as lp\n",
    "\n",
    "import numpy as np\n",
    "import pandas as pd\n",
    "import matplotlib.pyplot as plt\n",
    "\n",
    "import sys\n",
    "\n",
    "import scipy\n",
    "import tqdm\n",
    "from scipy import integrate, fft, sparse\n",
    "\n",
    "import random\n"
   ]
  },
  {
   "cell_type": "markdown",
   "id": "554ed702",
   "metadata": {},
   "source": [
    "## **Define Functions for Simulations**"
   ]
  },
  {
   "cell_type": "code",
   "execution_count": 695,
   "id": "7417d92c",
   "metadata": {},
   "outputs": [],
   "source": [
    "class BurstModel():\n",
    "    \"\"\"\n",
    "    Given parameters for bursty transcription, splicing, deg generate P(U,S) for set of (U,S) counts\n",
    "    \"\"\"\n",
    "    def __init__(self,seq_model='None',quad_method='fixed_quad',fixed_quad_T=10,quad_order=60,quad_vec_T=np.inf):\n",
    "        self.seq_model = seq_model\n",
    "        self.quad_method = quad_method\n",
    "        self.fixed_quad_T = fixed_quad_T\n",
    "        self.quad_order = quad_order\n",
    "        self.quad_vec_T = quad_vec_T\n",
    "        \n",
    "    def burst_intfun(self, x, g, b, beta, gamma):\n",
    "        if np.isclose(beta, gamma):\n",
    "            c_1 = g[0]  \n",
    "            c_2 = x * beta * g[1]\n",
    "        else:\n",
    "            f = beta / (beta - gamma)\n",
    "            c_2 = g[1] * f\n",
    "            c_1 = g[0] - c_2\n",
    "\n",
    "        U = b * (np.exp(-beta * x) * c_1 + np.exp(-gamma * x) * c_2)\n",
    "        return U / (1 - U)    \n",
    "    \n",
    "    def eval_model_pgf(self, p_, g):\n",
    "        p = 10**p_\n",
    "        b, beta, gamma = p\n",
    "\n",
    "        \n",
    "        fun = lambda x: self.burst_intfun(x, g, b, beta, gamma)\n",
    "        if self.quad_method == \"quad_vec\":\n",
    "            T = self.quad_vec_T * (1 / beta + 1 / gamma + 1)\n",
    "            gf = scipy.integrate.quad_vec(fun, 0, T)[0]\n",
    "        elif self.quad_method == \"fixed_quad\":\n",
    "            T = self.fixed_quad_T * (1 / beta + 1 / gamma + 1)\n",
    "            gf = scipy.integrate.fixed_quad(fun, 0, T, n=self.quad_order)[0]\n",
    "        else:\n",
    "            raise ValueError(\"Please use one of the specified quadrature methods.\")\n",
    "        return gf  # this is the log-generating function\n",
    "\n",
    "    def get_Pss(self, p, limits, samp=None):\n",
    "        u = []\n",
    "        mx = np.copy(limits)\n",
    "        mx[-1] = mx[-1] // 2 + 1\n",
    "        for i in range(len(mx)):\n",
    "            l = np.arange(mx[i])\n",
    "            u_ = np.exp(-2j * np.pi * l / limits[i]) - 1\n",
    "            u.append(u_)\n",
    "        g = np.meshgrid(*[u_ for u_ in u], indexing=\"ij\")\n",
    "        for i in range(len(mx)):\n",
    "            g[i] = g[i].flatten()\n",
    "        g = np.asarray(g)[:, :, None]\n",
    "\n",
    "        if self.seq_model == \"Bernoulli\":\n",
    "            g *= np.asarray(samp)[:, None, None]\n",
    "        elif self.seq_model == \"Poisson\":\n",
    "            g = np.exp((np.power(10, samp))[:, None, None] * g) - 1\n",
    "\n",
    "        gf = self.eval_model_pgf(p, g)\n",
    "        gf = np.exp(gf)\n",
    "        gf = gf.reshape(tuple(mx))\n",
    "        \n",
    "        \n",
    "        Pss = scipy.fft.irfftn(gf, s=tuple(limits))\n",
    "        \n",
    "        \n",
    "        Pss = np.abs(Pss) / np.sum(np.abs(Pss))\n",
    "        \n",
    "        Pss = Pss.squeeze()\n",
    "        return Pss"
   ]
  },
  {
   "cell_type": "code",
   "execution_count": 696,
   "id": "96f3d267",
   "metadata": {},
   "outputs": [],
   "source": [
    "def sample_from_p(num_data_points, Pss):\n",
    "    \"\"\"\n",
    "    Given a P(U,S) distribution, sample (U,S) counts\n",
    "    N = U (nascent/unspliced)\n",
    "    M = S (mature/spliced)\n",
    "    \"\"\"\n",
    "    mx = Pss.shape\n",
    "    p_flat = Pss.flatten()\n",
    "    x_N, x_M = np.arange(mx[0]), np.arange(mx[1])\n",
    "    X_N, X_M = np.meshgrid(x_N, x_M, indexing='ij')    # get grid of possible values\n",
    "    x_choices = np.arange(np.prod(mx))                 # represent each grid point as a point in a 1D vector\n",
    "    \n",
    "    samples = np.random.choice(x_choices, size=num_data_points, replace=True, p=p_flat)\n",
    "    d_N, d_M = X_N.flatten()[samples], X_M.flatten()[samples]    \n",
    "    return d_N, d_M"
   ]
  },
  {
   "cell_type": "markdown",
   "id": "15edf0de",
   "metadata": {},
   "source": [
    "## **Generate Counts**"
   ]
  },
  {
   "cell_type": "code",
   "execution_count": 697,
   "id": "eebe56c9",
   "metadata": {},
   "outputs": [],
   "source": [
    "def make_params(clus,n_genes,lens_sub,samples,glob_samp,num_marks,p=1.0,loc=1.5,lessp_param='b',greatp_param='beta'):\n",
    "    \"\"\"\n",
    "    Given number of clusters (states),genes, and markers per cluster, generate parameters per cluster (state).\n",
    "    With probability p add noise to b for markers (and change other params with p=1-p)\n",
    "    \"\"\"\n",
    "    #For each gene set params (clus x n_genes x 6), use gene lens from transcriptome file + use same gene names \n",
    "    params = np.zeros((clus,n_genes,6)) #b,k,beta,gamma,samp_n,samp_m, ALL LOG10\n",
    "    for g in range(n_genes):\n",
    "        g_len = lens_sub[g]\n",
    "        params[:,g,0] = samples[g,0] + np.random.randn()*0.05 #int(np.random.uniform(8,12)) #b\n",
    "        params[:,g,1] = 0 #np.random.uniform(0.1,0.5) #k\n",
    "        params[:,g,2] = samples[g,1] + np.random.randn()*0.05 #np.random.normal(2,0.1)  #beta\n",
    "        params[:,g,3] = samples[g,2] + np.random.randn()*0.05 #np.random.normal(0.8,0.1) #gamma\n",
    "\n",
    "        params[:,g,4] = (glob_samp[0]) + np.log10(g_len) #C_nL\n",
    "        params[:,g,5] = (glob_samp[1]) #lam_m\n",
    "\n",
    "\n",
    "    pos_dict = {'b':[0],'beta': [2],'gamma': [3],'k':[2,3]}\n",
    "\n",
    "    noise = 0.1\n",
    "    #For each clus, select num_marks unique markers, add noise to b (log10b)\n",
    "    all_choices = np.random.choice(range(n_genes), num_marks*clus, replace=False)\n",
    "    if num_marks > 0:\n",
    "        for c in range(clus):\n",
    "            marks = all_choices[c*num_marks:(c+1)*num_marks]\n",
    "\n",
    "            #UPDATE to change either b or beta&gamma\n",
    "            for m in marks:\n",
    "                if np.random.rand() < p:\n",
    "                    chosen = pos_dict[lessp_param]\n",
    "                    if len(chosen) == 1:\n",
    "                        if lessp_param == 'b':\n",
    "                            params[c,m,chosen[0]] += loc+np.random.randn()*noise  \n",
    "                        else:\n",
    "                            params[c,m,chosen[0]] -= loc+np.random.randn()*noise  \n",
    "                    else: #Change in k\n",
    "                        params[c,m,chosen[0]] -= loc+np.random.randn()*noise #np.random.normal(loc=loc, scale = 0.1)\n",
    "                        params[c,m,chosen[1]] -= loc+np.random.randn()*noise\n",
    "                        \n",
    "                else:\n",
    "                    chosen = pos_dict[greatp_param]\n",
    "                    if len(chosen) == 1:\n",
    "                        if greatp_param == 'b':\n",
    "                            params[c,m,chosen[0]] += loc+np.random.randn()*noise  \n",
    "                        else:\n",
    "                            params[c,m,chosen[0]] -= loc+np.random.randn()*noise\n",
    "                    else: #Change in k\n",
    "                        params[c,m,chosen[0]] -= loc+np.random.randn()*noise #np.random.normal(loc=loc, scale = 0.1)\n",
    "                        params[c,m,chosen[1]] -= loc+np.random.randn()*noise\n",
    "                        \n",
    "                    \n",
    "\n",
    "    return params,all_choices\n"
   ]
  },
  {
   "cell_type": "code",
   "execution_count": 698,
   "id": "5f440085",
   "metadata": {},
   "outputs": [],
   "source": [
    "def make_dbl_params(clus,n_genes,lens_sub,samples,glob_samp,num_marks,p=1.0,loc=1.5,pair=['b','beta']):\n",
    "    \"\"\"\n",
    "    Given number of clusters (states),genes, and markers per cluster, generate parameters per cluster (state).\n",
    "    With probability p add noise to both params for markers (and change only one param with p=1-p)\n",
    "    \"\"\"\n",
    "    #For each gene set params (clus x n_genes x 6), use gene lens from transcriptome file + use same gene names \n",
    "    params = np.zeros((clus,n_genes,6)) #b,k,beta,gamma,samp_n,samp_m, ALL LOG10\n",
    "    for g in range(n_genes):\n",
    "        g_len = lens_sub[g]\n",
    "        params[:,g,0] = samples[g,0] + np.random.randn()*0.05 #int(np.random.uniform(8,12)) #b\n",
    "        params[:,g,1] = 0 #np.random.uniform(0.1,0.5) #k\n",
    "        params[:,g,2] = samples[g,1] + np.random.randn()*0.05 #np.random.normal(2,0.1)  #beta\n",
    "        params[:,g,3] = samples[g,2] + np.random.randn()*0.05 #np.random.normal(0.8,0.1) #gamma\n",
    "\n",
    "        params[:,g,4] = (glob_samp[0]) + np.log10(g_len) #C_nL\n",
    "        params[:,g,5] = (glob_samp[1]) #lam_m\n",
    "\n",
    "\n",
    "    pos_dict = {'b':[0],'beta': [2],'gamma': [3]}\n",
    "\n",
    "    noise = 0.1\n",
    "    #For each clus, select num_marks unique markers, add noise to b (log10b)\n",
    "    all_choices = np.random.choice(range(n_genes), num_marks*clus, replace=False)\n",
    "    if num_marks > 0:\n",
    "        for c in range(clus):\n",
    "            marks = all_choices[c*num_marks:(c+1)*num_marks]\n",
    "\n",
    "            #UPDATE to change either b or beta&gamma\n",
    "            for m in marks:\n",
    "                if np.random.rand() < p:\n",
    "                    chosen = [pos_dict[i] for i in pair]\n",
    "                    for x in chosen:\n",
    "                        params[c,m,x] += loc+np.random.randn()*noise  #Change both\n",
    "                else:\n",
    "                    chosen = [pos_dict[i] for i in pair]\n",
    "                    \n",
    "                    if np.random.rand() < 0.5:\n",
    "                        if chosen[0] == 0:\n",
    "                            params[c,m,chosen[0]] += loc+np.random.randn()*noise  \n",
    "                        else:\n",
    "                            params[c,m,chosen[0]] -= loc+np.random.randn()*noise\n",
    "                    else:\n",
    "                        if chosen[1] == 0:\n",
    "                            params[c,m,chosen[1]] += loc+np.random.randn()*noise  \n",
    "                        else:\n",
    "                            params[c,m,chosen[1]] -= loc+np.random.randn()*noise\n",
    "                    \n",
    "                    \n",
    "\n",
    "    return params,all_choices\n"
   ]
  },
  {
   "cell_type": "code",
   "execution_count": 699,
   "id": "86646f34",
   "metadata": {},
   "outputs": [],
   "source": [
    "def make_counts(clus,n_cells,n_genes,params):\n",
    "    \"\"\"\n",
    "    For each cluster+gene, generate counts (U,S) from parameters \n",
    "    \"\"\"\n",
    "    #Given parameters, sample counts from resulting probability distribution\n",
    "    all_counts = np.zeros((np.sum(n_cells),n_genes,2))\n",
    "    pos_ind = 0\n",
    "    for c in range(clus):\n",
    "\n",
    "        for g in range(n_genes):\n",
    "\n",
    "            b = 10**params[c,g,0]\n",
    "            k = 10**params[c,g,1]\n",
    "            beta = 10**params[c,g,2]\n",
    "            gamma = 10**params[c,g,3]\n",
    "\n",
    "            lam_n = 10**params[c,g,4]\n",
    "            lam_m = 10**params[c,g,5]\n",
    "\n",
    "            p = np.log10(np.asarray([b,beta/k,gamma/k]))\n",
    "            burst_model = BurstModel('Poisson')\n",
    "\n",
    "            max_mean = b*np.asarray([lam_n/beta,lam_m/gamma]) #np.array(samp)*\n",
    "            #max_std = np.sqrt(max_mean*(1+ b*np.asarray([1,beta/(beta+gamma)])))\n",
    "\n",
    "            max_std = np.sqrt(max_mean*(1+np.asarray([lam_n*(1+b), lam_m*(1+b*beta/(beta+gamma))])))\n",
    "\n",
    "            max_domain = np.maximum((max_mean + 4*max_std).astype(int),15)\n",
    "            #max_domain = [int(i) for i in max_domain]\n",
    "\n",
    "            Pss = burst_model.get_Pss(p,max_domain,np.log10([lam_n,lam_m]))\n",
    "\n",
    "            #Get N and M count samples\n",
    "            sampled = sample_from_p(n_cells[c], Pss)\n",
    "            all_counts[pos_ind:pos_ind+n_cells[c],g,0] = sampled[0]\n",
    "            all_counts[pos_ind:pos_ind+n_cells[c],g,1] = sampled[1]\n",
    "            \n",
    "        pos_ind += n_cells[c]\n",
    "        print('pos_ind: ',pos_ind)\n",
    "            \n",
    "    return all_counts"
   ]
  },
  {
   "cell_type": "code",
   "execution_count": 737,
   "id": "495b44b9",
   "metadata": {},
   "outputs": [
    {
     "data": {
      "text/plain": [
       "3400"
      ]
     },
     "execution_count": 737,
     "metadata": {},
     "output_type": "execute_result"
    }
   ],
   "source": [
    "np.sum([100,300,500,1000,1500])"
   ]
  },
  {
   "cell_type": "markdown",
   "id": "6e9c1afb",
   "metadata": {},
   "source": [
    "Set parameters for simulation"
   ]
  },
  {
   "cell_type": "code",
   "execution_count": 700,
   "id": "0141ba54",
   "metadata": {},
   "outputs": [],
   "source": [
    "#No. of cells PER k cell 'type'/stats\n",
    "n_cells = [[100,100,200,200,300,500,500,1000,800,1300],[100,300,500,1000,1500]]  # !** orig [100,100,300,500,500,1000,1000,1500]  !**\n",
    "clus =  [len(n_cells[0]),len(n_cells[1])] #No. of states to simulate"
   ]
  },
  {
   "cell_type": "code",
   "execution_count": 701,
   "id": "f7260204",
   "metadata": {},
   "outputs": [],
   "source": [
    "n_genes = [1100,700] #No. genes, 1000\n",
    "num_marks = [100,100] #No. markers per state, !** 100 before !***"
   ]
  },
  {
   "cell_type": "code",
   "execution_count": 702,
   "id": "c4af08f1",
   "metadata": {},
   "outputs": [],
   "source": [
    "#Technical sampling params\n",
    "glob_samp = np.asarray([-6.777777777777778, -1.25])"
   ]
  },
  {
   "cell_type": "code",
   "execution_count": 703,
   "id": "4bfd7858",
   "metadata": {},
   "outputs": [
    {
     "data": {
      "text/html": [
       "<div>\n",
       "<style scoped>\n",
       "    .dataframe tbody tr th:only-of-type {\n",
       "        vertical-align: middle;\n",
       "    }\n",
       "\n",
       "    .dataframe tbody tr th {\n",
       "        vertical-align: top;\n",
       "    }\n",
       "\n",
       "    .dataframe thead th {\n",
       "        text-align: right;\n",
       "    }\n",
       "</style>\n",
       "<table border=\"1\" class=\"dataframe\">\n",
       "  <thead>\n",
       "    <tr style=\"text-align: right;\">\n",
       "      <th></th>\n",
       "      <th>0</th>\n",
       "      <th>1</th>\n",
       "      <th>2</th>\n",
       "      <th>3</th>\n",
       "      <th>4</th>\n",
       "      <th>5</th>\n",
       "      <th>6</th>\n",
       "      <th>7</th>\n",
       "      <th>8</th>\n",
       "      <th>9</th>\n",
       "      <th>...</th>\n",
       "      <th>39</th>\n",
       "      <th>40</th>\n",
       "      <th>41</th>\n",
       "      <th>42</th>\n",
       "      <th>43</th>\n",
       "      <th>44</th>\n",
       "      <th>45</th>\n",
       "      <th>46</th>\n",
       "      <th>47</th>\n",
       "      <th>48</th>\n",
       "    </tr>\n",
       "  </thead>\n",
       "  <tbody>\n",
       "    <tr>\n",
       "      <th>0</th>\n",
       "      <td>TNMD</td>\n",
       "      <td>14950</td>\n",
       "      <td>48</td>\n",
       "      <td>23</td>\n",
       "      <td>10</td>\n",
       "      <td>5</td>\n",
       "      <td>2</td>\n",
       "      <td>2</td>\n",
       "      <td>2</td>\n",
       "      <td>2</td>\n",
       "      <td>...</td>\n",
       "      <td>0</td>\n",
       "      <td>0</td>\n",
       "      <td>0</td>\n",
       "      <td>0</td>\n",
       "      <td>0</td>\n",
       "      <td>0</td>\n",
       "      <td>0</td>\n",
       "      <td>0</td>\n",
       "      <td>0</td>\n",
       "      <td>0</td>\n",
       "    </tr>\n",
       "    <tr>\n",
       "      <th>1</th>\n",
       "      <td>DPM1</td>\n",
       "      <td>23689</td>\n",
       "      <td>98</td>\n",
       "      <td>38</td>\n",
       "      <td>25</td>\n",
       "      <td>17</td>\n",
       "      <td>10</td>\n",
       "      <td>6</td>\n",
       "      <td>5</td>\n",
       "      <td>5</td>\n",
       "      <td>...</td>\n",
       "      <td>0</td>\n",
       "      <td>0</td>\n",
       "      <td>0</td>\n",
       "      <td>0</td>\n",
       "      <td>0</td>\n",
       "      <td>0</td>\n",
       "      <td>0</td>\n",
       "      <td>0</td>\n",
       "      <td>0</td>\n",
       "      <td>0</td>\n",
       "    </tr>\n",
       "    <tr>\n",
       "      <th>2</th>\n",
       "      <td>SCYL3</td>\n",
       "      <td>44637</td>\n",
       "      <td>132</td>\n",
       "      <td>51</td>\n",
       "      <td>20</td>\n",
       "      <td>13</td>\n",
       "      <td>9</td>\n",
       "      <td>7</td>\n",
       "      <td>6</td>\n",
       "      <td>4</td>\n",
       "      <td>...</td>\n",
       "      <td>0</td>\n",
       "      <td>0</td>\n",
       "      <td>0</td>\n",
       "      <td>0</td>\n",
       "      <td>0</td>\n",
       "      <td>0</td>\n",
       "      <td>0</td>\n",
       "      <td>0</td>\n",
       "      <td>0</td>\n",
       "      <td>0</td>\n",
       "    </tr>\n",
       "    <tr>\n",
       "      <th>3</th>\n",
       "      <td>TSPAN6</td>\n",
       "      <td>12884</td>\n",
       "      <td>43</td>\n",
       "      <td>18</td>\n",
       "      <td>13</td>\n",
       "      <td>8</td>\n",
       "      <td>3</td>\n",
       "      <td>2</td>\n",
       "      <td>2</td>\n",
       "      <td>1</td>\n",
       "      <td>...</td>\n",
       "      <td>0</td>\n",
       "      <td>0</td>\n",
       "      <td>0</td>\n",
       "      <td>0</td>\n",
       "      <td>0</td>\n",
       "      <td>0</td>\n",
       "      <td>0</td>\n",
       "      <td>0</td>\n",
       "      <td>0</td>\n",
       "      <td>0</td>\n",
       "    </tr>\n",
       "    <tr>\n",
       "      <th>4</th>\n",
       "      <td>FGR</td>\n",
       "      <td>23122</td>\n",
       "      <td>41</td>\n",
       "      <td>18</td>\n",
       "      <td>8</td>\n",
       "      <td>4</td>\n",
       "      <td>1</td>\n",
       "      <td>1</td>\n",
       "      <td>1</td>\n",
       "      <td>1</td>\n",
       "      <td>...</td>\n",
       "      <td>0</td>\n",
       "      <td>0</td>\n",
       "      <td>0</td>\n",
       "      <td>0</td>\n",
       "      <td>0</td>\n",
       "      <td>0</td>\n",
       "      <td>0</td>\n",
       "      <td>0</td>\n",
       "      <td>0</td>\n",
       "      <td>0</td>\n",
       "    </tr>\n",
       "  </tbody>\n",
       "</table>\n",
       "<p>5 rows × 49 columns</p>\n",
       "</div>"
      ],
      "text/plain": [
       "       0      1    2   3   4   5   6   7   8   9   ...  39  40  41  42  43  \\\n",
       "0    TNMD  14950   48  23  10   5   2   2   2   2  ...   0   0   0   0   0   \n",
       "1    DPM1  23689   98  38  25  17  10   6   5   5  ...   0   0   0   0   0   \n",
       "2   SCYL3  44637  132  51  20  13   9   7   6   4  ...   0   0   0   0   0   \n",
       "3  TSPAN6  12884   43  18  13   8   3   2   2   1  ...   0   0   0   0   0   \n",
       "4     FGR  23122   41  18   8   4   1   1   1   1  ...   0   0   0   0   0   \n",
       "\n",
       "   44  45  46  47  48  \n",
       "0   0   0   0   0   0  \n",
       "1   0   0   0   0   0  \n",
       "2   0   0   0   0   0  \n",
       "3   0   0   0   0   0  \n",
       "4   0   0   0   0   0  \n",
       "\n",
       "[5 rows x 49 columns]"
      ]
     },
     "execution_count": 703,
     "metadata": {},
     "output_type": "execute_result"
    }
   ],
   "source": [
    "transcriptome = pd.read_csv('/home/tchari/perturbCME/notebooks/gg_200525_genome_polyA_cum_3',delim_whitespace=True,header = None)\n",
    "transcriptome.head()"
   ]
  },
  {
   "cell_type": "code",
   "execution_count": 704,
   "id": "7cc3f1f1",
   "metadata": {},
   "outputs": [],
   "source": [
    "#Initialize params and correlations, per gene\n",
    "np.random.seed(40)\n",
    "\n",
    "mean = np.asarray([1.2, 0.2, 0.5, 5]) #b, beta, gamma, L \n",
    "std = np.asarray([0.6, 0.3, 0.5, 0.5]) \n",
    "var = std[:, None] * std[None, :] #Make covariance matrix\n",
    "rho = [0.8, 0.8, 0.8, -0.1, 0, 0] #Incorporate corrs b/w params\n",
    "pairs = [[1, 2], [0, 1], [0, 2], [0, 3], [1, 3], [2, 3]]\n",
    "for k, p in enumerate(pairs):\n",
    "    var[p[0], p[1]] *= rho[k]\n",
    "    var[p[1], p[0]] *= rho[k]\n",
    "    \n",
    "samples = [np.random.multivariate_normal(mean, var, n_genes[i]) for i in range(len(n_genes))]\n"
   ]
  },
  {
   "cell_type": "code",
   "execution_count": 705,
   "id": "17a6bd50",
   "metadata": {},
   "outputs": [
    {
     "name": "stdout",
     "output_type": "stream",
     "text": [
      "2\n"
     ]
    },
    {
     "data": {
      "text/plain": [
       "(1100, 4)"
      ]
     },
     "execution_count": 705,
     "metadata": {},
     "output_type": "execute_result"
    }
   ],
   "source": [
    "print(len(samples))\n",
    "samples[0].shape"
   ]
  },
  {
   "cell_type": "code",
   "execution_count": 706,
   "id": "08b035f3",
   "metadata": {},
   "outputs": [
    {
     "data": {
      "text/plain": [
       "[1100, 700]"
      ]
     },
     "execution_count": 706,
     "metadata": {},
     "output_type": "execute_result"
    }
   ],
   "source": [
    "n_genes"
   ]
  },
  {
   "cell_type": "code",
   "execution_count": 707,
   "id": "f83af96a",
   "metadata": {},
   "outputs": [
    {
     "name": "stdout",
     "output_type": "stream",
     "text": [
      "/home/tchari/perturbCME/notebooks/sim_genome_polyA_cum_3_0\n",
      "/home/tchari/perturbCME/notebooks/sim_genome_polyA_cum_3_1\n"
     ]
    },
    {
     "name": "stderr",
     "output_type": "stream",
     "text": [
      "/home/tchari/.local/lib/python3.7/site-packages/ipykernel_launcher.py:13: SettingWithCopyWarning: \n",
      "A value is trying to be set on a copy of a slice from a DataFrame.\n",
      "Try using .loc[row_indexer,col_indexer] = value instead\n",
      "\n",
      "See the caveats in the documentation: https://pandas.pydata.org/pandas-docs/stable/user_guide/indexing.html#returning-a-view-versus-a-copy\n",
      "  del sys.path[0]\n"
     ]
    }
   ],
   "source": [
    "#Select genes from real transcriptome\n",
    "lens_sub = []\n",
    "names_sub = []\n",
    "for r in range(len(n_genes)):\n",
    "    gene_names = np.array(transcriptome[0])\n",
    "\n",
    "    names_sub += [gene_names[0:n_genes[r]]]\n",
    "\n",
    "\n",
    "    transcriptome_sub = transcriptome[0:n_genes[r]]\n",
    "    ls_sub = 10**samples[r][:,3]\n",
    "    lens_sub += [ls_sub]\n",
    "    transcriptome_sub[1] = [int(i) for i in ls_sub]\n",
    "    transcriptome_sub.head()\n",
    "\n",
    "    #make new transcriptome in same style\n",
    "    transcriptome_sub.to_csv('/home/tchari/perturbCME/notebooks/sim_genome_polyA_cum_3_'+str(r),sep=' ', index=False)\n",
    "    print('/home/tchari/perturbCME/notebooks/sim_genome_polyA_cum_3_'+str(r))\n"
   ]
  },
  {
   "cell_type": "code",
   "execution_count": null,
   "id": "74b31751",
   "metadata": {},
   "outputs": [],
   "source": []
  },
  {
   "cell_type": "markdown",
   "id": "ed062aa9",
   "metadata": {},
   "source": [
    "Get (U,S) counts for each simulation setting"
   ]
  },
  {
   "cell_type": "code",
   "execution_count": 708,
   "id": "5cb39de0",
   "metadata": {},
   "outputs": [],
   "source": [
    "#loc=1.5,1.0\n",
    "all_params = []\n",
    "all_marks = []\n",
    "\n",
    "out = make_params(clus[0],n_genes[0],lens_sub[0],samples[0],glob_samp,num_marks[0],p=0.2,loc=0.5,lessp_param='b',greatp_param='beta') #,p=0.2,loc=0.5\n",
    "all_params += [out[0]]\n",
    "all_marks += [out[1]]\n",
    "\n",
    "\n",
    "out = make_params(clus[1],n_genes[1],lens_sub[1],samples[1],glob_samp,num_marks[1],p=0.2,loc=0.5,lessp_param='b',greatp_param='beta') #,p=0.2,loc=0.5\n",
    "all_params += [out[0]]\n",
    "all_marks += [out[1]]\n",
    "\n",
    "\n",
    "# out = make_params(clus,n_genes,lens_sub,samples,glob_samp,num_marks,p=0.2,loc=0.5,lessp_param='b',greatp_param='beta')\n",
    "# all_params += [out[0]]\n",
    "# all_marks += [out[1]]\n",
    "\n",
    "\n",
    "# out = make_params(clus,n_genes,lens_sub,samples,glob_samp,num_marks,p=0.2,loc=0.3,lessp_param='k',greatp_param='gamma')\n",
    "# all_params += [out[0]]\n",
    "# all_marks += [out[1]]\n",
    "\n",
    "# !*** Changed to 0.3 from 0.5 !***\n"
   ]
  },
  {
   "cell_type": "code",
   "execution_count": 709,
   "id": "695d8e5e",
   "metadata": {},
   "outputs": [
    {
     "data": {
      "text/plain": [
       "-3.270746202006175"
      ]
     },
     "execution_count": 709,
     "metadata": {},
     "output_type": "execute_result"
    }
   ],
   "source": [
    "np.min(all_params[0])"
   ]
  },
  {
   "cell_type": "code",
   "execution_count": 710,
   "id": "5f95eef8",
   "metadata": {},
   "outputs": [
    {
     "name": "stdout",
     "output_type": "stream",
     "text": [
      "pos_ind:  100\n",
      "pos_ind:  200\n",
      "pos_ind:  400\n",
      "pos_ind:  600\n",
      "pos_ind:  900\n",
      "pos_ind:  1400\n",
      "pos_ind:  1900\n",
      "pos_ind:  2900\n",
      "pos_ind:  3700\n",
      "pos_ind:  5000\n",
      "pos_ind:  100\n",
      "pos_ind:  400\n",
      "pos_ind:  900\n",
      "pos_ind:  1900\n",
      "pos_ind:  3400\n"
     ]
    }
   ],
   "source": [
    "all_counts = []\n",
    "for x in range(len(all_params)):\n",
    "    all_counts += [make_counts(clus[x],n_cells[x],n_genes[x],all_params[x])]"
   ]
  },
  {
   "cell_type": "code",
   "execution_count": null,
   "id": "f1337af3",
   "metadata": {},
   "outputs": [],
   "source": []
  },
  {
   "cell_type": "code",
   "execution_count": 711,
   "id": "d2b35514",
   "metadata": {},
   "outputs": [],
   "source": [
    "all_assigns = []\n",
    "\n",
    "for c in range(len(clus)):\n",
    "    sub_assigns = []\n",
    "    for i in range(clus[c]):\n",
    "        sub_assigns += [i]*n_cells[c][i]\n",
    "    all_assigns += [sub_assigns]"
   ]
  },
  {
   "cell_type": "code",
   "execution_count": null,
   "id": "ab482c28",
   "metadata": {},
   "outputs": [],
   "source": []
  },
  {
   "cell_type": "code",
   "execution_count": 715,
   "id": "9ca8c84e",
   "metadata": {},
   "outputs": [
    {
     "data": {
      "text/plain": [
       "(5000, 1100, 2)"
      ]
     },
     "execution_count": 715,
     "metadata": {},
     "output_type": "execute_result"
    }
   ],
   "source": [
    "all_counts[0].shape"
   ]
  },
  {
   "cell_type": "code",
   "execution_count": 716,
   "id": "6459573d",
   "metadata": {},
   "outputs": [],
   "source": [
    "!rm -r /home/tchari/counts/meKMeans_sims/loom/"
   ]
  },
  {
   "cell_type": "code",
   "execution_count": 717,
   "id": "7cbf6115",
   "metadata": {},
   "outputs": [
    {
     "name": "stdout",
     "output_type": "stream",
     "text": [
      "mkdir: cannot create directory ‘/home/tchari/counts/meKMeans_sims’: File exists\r\n"
     ]
    }
   ],
   "source": [
    "!mkdir /home/tchari/counts/meKMeans_sims\n",
    "!mkdir /home/tchari/counts/meKMeans_sims/loom/"
   ]
  },
  {
   "cell_type": "code",
   "execution_count": 718,
   "id": "699dcdfc",
   "metadata": {},
   "outputs": [
    {
     "name": "stdout",
     "output_type": "stream",
     "text": [
      "(2,)\n"
     ]
    },
    {
     "name": "stderr",
     "output_type": "stream",
     "text": [
      "/home/tchari/.local/lib/python3.7/site-packages/ipykernel_launcher.py:4: VisibleDeprecationWarning: Creating an ndarray from ragged nested sequences (which is a list-or-tuple of lists-or-tuples-or ndarrays with different lengths or shapes) is deprecated. If you meant to do this, you must specify 'dtype=object' when creating the ndarray.\n",
      "  after removing the cwd from sys.path.\n",
      "/home/tchari/.local/lib/python3.7/site-packages/ipykernel_launcher.py:5: VisibleDeprecationWarning: Creating an ndarray from ragged nested sequences (which is a list-or-tuple of lists-or-tuples-or ndarrays with different lengths or shapes) is deprecated. If you meant to do this, you must specify 'dtype=object' when creating the ndarray.\n",
      "  \"\"\"\n",
      "/home/tchari/.local/lib/python3.7/site-packages/ipykernel_launcher.py:6: VisibleDeprecationWarning: Creating an ndarray from ragged nested sequences (which is a list-or-tuple of lists-or-tuples-or ndarrays with different lengths or shapes) is deprecated. If you meant to do this, you must specify 'dtype=object' when creating the ndarray.\n",
      "  \n"
     ]
    }
   ],
   "source": [
    "#Save all params and all marks\n",
    "out_path = '/home/tchari/counts/meKMeans_sims/loom/'\n",
    "\n",
    "print(np.array(all_params).shape)\n",
    "np.save(out_path+'all_params.npy',np.array(all_params))\n",
    "np.save(out_path+'all_marks.npy',np.array(all_marks))"
   ]
  },
  {
   "cell_type": "markdown",
   "id": "03ed2387",
   "metadata": {},
   "source": [
    "**Check sims**"
   ]
  },
  {
   "cell_type": "code",
   "execution_count": 719,
   "id": "7c70461f",
   "metadata": {},
   "outputs": [
    {
     "data": {
      "text/plain": [
       "Text(0, 0.5, 'log beta (beta)')"
      ]
     },
     "execution_count": 719,
     "metadata": {},
     "output_type": "execute_result"
    },
    {
     "data": {
      "image/png": "[encoded data removed]",
      "text/plain": [
       "<Figure size 432x288 with 1 Axes>"
      ]
     },
     "metadata": {
      "needs_background": "light"
     },
     "output_type": "display_data"
    }
   ],
   "source": [
    "test_out = all_params[-1]\n",
    "test_marks = all_marks[-1][0:num_marks[-1]]\n",
    "\n",
    "plt.scatter(range(len(test_out[0,:,0])), 10**test_out[0,:,3],alpha=0.5,edgecolor='black')\n",
    "plt.scatter(np.array(range(len(test_out[0,:,0])))[test_marks], 10**test_out[0,:,3][test_marks],color='salmon',alpha=0.9,edgecolor='black')\n",
    "plt.yscale('log')\n",
    "plt.xlabel('gene')\n",
    "plt.ylabel('log beta (beta)')"
   ]
  },
  {
   "cell_type": "markdown",
   "id": "e5d29a26",
   "metadata": {},
   "source": [
    "**Save sims to loom files**"
   ]
  },
  {
   "cell_type": "code",
   "execution_count": 720,
   "id": "1a58d7c0",
   "metadata": {},
   "outputs": [],
   "source": [
    "out_names = ['b_beta_sim_k8','k_gamma_sim_k8'] "
   ]
  },
  {
   "cell_type": "code",
   "execution_count": 722,
   "id": "86e33c18",
   "metadata": {},
   "outputs": [
    {
     "data": {
      "text/plain": [
       "5000"
      ]
     },
     "execution_count": 722,
     "metadata": {},
     "output_type": "execute_result"
    }
   ],
   "source": [
    "len(all_assigns[0])"
   ]
  },
  {
   "cell_type": "code",
   "execution_count": 723,
   "id": "f2ae6079",
   "metadata": {},
   "outputs": [
    {
     "name": "stdout",
     "output_type": "stream",
     "text": [
      "Making Loom\n"
     ]
    },
    {
     "name": "stderr",
     "output_type": "stream",
     "text": [
      "/home/tchari/.local/lib/python3.7/site-packages/ipykernel_launcher.py:24: FutureWarning: X.dtype being converted to np.float32 from float64. In the next version of anndata (0.9) conversion will not be automatic. Pass dtype explicitly to avoid this warning. Pass `AnnData(X, dtype=X.dtype, ...)` to get the future behavour.\n"
     ]
    },
    {
     "name": "stdout",
     "output_type": "stream",
     "text": [
      "/home/tchari/counts/meKMeans_sims/loom/b_beta_sim_k8.loom\n",
      "Making Loom\n",
      "/home/tchari/counts/meKMeans_sims/loom/k_gamma_sim_k8.loom\n"
     ]
    }
   ],
   "source": [
    "#And save clus labels for cells + barcodes for each cell in metadata + loom\n",
    "out_path = '/home/tchari/counts/meKMeans_sims/loom/'\n",
    "\n",
    "for ind in range(len(out_names)):\n",
    "    geneNames = names_sub[ind]\n",
    "    \n",
    "    U = all_counts[ind][:,:,0]\n",
    "    S = all_counts[ind][:,:,1]\n",
    "    \n",
    "    bars = [str(i) for i in range(np.sum(n_cells[ind]))]\n",
    "\n",
    "    fname = out_path+out_names[ind]+'.loom'\n",
    "\n",
    "    print('Making Loom')\n",
    "    #Make loom of U/S\n",
    "    subclass = all_assigns[ind]\n",
    "    retAdata = anndata.AnnData(\n",
    "                X=sparse.csr_matrix(S),\n",
    "                layers={\n",
    "                    'spliced': sparse.csr_matrix(S),\n",
    "                    'unspliced': sparse.csr_matrix(U),\n",
    "                },\n",
    "                obs=pd.DataFrame({'barcode': np.array(bars),'subclass_label':subclass},index=np.array(bars)),\n",
    "                var=pd.DataFrame({'gene_name': geneNames},index=geneNames)\n",
    "            )\n",
    "\n",
    "    retAdata.write_loom(fname)\n",
    "    print(fname)\n",
    "    \n",
    "    hf = h5py.File(out_path+out_names[ind]+'.h5', 'w')\n",
    "    hf.create_dataset('X1', data=U)\n",
    "    hf.create_dataset('X2', data=S)\n",
    "\n",
    "    ys = all_assigns[ind]\n",
    "    hf.create_dataset('Y', data=ys)\n",
    "    hf.close()\n"
   ]
  },
  {
   "cell_type": "code",
   "execution_count": 724,
   "id": "909c7e65",
   "metadata": {},
   "outputs": [],
   "source": [
    "#Make looms with random dropout\n",
    "drop_ind = 0\n",
    "drop_perc = [.01,.05,.2]\n",
    "out_names = ['drop_1perc_sim_k8','drop_5perc_sim_k8','drop_20perc_sim_k8'] "
   ]
  },
  {
   "cell_type": "code",
   "execution_count": null,
   "id": "0332d6b0",
   "metadata": {},
   "outputs": [],
   "source": []
  },
  {
   "cell_type": "code",
   "execution_count": 725,
   "id": "7d9fa84a",
   "metadata": {},
   "outputs": [
    {
     "name": "stdout",
     "output_type": "stream",
     "text": [
      "Making Loom\n"
     ]
    },
    {
     "name": "stderr",
     "output_type": "stream",
     "text": [
      "/home/tchari/.local/lib/python3.7/site-packages/ipykernel_launcher.py:30: FutureWarning: X.dtype being converted to np.float32 from float64. In the next version of anndata (0.9) conversion will not be automatic. Pass dtype explicitly to avoid this warning. Pass `AnnData(X, dtype=X.dtype, ...)` to get the future behavour.\n"
     ]
    },
    {
     "name": "stdout",
     "output_type": "stream",
     "text": [
      "/home/tchari/counts/meKMeans_sims/loom/drop_1perc_sim_k8.loom\n",
      "Making Loom\n",
      "/home/tchari/counts/meKMeans_sims/loom/drop_5perc_sim_k8.loom\n",
      "Making Loom\n",
      "/home/tchari/counts/meKMeans_sims/loom/drop_20perc_sim_k8.loom\n"
     ]
    }
   ],
   "source": [
    "#And save clus labels for cells + barcodes for each cell in metadata + loom\n",
    "out_path = '/home/tchari/counts/meKMeans_sims/loom/'\n",
    "\n",
    "for perc in range(len(drop_perc)):\n",
    "    geneNames = names_sub[drop_ind]\n",
    "    \n",
    "    U = all_counts[drop_ind][:,:,0]\n",
    "    S = all_counts[drop_ind][:,:,1]\n",
    "    \n",
    "    #Choose indices to set to 0 counts\n",
    "    mask = np.random.choice([0, 1], size=(U.shape[0],U.shape[1]), p=[drop_perc[perc],1-drop_perc[perc]])\n",
    "    U = U*mask\n",
    "    mask = np.random.choice([0, 1], size=(U.shape[0],U.shape[1]), p=[drop_perc[perc],1-drop_perc[perc]])\n",
    "    S = S*mask\n",
    "    \n",
    "    bars = [str(i) for i in range(np.sum(n_cells[drop_ind]))]\n",
    "\n",
    "    fname = out_path+out_names[perc]+'.loom'\n",
    "\n",
    "    print('Making Loom')\n",
    "    #Make loom of U/S\n",
    "    subclass = all_assigns[drop_ind]\n",
    "    retAdata = anndata.AnnData(\n",
    "                X=sparse.csr_matrix(S),\n",
    "                layers={\n",
    "                    'spliced': sparse.csr_matrix(S),\n",
    "                    'unspliced': sparse.csr_matrix(U),\n",
    "                },\n",
    "                obs=pd.DataFrame({'barcode': np.array(bars),'subclass_label':subclass},index=np.array(bars)),\n",
    "                var=pd.DataFrame({'gene_name': geneNames},index=geneNames)\n",
    "            )\n",
    "\n",
    "    retAdata.write_loom(fname)\n",
    "    print(fname)\n",
    "    \n",
    "    \n",
    "    hf = h5py.File(out_path+out_names[perc]+'.h5', 'w')\n",
    "    hf.create_dataset('X1', data=U)\n",
    "    hf.create_dataset('X2', data=S)\n",
    "\n",
    "    ys = all_assigns[drop_ind]\n",
    "    hf.create_dataset('Y', data=ys)\n",
    "    hf.close()\n"
   ]
  },
  {
   "cell_type": "code",
   "execution_count": null,
   "id": "935fb232",
   "metadata": {},
   "outputs": [],
   "source": []
  },
  {
   "cell_type": "code",
   "execution_count": null,
   "id": "7eb295ec",
   "metadata": {},
   "outputs": [],
   "source": []
  },
  {
   "cell_type": "code",
   "execution_count": null,
   "id": "8aab36a2",
   "metadata": {},
   "outputs": [],
   "source": []
  },
  {
   "cell_type": "code",
   "execution_count": null,
   "id": "36239401",
   "metadata": {},
   "outputs": [],
   "source": []
  },
  {
   "cell_type": "markdown",
   "id": "9c427ea3",
   "metadata": {},
   "source": [
    "**Make negative control loom**\n",
    "\n",
    "(No clusters)"
   ]
  },
  {
   "cell_type": "code",
   "execution_count": 726,
   "id": "f2b705c0",
   "metadata": {},
   "outputs": [],
   "source": [
    "all_params = []\n",
    "all_marks = []\n",
    "\n",
    "ind_chose = 0 \n",
    "out = make_params(1,n_genes[ind_chose],lens_sub[ind_chose],samples[ind_chose],glob_samp,0,p=0.5,loc=1.5,lessp_param='b',greatp_param='beta')\n",
    "all_params += [out[0]]\n",
    "all_marks += [out[1]]\n",
    "\n"
   ]
  },
  {
   "cell_type": "code",
   "execution_count": 727,
   "id": "5874d979",
   "metadata": {},
   "outputs": [
    {
     "name": "stdout",
     "output_type": "stream",
     "text": [
      "pos_ind:  5000\n"
     ]
    }
   ],
   "source": [
    "all_counts = [make_counts(1,[np.sum(n_cells[ind_chose])],n_genes[ind_chose],all_params[0])]"
   ]
  },
  {
   "cell_type": "code",
   "execution_count": null,
   "id": "4c80013c",
   "metadata": {},
   "outputs": [],
   "source": []
  },
  {
   "cell_type": "code",
   "execution_count": 728,
   "id": "9669af3b",
   "metadata": {},
   "outputs": [],
   "source": [
    "all_assigns = [0]*np.sum(n_cells[ind_chose])"
   ]
  },
  {
   "cell_type": "code",
   "execution_count": 729,
   "id": "2b56977f",
   "metadata": {},
   "outputs": [
    {
     "name": "stdout",
     "output_type": "stream",
     "text": [
      "(1, 1100, 6)\n"
     ]
    }
   ],
   "source": [
    "#Save all params and all marks\n",
    "out_path = '/home/tchari/counts/meKMeans_sims/loom/'\n",
    "\n",
    "print(np.array(all_params[ind_chose]).shape)\n",
    "np.save(out_path+'negctrl_params.npy',np.array(all_params[ind_chose]))"
   ]
  },
  {
   "cell_type": "code",
   "execution_count": 730,
   "id": "301e394e",
   "metadata": {},
   "outputs": [],
   "source": [
    "out_names = ['negctrl_sim_k1'] "
   ]
  },
  {
   "cell_type": "code",
   "execution_count": 731,
   "id": "81b99317",
   "metadata": {},
   "outputs": [
    {
     "name": "stdout",
     "output_type": "stream",
     "text": [
      "Making Loom\n"
     ]
    },
    {
     "name": "stderr",
     "output_type": "stream",
     "text": [
      "/home/tchari/.local/lib/python3.7/site-packages/ipykernel_launcher.py:24: FutureWarning: X.dtype being converted to np.float32 from float64. In the next version of anndata (0.9) conversion will not be automatic. Pass dtype explicitly to avoid this warning. Pass `AnnData(X, dtype=X.dtype, ...)` to get the future behavour.\n"
     ]
    },
    {
     "name": "stdout",
     "output_type": "stream",
     "text": [
      "/home/tchari/counts/meKMeans_sims/loom/negctrl_sim_k1.loom\n"
     ]
    }
   ],
   "source": [
    "#And save clus labels for cells + barcodes for each cell in metadata + loom\n",
    "out_path = '/home/tchari/counts/meKMeans_sims/loom/'\n",
    "\n",
    "for ind in range(len(out_names)):\n",
    "    geneNames = names_sub[ind_chose]\n",
    "    \n",
    "    U = all_counts[ind][:,:,0]\n",
    "    S = all_counts[ind][:,:,1]\n",
    "    \n",
    "    bars = [str(i) for i in range(np.sum(n_cells[ind_chose]))]\n",
    "\n",
    "    fname = out_path+out_names[ind]+'.loom'\n",
    "\n",
    "    print('Making Loom')\n",
    "    #Make loom of U/S\n",
    "    subclass = all_assigns\n",
    "    retAdata = anndata.AnnData(\n",
    "                X=sparse.csr_matrix(S),\n",
    "                layers={\n",
    "                    'spliced': sparse.csr_matrix(S),\n",
    "                    'unspliced': sparse.csr_matrix(U),\n",
    "                },\n",
    "                obs=pd.DataFrame({'barcode': np.array(bars),'subclass_label':subclass},index=np.array(bars)),\n",
    "                var=pd.DataFrame({'gene_name': geneNames},index=geneNames)\n",
    "            )\n",
    "\n",
    "    retAdata.write_loom(fname)\n",
    "    print(fname)\n",
    "    \n",
    "    \n",
    "    hf = h5py.File(out_path+out_names[ind]+'.h5', 'w')\n",
    "    hf.create_dataset('X1', data=U)\n",
    "    hf.create_dataset('X2', data=S)\n",
    "\n",
    "    ys = all_assigns\n",
    "    hf.create_dataset('Y', data=ys)\n",
    "    hf.close()\n",
    "\n"
   ]
  },
  {
   "cell_type": "code",
   "execution_count": 732,
   "id": "916a4970",
   "metadata": {},
   "outputs": [
    {
     "name": "stdout",
     "output_type": "stream",
     "text": [
      "total 502M\r\n",
      "-rw-rw-r--. 1 tchari tchari  13K Mar  7 10:13 all_marks.npy\r\n",
      "-rw-rw-r--. 1 tchari tchari 681K Mar  7 10:13 all_params.npy\r\n",
      "-rw-rw-r--. 1 tchari tchari  84M Mar  7 10:13 b_beta_sim_k8.h5\r\n",
      "-rw-rw-r--. 1 tchari tchari 8.4M Mar  7 10:13 b_beta_sim_k8.loom\r\n",
      "-rw-rw-r--. 1 tchari tchari  84M Mar  7 10:14 drop_1perc_sim_k8.h5\r\n",
      "-rw-rw-r--. 1 tchari tchari 8.4M Mar  7 10:14 drop_1perc_sim_k8.loom\r\n",
      "-rw-rw-r--. 1 tchari tchari  84M Mar  7 10:14 drop_20perc_sim_k8.h5\r\n",
      "-rw-rw-r--. 1 tchari tchari 7.6M Mar  7 10:14 drop_20perc_sim_k8.loom\r\n",
      "-rw-rw-r--. 1 tchari tchari  84M Mar  7 10:14 drop_5perc_sim_k8.h5\r\n",
      "-rw-rw-r--. 1 tchari tchari 8.2M Mar  7 10:14 drop_5perc_sim_k8.loom\r\n",
      "-rw-rw-r--. 1 tchari tchari  37M Mar  7 10:13 k_gamma_sim_k8.h5\r\n",
      "-rw-rw-r--. 1 tchari tchari 3.8M Mar  7 10:13 k_gamma_sim_k8.loom\r\n",
      "-rw-rw-r--. 1 tchari tchari  52K Mar  7 10:14 negctrl_params.npy\r\n",
      "-rw-rw-r--. 1 tchari tchari  84M Mar  7 10:14 negctrl_sim_k1.h5\r\n",
      "-rw-rw-r--. 1 tchari tchari 8.2M Mar  7 10:14 negctrl_sim_k1.loom\r\n"
     ]
    }
   ],
   "source": [
    "!ls -lh /home/tchari/counts/meKMeans_sims/loom/"
   ]
  },
  {
   "cell_type": "code",
   "execution_count": 733,
   "id": "425b499b",
   "metadata": {},
   "outputs": [
    {
     "name": "stdout",
     "output_type": "stream",
     "text": [
      "tar: Removing leading `/' from member names\n",
      "/home/tchari/counts/meKMeans_sims/loom/b_beta_sim_k8.loom\n",
      "tar: Removing leading `/' from hard link targets\n",
      "/home/tchari/counts/meKMeans_sims/loom/drop_1perc_sim_k8.loom\n",
      "/home/tchari/counts/meKMeans_sims/loom/drop_20perc_sim_k8.loom\n",
      "/home/tchari/counts/meKMeans_sims/loom/drop_5perc_sim_k8.loom\n",
      "/home/tchari/counts/meKMeans_sims/loom/k_gamma_sim_k8.loom\n",
      "/home/tchari/counts/meKMeans_sims/loom/negctrl_sim_k1.loom\n"
     ]
    }
   ],
   "source": [
    "!tar -cvzf /home/tchari/counts/meKMeans_sims/loom/meK_sim_looms.tar.gz /home/tchari/counts/meKMeans_sims/loom/*.loom"
   ]
  },
  {
   "cell_type": "code",
   "execution_count": 734,
   "id": "ae3cf4fc",
   "metadata": {},
   "outputs": [
    {
     "name": "stdout",
     "output_type": "stream",
     "text": [
      "tar: Removing leading `/' from member names\n",
      "/home/tchari/counts/meKMeans_sims/loom/b_beta_sim_k8.h5\n",
      "tar: Removing leading `/' from hard link targets\n",
      "/home/tchari/counts/meKMeans_sims/loom/drop_1perc_sim_k8.h5\n",
      "/home/tchari/counts/meKMeans_sims/loom/drop_20perc_sim_k8.h5\n",
      "/home/tchari/counts/meKMeans_sims/loom/drop_5perc_sim_k8.h5\n",
      "/home/tchari/counts/meKMeans_sims/loom/k_gamma_sim_k8.h5\n",
      "/home/tchari/counts/meKMeans_sims/loom/negctrl_sim_k1.h5\n"
     ]
    }
   ],
   "source": [
    "!tar -cvzf /home/tchari/counts/meKMeans_sims/loom/meK_sim_h5s.tar.gz /home/tchari/counts/meKMeans_sims/loom/*.h5\n",
    "\n"
   ]
  },
  {
   "cell_type": "code",
   "execution_count": null,
   "id": "b6e24047",
   "metadata": {},
   "outputs": [],
   "source": []
  },
  {
   "cell_type": "code",
   "execution_count": null,
   "id": "37f85d0a",
   "metadata": {},
   "outputs": [],
   "source": []
  }
 ],
 "metadata": {
  "kernelspec": {
   "display_name": "Python 3 (ipykernel)",
   "language": "python",
   "name": "python3"
  },
  "language_info": {
   "codemirror_mode": {
    "name": "ipython",
    "version": 3
   },
   "file_extension": ".py",
   "mimetype": "text/x-python",
   "name": "python",
   "nbconvert_exporter": "python",
   "pygments_lexer": "ipython3",
   "version": "3.7.11"
  }
 },
 "nbformat": 4,
 "nbformat_minor": 5
}
