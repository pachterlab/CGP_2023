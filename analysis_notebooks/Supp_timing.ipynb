{
 "cells": [
  {
   "cell_type": "markdown",
   "id": "e399d27b-a9e9-4402-a012-d3187cb44bc5",
   "metadata": {},
   "source": [
    "# **In this notebook we benchmark runtime of meK-Means on real data**"
   ]
  },
  {
   "cell_type": "code",
   "execution_count": 76,
   "id": "bcc157ec",
   "metadata": {},
   "outputs": [],
   "source": [
    "import h5py\n",
    "import scanpy as sc\n",
    "import anndata\n",
    "import loompy as lp\n",
    "\n",
    "import numpy as np\n",
    "import pandas as pd\n",
    "import matplotlib.pyplot as plt\n",
    "import seaborn as sns\n",
    "\n",
    "import sys\n",
    "import glob\n",
    "import importlib\n",
    "import random"
   ]
  },
  {
   "cell_type": "code",
   "execution_count": 2,
   "id": "adb2af86",
   "metadata": {},
   "outputs": [],
   "source": [
    "import sys\n",
    "sys.path.insert(0, '/home/tchari/monod/src/') #OR pip install monod"
   ]
  },
  {
   "cell_type": "code",
   "execution_count": 3,
   "id": "e549a63c",
   "metadata": {},
   "outputs": [],
   "source": [
    "import monod\n",
    "importlib.reload(monod)\n",
    "from monod import preprocess, extract_data, cme_toolbox, analysis, mminference"
   ]
  },
  {
   "cell_type": "code",
   "execution_count": 4,
   "id": "cbef6034",
   "metadata": {},
   "outputs": [],
   "source": [
    "from timeit import default_timer as timer"
   ]
  },
  {
   "cell_type": "markdown",
   "id": "b25e2c2b-7c84-4b38-9624-3897b5049b19",
   "metadata": {},
   "source": [
    "**Download data and metadata for analysis**"
   ]
  },
  {
   "cell_type": "code",
   "execution_count": null,
   "id": "a9696c2e-8003-4dcc-a317-378036de6160",
   "metadata": {},
   "outputs": [],
   "source": [
    "#Developing mouse brain data (19G)\n",
    "!wget --content-disposition https://storage.googleapis.com/linnarsson-lab-loom/dev_all.loom"
   ]
  },
  {
   "cell_type": "code",
   "execution_count": null,
   "id": "564ec3a7-fbe5-4bb0-9ecd-69bdeeca4d48",
   "metadata": {},
   "outputs": [],
   "source": [
    "#Gene length annotations\n",
    "!wget --content-disposition https://raw.githubusercontent.com/pachterlab/CGP_2023/main/references/gg_200524_mouse_genome_polyA_cum_1\n",
    "\n",
    "#Human reference (GRCh38-2020-A) for also available\n",
    "!wget --content-disposition https://raw.githubusercontent.com/pachterlab/CGP_2023/main/references/gg_200525_genome_polyA_cum_3"
   ]
  },
  {
   "cell_type": "code",
   "execution_count": null,
   "id": "b3bd8413-18d1-455d-bbab-b9f99b382dea",
   "metadata": {},
   "outputs": [],
   "source": [
    "#Analyze previously saved results\n",
    "!wget --content-disposition https://github.com/pachterlab/CGP_2023/raw/main/analysis_output/all_res_csvs.tar.gz\n",
    "!tar -xvf all_res_csvs.tar.gz"
   ]
  },
  {
   "cell_type": "markdown",
   "id": "e68a9993",
   "metadata": {},
   "source": [
    "## **Set up files for cell number meK-Means Runs**"
   ]
  },
  {
   "cell_type": "code",
   "execution_count": 10,
   "id": "0969f241",
   "metadata": {},
   "outputs": [
    {
     "name": "stdout",
     "output_type": "stream",
     "text": [
      "['Age', 'BTSNE', 'CellCycle', 'CellID', 'Cell_Conc', 'Chemistry', 'ChipID', 'Class', 'ClusterName', 'Clusters', 'Date_Captured', 'DonorID', 'DoubletFinderPCA', 'HPF', 'HPF_LogPP', 'HPF_theta', 'IsCycling', 'Label', 'Location_E9_E11', 'NCellsCluster', 'NGenes', 'Num_Pooled_Animals', 'PCA', 'PCR_Cycles', 'Plug_Date', 'Project', 'PseudoAge', 'PseudoTissue', 'Region', 'SampleID', 'SampleName', 'Sample_Index', 'Sex', 'Species', 'Split', 'Strain', 'Subclass', 'TSNE', 'Target_Num_Cells', 'Tissue', 'TotalUMI', 'Transcriptome', 'UMAP', 'UMAP3D', 'cDNA_Lib_Ok', 'ngperul_cDNA']\n",
      "292495\n",
      "\n",
      "['Accession', 'Chromosome', 'End', 'Gamma', 'Gene', 'HPF', 'HPF_beta', 'MultilevelMarkers', 'Selected', 'Start', 'Strand', 'Valid']\n",
      "31053\n",
      "Ptk6\n"
     ]
    }
   ],
   "source": [
    "#Data from http://mousebrain.org/development/downloads.html (dev_all.loom)\n",
    "\n",
    "ds = lp.connect('./dev_all.loom')\n",
    "print(ds.ca.keys())\n",
    "print(len(ds.ca['CellID']))\n",
    "print()\n",
    "print(ds.ra.keys())\n",
    "print(len(ds.ra['Gene']))\n",
    "print(ds.ra['Gene'][0])\n",
    "ds.close()"
   ]
  },
  {
   "cell_type": "code",
   "execution_count": null,
   "id": "b0da0bee",
   "metadata": {},
   "outputs": [],
   "source": []
  },
  {
   "cell_type": "markdown",
   "id": "0d6606e9",
   "metadata": {},
   "source": [
    "Make a new loom with only genes that pass U/S threshold (with enough counts for modeling)"
   ]
  },
  {
   "cell_type": "code",
   "execution_count": 11,
   "id": "02d898e4",
   "metadata": {},
   "outputs": [],
   "source": [
    "def nb_thresh(U,S,var_t = 1.5,u_min =0.02,s_min =0.02):\n",
    "    '''\n",
    "    Take in U,S matrices, and find genes that meet var/mean thresh\n",
    "    U,S are cellxgene\n",
    "    '''\n",
    "    var_threshold = var_t\n",
    "    U_mean = U.mean(0)\n",
    "    S_mean = S.mean(0)\n",
    "    U_var = U.var(0)\n",
    "    S_var = S.var(0)\n",
    "\n",
    "    #if l == '/home/tchari/counts/allen_bivi/loom/processed_allen_B02H01A02_raw.loom':\n",
    "    u_min = u_min\n",
    "    s_min =  s_min\n",
    "\n",
    "\n",
    "    fitted_idx = (U_mean > u_min) & (S_mean > s_min) \\\n",
    "    & (((U_var-U_mean)/(U_mean**2)) > var_threshold)\\\n",
    "    & (((S_var-S_mean)/(S_mean**2)) > var_threshold)\\\n",
    "    & (np.abs(np.log(S_mean/U_mean)) < 4) \n",
    "    \n",
    "    \n",
    "    return fitted_idx"
   ]
  },
  {
   "cell_type": "code",
   "execution_count": 12,
   "id": "019f1b4f",
   "metadata": {},
   "outputs": [
    {
     "name": "stdout",
     "output_type": "stream",
     "text": [
      "No. all genes that pass thresh:  3686\n"
     ]
    },
    {
     "name": "stderr",
     "output_type": "stream",
     "text": [
      "/home/tchari/.local/lib/python3.7/site-packages/ipykernel_launcher.py:20: RuntimeWarning: invalid value encountered in true_divide\n",
      "/home/tchari/.local/lib/python3.7/site-packages/ipykernel_launcher.py:20: RuntimeWarning: divide by zero encountered in true_divide\n",
      "/home/tchari/.local/lib/python3.7/site-packages/ipykernel_launcher.py:20: RuntimeWarning: divide by zero encountered in log\n"
     ]
    }
   ],
   "source": [
    "l = './dev_all.loom' #Download from online \n",
    "\n",
    "ds = lp.connect(l)\n",
    "S = ds.layers['spliced'][:,:]\n",
    "U = ds.layers['unspliced'][:,:]\n",
    "bars = ds.ca['CellID']\n",
    "g_names = ds.ra['Gene']\n",
    "ds.close()\n",
    "\n",
    "fitted_idx = nb_thresh(U.T,S.T,var_t = 1.5,u_min =0.02,s_min =0.02)\n",
    "num_chosen = np.sum(fitted_idx)\n",
    "print('No. all genes that pass thresh: ', num_chosen)"
   ]
  },
  {
   "cell_type": "markdown",
   "id": "9f4f0480",
   "metadata": {},
   "source": [
    "Filter for all genes with enough U/S counts"
   ]
  },
  {
   "cell_type": "code",
   "execution_count": 14,
   "id": "042d4088",
   "metadata": {},
   "outputs": [
    {
     "name": "stderr",
     "output_type": "stream",
     "text": [
      "/home/tchari/.local/lib/python3.7/site-packages/ipykernel_launcher.py:13: FutureWarning: X.dtype being converted to np.float32 from uint16. In the next version of anndata (0.9) conversion will not be automatic. Pass dtype explicitly to avoid this warning. Pass `AnnData(X, dtype=X.dtype, ...)` to get the future behavour.\n",
      "  del sys.path[0]\n"
     ]
    }
   ],
   "source": [
    "#Save loom, h5 files with genes that pass NB Thresh\n",
    "S_sub = S[fitted_idx,:]\n",
    "U_sub = U[fitted_idx,:]\n",
    "g_names_sub = g_names[fitted_idx]\n",
    "retAdata = anndata.AnnData(\n",
    "    X=S_sub.T,\n",
    "    layers={\n",
    "        'spliced': S_sub.T,\n",
    "        'unspliced': U_sub.T\n",
    "    },\n",
    "    obs=pd.DataFrame({'barcode': bars},\n",
    "                     index=bars),\n",
    "    var=pd.DataFrame({'gene_name': g_names_sub},index=g_names_sub)\n",
    ")\n",
    "\n",
    "retAdata.write_loom('./dev_gfilt.loom')"
   ]
  },
  {
   "cell_type": "code",
   "execution_count": 15,
   "id": "5dd942ab",
   "metadata": {},
   "outputs": [],
   "source": [
    "new_l = './dev_gfilt.loom'"
   ]
  },
  {
   "cell_type": "code",
   "execution_count": null,
   "id": "c50c60dc",
   "metadata": {},
   "outputs": [],
   "source": []
  },
  {
   "cell_type": "code",
   "execution_count": null,
   "id": "db275b17",
   "metadata": {},
   "outputs": [],
   "source": [
    "# annots=pd.read_csv('/home/tchari/perturbCME/notebooks/gg_200524_mouse_genome_polyA_cum_1',delim_whitespace=True,header=None)\n",
    "# print(annots.head())\n",
    "# filt_markers = [m for m in g_names_sub if m in list(annots[0])]\n",
    "# len(filt_markers)"
   ]
  },
  {
   "cell_type": "code",
   "execution_count": null,
   "id": "a21ca712",
   "metadata": {},
   "outputs": [],
   "source": []
  },
  {
   "cell_type": "code",
   "execution_count": 117,
   "id": "e78ebd89",
   "metadata": {},
   "outputs": [],
   "source": [
    "#Define loom and transcriptome for each run\n",
    "\n",
    "num_genes = [500]*4\n",
    "num_cells = [100,1000,10000,100000]\n",
    "cfs = [] #cell barcode filters\n",
    "\n",
    "for n in num_cells:\n",
    "    chosen_bars = random.sample(list(bars), n)\n",
    "    cfs += [pd.Categorical(bars).isin(chosen_bars)]\n",
    "\n",
    "gs_forfit = random.sample(list(g_names_sub), num_genes[0]) #Fit same genes for consistency\n",
    "\n",
    "looms = [new_l]*4\n",
    "\n",
    "transcrips = ['./gg_200524_mouse_genome_polyA_cum_1']*4\n",
    "\n",
    "datas = ['dev_gfilt_'+str(i)+'_cells' for i in num_cells]\n",
    "attribute_names =[('unspliced','spliced'),'gene_name','barcode']\n",
    "\n",
    "\n"
   ]
  },
  {
   "cell_type": "code",
   "execution_count": null,
   "id": "5c158c03",
   "metadata": {},
   "outputs": [],
   "source": []
  },
  {
   "cell_type": "code",
   "execution_count": null,
   "id": "ccde3d07",
   "metadata": {},
   "outputs": [],
   "source": []
  },
  {
   "cell_type": "markdown",
   "id": "35954dcc",
   "metadata": {},
   "source": [
    "## **Run cell number meK-Means Runs**"
   ]
  },
  {
   "cell_type": "code",
   "execution_count": 120,
   "id": "763a2176",
   "metadata": {},
   "outputs": [],
   "source": [
    "epochs = 5\n",
    "K=10"
   ]
  },
  {
   "cell_type": "markdown",
   "id": "1f76770f",
   "metadata": {},
   "source": [
    "**Get timing for full dataset runs**"
   ]
  },
  {
   "cell_type": "code",
   "execution_count": 57,
   "id": "e01fa52a",
   "metadata": {},
   "outputs": [],
   "source": [
    "# !rm -r /home/tchari/perturbCME/notebooks/fits/dev_all_0330"
   ]
  },
  {
   "cell_type": "code",
   "execution_count": null,
   "id": "d76692b5-993b-47b8-b9bc-72d50bb658da",
   "metadata": {},
   "outputs": [],
   "source": [
    "!mkdir ./fits"
   ]
  },
  {
   "cell_type": "code",
   "execution_count": 121,
   "id": "6e0302ee",
   "metadata": {},
   "outputs": [
    {
     "name": "stdout",
     "output_type": "stream",
     "text": [
      "mkdir: cannot create directory ‘/home/tchari/perturbCME/notebooks/fits/dev_all_0330’: File exists\n",
      "WARNING:root:Gene Fam69a not found or has multiple entries in annotations.\n",
      "WARNING:root:Gene Dopey2 not found or has multiple entries in annotations.\n",
      "WARNING:root:Selecting 500 genes required 100.0% dataset threshold.\n"
     ]
    },
    {
     "name": "stderr",
     "output_type": "stream",
     "text": [
      "100%|████████████████████████████████████████████████████████████████████████████████████████████████████| 10/10 [00:29<00:00,  2.90s/it]\n",
      "100%|████████████████████████████████████████████████████████████████████████████████████████████████████| 10/10 [00:30<00:00,  3.04s/it]\n"
     ]
    },
    {
     "name": "stdout",
     "output_type": "stream",
     "text": [
      "mstep self.weights:  [0.12142621 0.36274136 0.11000003 0.02511087 0.08153963 0.11944806\n",
      " 0.03000001 0.04985732 0.01987654 0.07999997]\n",
      "Q Function:  -48615.80138987009\n",
      "\n"
     ]
    },
    {
     "name": "stderr",
     "output_type": "stream",
     "text": [
      "100%|██████████████████████████████████████████████████████████████████████████████████████████████████████| 9/9 [00:26<00:00,  2.97s/it]\n"
     ]
    },
    {
     "name": "stdout",
     "output_type": "stream",
     "text": [
      "mstep self.weights:  [1.03467409e-01 5.60782564e-01 9.93216500e-02 1.00000090e-02\n",
      " 6.84309618e-02 9.20738738e-02 1.00000101e-02 3.00000070e-02\n",
      " 1.73208216e-08 2.59234980e-02]\n",
      "Q Function:  -47450.70082974353\n",
      "\n"
     ]
    },
    {
     "name": "stderr",
     "output_type": "stream",
     "text": [
      "100%|██████████████████████████████████████████████████████████████████████████████████████████████████████| 3/3 [00:26<00:00,  8.72s/it]\n"
     ]
    },
    {
     "name": "stdout",
     "output_type": "stream",
     "text": [
      "mstep self.weights:  [1.00001009e-02 9.54899510e-01 9.99999936e-09 1.00001126e-08\n",
      " 3.50928520e-02 1.02673597e-08 9.99999900e-09 7.47687934e-06\n",
      " 9.99999900e-09 9.99999900e-09]\n",
      "Q Function:  -39794.19768592616\n",
      "\n"
     ]
    },
    {
     "name": "stderr",
     "output_type": "stream",
     "text": [
      "100%|██████████████████████████████████████████████████████████████████████████████████████████████████████| 2/2 [00:26<00:00, 13.07s/it]\n"
     ]
    },
    {
     "name": "stdout",
     "output_type": "stream",
     "text": [
      "mstep self.weights:  [9.99999900e-09 9.89999911e-01 9.99999900e-09 9.99999900e-09\n",
      " 1.00000090e-02 9.99999900e-09 9.99999900e-09 9.99999900e-09\n",
      " 9.99999900e-09 9.99999900e-09]\n",
      "Q Function:  -34376.479899703816\n",
      "\n"
     ]
    },
    {
     "name": "stderr",
     "output_type": "stream",
     "text": [
      "100%|██████████████████████████████████████████████████████████████████████████████████████████████████████| 1/1 [00:25<00:00, 25.91s/it]\n"
     ]
    },
    {
     "name": "stdout",
     "output_type": "stream",
     "text": [
      "mstep self.weights:  [9.9999990e-09 9.9999991e-01 9.9999990e-09 9.9999990e-09 9.9999990e-09\n",
      " 9.9999990e-09 9.9999990e-09 9.9999990e-09 9.9999990e-09 9.9999990e-09]\n",
      "Q Function:  -35447.08322051086\n",
      "\n",
      "0.06808687479907853  hr\n",
      "WARNING:root:Gene Fam69a not found or has multiple entries in annotations.\n",
      "WARNING:root:Gene Dopey2 not found or has multiple entries in annotations.\n",
      "WARNING:root:Selecting 500 genes required 100.0% dataset threshold.\n"
     ]
    },
    {
     "name": "stderr",
     "output_type": "stream",
     "text": [
      "/home/tchari/monod/src/monod/mminference.py:513: RuntimeWarning: divide by zero encountered in true_divide\n",
      "  divids = (1e4/tots)[:,None]\n",
      "/home/tchari/monod/src/monod/mminference.py:514: RuntimeWarning: invalid value encountered in multiply\n",
      "  S_t = S_t*divids\n",
      "100%|████████████████████████████████████████████████████████████████████████████████████████████████████| 10/10 [00:25<00:00,  2.59s/it]\n",
      "100%|████████████████████████████████████████████████████████████████████████████████████████████████████| 10/10 [00:27<00:00,  2.74s/it]\n"
     ]
    },
    {
     "name": "stdout",
     "output_type": "stream",
     "text": [
      "mstep self.weights:  [0.01093684 0.11500976 0.02096748 0.0098205  0.01884543 0.04220578\n",
      " 0.18172754 0.03901025 0.05175193 0.50972449]\n",
      "Q Function:  -353633.044246653\n",
      "\n"
     ]
    },
    {
     "name": "stderr",
     "output_type": "stream",
     "text": [
      "100%|██████████████████████████████████████████████████████████████████████████████████████████████████████| 4/4 [00:26<00:00,  6.52s/it]\n"
     ]
    },
    {
     "name": "stdout",
     "output_type": "stream",
     "text": [
      "mstep self.weights:  [9.99999990e-10 2.19642318e-01 9.99999990e-10 9.99999990e-10\n",
      " 1.00104320e-09 9.99999990e-10 1.56406722e-01 9.99999990e-10\n",
      " 9.73191028e-03 6.14219044e-01]\n",
      "Q Function:  -342717.7978877828\n",
      "\n"
     ]
    },
    {
     "name": "stderr",
     "output_type": "stream",
     "text": [
      "100%|██████████████████████████████████████████████████████████████████████████████████████████████████████| 3/3 [00:23<00:00,  7.90s/it]\n"
     ]
    },
    {
     "name": "stdout",
     "output_type": "stream",
     "text": [
      "mstep self.weights:  [9.99999990e-10 2.91842221e-01 9.99999990e-10 9.99999990e-10\n",
      " 9.99999990e-10 9.99999990e-10 1.13214313e-01 9.99999990e-10\n",
      " 9.99999990e-10 5.94943460e-01]\n",
      "Q Function:  -338285.1765887185\n",
      "\n"
     ]
    },
    {
     "name": "stderr",
     "output_type": "stream",
     "text": [
      "100%|██████████████████████████████████████████████████████████████████████████████████████████████████████| 3/3 [00:24<00:00,  8.17s/it]\n"
     ]
    },
    {
     "name": "stdout",
     "output_type": "stream",
     "text": [
      "mstep self.weights:  [9.99999990e-10 3.74124044e-01 9.99999990e-10 9.99999990e-10\n",
      " 9.99999990e-10 9.99999990e-10 4.63446050e-02 9.99999990e-10\n",
      " 9.99999990e-10 5.79531344e-01]\n",
      "Q Function:  -338274.67969748686\n",
      "\n"
     ]
    },
    {
     "name": "stderr",
     "output_type": "stream",
     "text": [
      "100%|██████████████████████████████████████████████████████████████████████████████████████████████████████| 3/3 [00:25<00:00,  8.64s/it]\n"
     ]
    },
    {
     "name": "stdout",
     "output_type": "stream",
     "text": [
      "mstep self.weights:  [9.99999990e-10 4.13986056e-01 9.99999990e-10 9.99999990e-10\n",
      " 9.99999990e-10 9.99999990e-10 6.99567344e-03 9.99999990e-10\n",
      " 9.99999990e-10 5.79018264e-01]\n",
      "Q Function:  -338074.7690576184\n",
      "\n",
      "0.06616939909445743  hr\n",
      "WARNING:root:Gene Fam69a not found or has multiple entries in annotations.\n",
      "WARNING:root:Gene Dopey2 not found or has multiple entries in annotations.\n",
      "WARNING:root:Selecting 500 genes required 100.0% dataset threshold.\n"
     ]
    },
    {
     "name": "stderr",
     "output_type": "stream",
     "text": [
      "/home/tchari/monod/src/monod/mminference.py:513: RuntimeWarning: divide by zero encountered in true_divide\n",
      "  divids = (1e4/tots)[:,None]\n",
      "/home/tchari/monod/src/monod/mminference.py:514: RuntimeWarning: invalid value encountered in multiply\n",
      "  S_t = S_t*divids\n",
      "100%|████████████████████████████████████████████████████████████████████████████████████████████████████| 10/10 [00:26<00:00,  2.63s/it]\n",
      "100%|████████████████████████████████████████████████████████████████████████████████████████████████████| 10/10 [00:26<00:00,  2.68s/it]\n"
     ]
    },
    {
     "name": "stdout",
     "output_type": "stream",
     "text": [
      "mstep self.weights:  [0.04220075 0.09698212 0.08261831 0.13108289 0.10452387 0.17871336\n",
      " 0.1644199  0.07619675 0.06068968 0.06257237]\n",
      "Q Function:  -3348182.98963507\n",
      "\n"
     ]
    },
    {
     "name": "stderr",
     "output_type": "stream",
     "text": [
      "100%|████████████████████████████████████████████████████████████████████████████████████████████████████| 10/10 [00:27<00:00,  2.74s/it]\n"
     ]
    },
    {
     "name": "stdout",
     "output_type": "stream",
     "text": [
      "mstep self.weights:  [0.03134342 0.08311503 0.09285648 0.15510902 0.0834973  0.15275994\n",
      " 0.15419673 0.12355894 0.04246217 0.08110097]\n",
      "Q Function:  -3219445.6453289413\n",
      "\n"
     ]
    },
    {
     "name": "stderr",
     "output_type": "stream",
     "text": [
      "100%|██████████████████████████████████████████████████████████████████████████████████████████████████████| 9/9 [00:28<00:00,  3.18s/it]\n"
     ]
    },
    {
     "name": "stdout",
     "output_type": "stream",
     "text": [
      "mstep self.weights:  [2.26890645e-02 4.30681819e-03 1.00964768e-01 2.14899340e-01\n",
      " 7.59478625e-02 1.35111599e-01 1.47863253e-01 1.93565765e-01\n",
      " 1.05165747e-10 1.04651530e-01]\n",
      "Q Function:  -3252308.9650850105\n",
      "\n"
     ]
    },
    {
     "name": "stderr",
     "output_type": "stream",
     "text": [
      "100%|██████████████████████████████████████████████████████████████████████████████████████████████████████| 8/8 [00:27<00:00,  3.38s/it]\n"
     ]
    },
    {
     "name": "stdout",
     "output_type": "stream",
     "text": [
      "mstep self.weights:  [2.13294647e-02 9.99999999e-11 1.28720650e-01 2.02136574e-01\n",
      " 4.62441938e-02 1.30098111e-01 1.65824652e-01 2.01263704e-01\n",
      " 9.99999999e-11 1.04382651e-01]\n",
      "Q Function:  -3233121.859113389\n",
      "\n"
     ]
    },
    {
     "name": "stderr",
     "output_type": "stream",
     "text": [
      "100%|██████████████████████████████████████████████████████████████████████████████████████████████████████| 8/8 [00:27<00:00,  3.44s/it]\n"
     ]
    },
    {
     "name": "stdout",
     "output_type": "stream",
     "text": [
      "mstep self.weights:  [2.01373395e-02 9.99999999e-11 1.49036711e-01 1.78353702e-01\n",
      " 5.17431582e-02 1.27844702e-01 1.67349263e-01 2.01666117e-01\n",
      " 9.99999999e-11 1.03869008e-01]\n",
      "Q Function:  -3226424.36906818\n",
      "\n",
      "0.07512981440095852  hr\n",
      "WARNING:root:Gene Fam69a not found or has multiple entries in annotations.\n",
      "WARNING:root:Gene Dopey2 not found or has multiple entries in annotations.\n",
      "WARNING:root:Selecting 500 genes required 100.0% dataset threshold.\n"
     ]
    },
    {
     "name": "stderr",
     "output_type": "stream",
     "text": [
      "/home/tchari/monod/src/monod/mminference.py:513: RuntimeWarning: divide by zero encountered in true_divide\n",
      "  divids = (1e4/tots)[:,None]\n",
      "/home/tchari/monod/src/monod/mminference.py:514: RuntimeWarning: invalid value encountered in multiply\n",
      "  S_t = S_t*divids\n",
      "100%|████████████████████████████████████████████████████████████████████████████████████████████████████| 10/10 [00:36<00:00,  3.69s/it]\n",
      "100%|████████████████████████████████████████████████████████████████████████████████████████████████████| 10/10 [00:38<00:00,  3.82s/it]\n"
     ]
    },
    {
     "name": "stdout",
     "output_type": "stream",
     "text": [
      "mstep self.weights:  [0.06725504 0.04684885 0.04957397 0.08674228 0.09763254 0.0930127\n",
      " 0.0730242  0.11222563 0.18042794 0.19325684]\n",
      "Q Function:  -32996613.496638957\n",
      "\n"
     ]
    },
    {
     "name": "stderr",
     "output_type": "stream",
     "text": [
      "100%|████████████████████████████████████████████████████████████████████████████████████████████████████| 10/10 [00:37<00:00,  3.76s/it]\n"
     ]
    },
    {
     "name": "stdout",
     "output_type": "stream",
     "text": [
      "mstep self.weights:  [0.10542459 0.05038914 0.0566359  0.09927312 0.0859016  0.09141851\n",
      " 0.05948862 0.11139135 0.14962793 0.19044924]\n",
      "Q Function:  -31594796.059128635\n",
      "\n"
     ]
    },
    {
     "name": "stderr",
     "output_type": "stream",
     "text": [
      "100%|████████████████████████████████████████████████████████████████████████████████████████████████████| 10/10 [00:36<00:00,  3.67s/it]\n"
     ]
    },
    {
     "name": "stdout",
     "output_type": "stream",
     "text": [
      "mstep self.weights:  [0.12486378 0.05081452 0.06197859 0.10702926 0.07425685 0.09011079\n",
      " 0.05589143 0.11238471 0.13641271 0.18625735]\n",
      "Q Function:  -31598404.67801789\n",
      "\n"
     ]
    },
    {
     "name": "stderr",
     "output_type": "stream",
     "text": [
      "100%|████████████████████████████████████████████████████████████████████████████████████████████████████| 10/10 [00:36<00:00,  3.63s/it]\n"
     ]
    },
    {
     "name": "stdout",
     "output_type": "stream",
     "text": [
      "mstep self.weights:  [0.13436212 0.0474106  0.06969016 0.1110202  0.07062376 0.08922226\n",
      " 0.05328734 0.11445245 0.12834156 0.18158958]\n",
      "Q Function:  -31568076.61794128\n",
      "\n"
     ]
    },
    {
     "name": "stderr",
     "output_type": "stream",
     "text": [
      "100%|████████████████████████████████████████████████████████████████████████████████████████████████████| 10/10 [00:35<00:00,  3.60s/it]\n"
     ]
    },
    {
     "name": "stdout",
     "output_type": "stream",
     "text": [
      "mstep self.weights:  [0.14535936 0.04128293 0.08067093 0.11410992 0.05512149 0.08859009\n",
      " 0.05685215 0.11749363 0.12500985 0.17550965]\n",
      "Q Function:  -31689793.315010488\n",
      "\n",
      "0.15238198054902669  hr\n"
     ]
    },
    {
     "data": {
      "text/html": [
       "<div>\n",
       "<style scoped>\n",
       "    .dataframe tbody tr th:only-of-type {\n",
       "        vertical-align: middle;\n",
       "    }\n",
       "\n",
       "    .dataframe tbody tr th {\n",
       "        vertical-align: top;\n",
       "    }\n",
       "\n",
       "    .dataframe thead th {\n",
       "        text-align: right;\n",
       "    }\n",
       "</style>\n",
       "<table border=\"1\" class=\"dataframe\">\n",
       "  <thead>\n",
       "    <tr style=\"text-align: right;\">\n",
       "      <th></th>\n",
       "      <th>Cells</th>\n",
       "      <th>Time</th>\n",
       "    </tr>\n",
       "  </thead>\n",
       "  <tbody>\n",
       "    <tr>\n",
       "      <th>0</th>\n",
       "      <td>100</td>\n",
       "      <td>0.068087</td>\n",
       "    </tr>\n",
       "    <tr>\n",
       "      <th>1</th>\n",
       "      <td>1000</td>\n",
       "      <td>0.066169</td>\n",
       "    </tr>\n",
       "    <tr>\n",
       "      <th>2</th>\n",
       "      <td>10000</td>\n",
       "      <td>0.075130</td>\n",
       "    </tr>\n",
       "    <tr>\n",
       "      <th>3</th>\n",
       "      <td>100000</td>\n",
       "      <td>0.152382</td>\n",
       "    </tr>\n",
       "  </tbody>\n",
       "</table>\n",
       "</div>"
      ],
      "text/plain": [
       "    Cells      Time\n",
       "0     100  0.068087\n",
       "1    1000  0.066169\n",
       "2   10000  0.075130\n",
       "3  100000  0.152382"
      ]
     },
     "execution_count": 121,
     "metadata": {},
     "output_type": "execute_result"
    }
   ],
   "source": [
    "times = []\n",
    "\n",
    "dir_strings = []\n",
    "\n",
    "data_strings = []\n",
    "\n",
    "#!mkdir ./fits/dev_all_0330\n",
    "\n",
    "!mkdir ./fits/dev_all_0401\n",
    "\n",
    "result_strings = []\n",
    "\n",
    "for loom,transc,data_name,n_gs,c_filt in zip(looms,transcrips,datas,num_genes,cfs):\n",
    "    dir_string,dataset_string = monod.preprocess.construct_batch([loom], \\\n",
    "                                                 transc, \\\n",
    "                                                 [data_name], \\\n",
    "                                                 attribute_names=attribute_names,\\\n",
    "                                                 batch_location='./fits/dev_all_0401',\\\n",
    "                                                 meta=data_name,batch_id=1,\\\n",
    "                                                 n_genes=n_gs,viz=False,exp_filter_threshold=None,\n",
    "                                                 cf=[c_filt],genes_to_fit=gs_forfit)\n",
    "    dir_strings += [dir_string]\n",
    "    data_strings += [dataset_string]\n",
    "    \n",
    "    #Define bounds for params\n",
    "    phys_lb = [-2.0, -1.8, -1.8 ] \n",
    "    phys_ub = [4.2, 2.5, 2.5] \n",
    "    samp_lb = [-6.777777777777778, -0.6999999999999997] \n",
    "    samp_ub = [-6.777777777777778, -0.6999999999999997] \n",
    "    gridsize = [1,1] #Already have tech params\n",
    "\n",
    "\n",
    "    # ---------------- meK-Means Inference ---------------- \n",
    "    #Define model with bursty transcription and Poisson molecule capture/sampling\n",
    "    fitmodel = monod.cme_toolbox.CMEModel('Bursty','Poisson')\n",
    "\n",
    "    #Set up mminference parameters\n",
    "    inference_parameters = monod.mminference.InferenceParameters(phys_lb,phys_ub,samp_lb,samp_ub,gridsize,\\\n",
    "                dataset_string[0],fitmodel,k=K,epochs=epochs,use_lengths = True,\n",
    "                gradient_params = {'max_iterations':5,'init_pattern':'moments','num_restarts':1})\n",
    "\n",
    "    #Read in loom file with filtered barcodes\n",
    "    search_data = monod.extract_data.extract_data(loom, transc, data_name,\n",
    "                dataset_string[0], dir_string, viz=False, dataset_attr_names=attribute_names,cf=c_filt)\n",
    "\n",
    "    #Run inference(fit_all_grid_points()) and Save result file strings\n",
    "    start = timer()\n",
    "    full_result_string = inference_parameters.fit_all_grid_points(30,search_data) \n",
    "    end = timer()\n",
    "    print((end - start)/3600,' hr')\n",
    "    times += [(end - start)/3600]\n",
    "    \n",
    "    \n",
    "    result_strings.append(full_result_string)\n",
    "    \n",
    "\n",
    "fin_results = pd.DataFrame()\n",
    "fin_results['Cells'] = num_cells\n",
    "fin_results['Time'] = times\n",
    "fin_results"
   ]
  },
  {
   "cell_type": "code",
   "execution_count": 122,
   "id": "4a6d751f",
   "metadata": {},
   "outputs": [],
   "source": [
    "# fin_results.to_csv('dev_cell_timing_0401.csv',index=None)"
   ]
  },
  {
   "cell_type": "code",
   "execution_count": null,
   "id": "97dc47b4-580b-4fc1-9450-cc3a5bd6cab1",
   "metadata": {},
   "outputs": [],
   "source": []
  },
  {
   "cell_type": "code",
   "execution_count": 123,
   "id": "da6bc52f",
   "metadata": {},
   "outputs": [],
   "source": [
    "fin_results = pd.read_csv('dev_cell_timing_0401.csv') #Read in from downloaded file\n",
    "fin_results['Time'] = 60*fin_results['Time'] #convert to minutes"
   ]
  },
  {
   "cell_type": "code",
   "execution_count": 126,
   "id": "77e9f4fc",
   "metadata": {},
   "outputs": [
    {
     "data": {
      "image/png": "[encoded data removed]",
      "text/plain": [
       "<Figure size 288x144 with 1 Axes>"
      ]
     },
     "metadata": {
      "needs_background": "light"
     },
     "output_type": "display_data"
    }
   ],
   "source": [
    "plt.figure(figsize=(4,2)) # Width and Height of the chart\n",
    "sns.lineplot(x='Cells',\n",
    "             y='Time',\n",
    "             data=fin_results,\n",
    "             marker=None,color='cornflowerblue')\n",
    "sns.scatterplot(x='Cells',\n",
    "             y='Time',\n",
    "             data=fin_results,\n",
    "               s=50,edgecolor='black',linewidth=0.5,\n",
    "               color='cornflowerblue')\n",
    "plt.ylim([0,15])\n",
    "plt.xscale('log')\n",
    "\n",
    "plt.savefig('dev_cells_timing.pdf')"
   ]
  },
  {
   "cell_type": "code",
   "execution_count": null,
   "id": "2c84ce80",
   "metadata": {},
   "outputs": [],
   "source": [
    "#Runtime does not change order of magnitude, even across three orders of magnitude change in number of cells"
   ]
  },
  {
   "cell_type": "code",
   "execution_count": 129,
   "id": "e4bd7000",
   "metadata": {},
   "outputs": [
    {
     "data": {
      "text/plain": [
       "(500, 1000)"
      ]
     },
     "execution_count": 129,
     "metadata": {},
     "output_type": "execute_result"
    }
   ],
   "source": [
    "#Check to make sure diff no. of cells were fit\n",
    "# test = '/home/tchari/perturbCME/notebooks/fits/dev_all_0401/gg_240330_025_dev_gfilt_1000_cells_1/dev_gfilt_1000_cells'\n",
    "# sd  = monod.analysis.load_search_data(test+'/raw.sd')\n",
    "# sd.layers[1].shape"
   ]
  },
  {
   "cell_type": "markdown",
   "id": "16803d00",
   "metadata": {},
   "source": [
    "## **Set up files for gene number meK-Means Runs**"
   ]
  },
  {
   "cell_type": "code",
   "execution_count": 130,
   "id": "bd7db6a2",
   "metadata": {},
   "outputs": [],
   "source": [
    "#Define loom and transcriptome for each run\n",
    "\n",
    "num_genes = [100,500,1000,2000]\n",
    "num_cells = [10000]*4\n",
    "\n",
    "chosen_bars = random.sample(list(bars), num_cells[0]) #do the same cells for consistency\n",
    "cfs = [pd.Categorical(bars).isin(chosen_bars)]*4\n",
    "    \n",
    "\n",
    "\n",
    "looms = [new_l]*4\n",
    "\n",
    "transcrips = ['./gg_200524_mouse_genome_polyA_cum_1']*4\n",
    "\n",
    "datas = ['dev_gfilt_'+str(i)+'_genes' for i in num_genes]\n",
    "attribute_names =[('unspliced','spliced'),'gene_name','barcode']\n",
    "\n",
    "\n",
    "\n",
    "\n",
    "\n"
   ]
  },
  {
   "cell_type": "markdown",
   "id": "90343b38",
   "metadata": {},
   "source": [
    "## **Run cell number meK-Means Runs**"
   ]
  },
  {
   "cell_type": "code",
   "execution_count": 131,
   "id": "3abec2b3",
   "metadata": {},
   "outputs": [],
   "source": [
    "epochs = 1\n",
    "K=10"
   ]
  },
  {
   "cell_type": "markdown",
   "id": "e8dbdcd4",
   "metadata": {},
   "source": [
    "**Get timing for full dataset runs**"
   ]
  },
  {
   "cell_type": "code",
   "execution_count": 132,
   "id": "93081e34",
   "metadata": {},
   "outputs": [
    {
     "name": "stderr",
     "output_type": "stream",
     "text": [
      "/home/tchari/monod/src/monod/mminference.py:513: RuntimeWarning: divide by zero encountered in true_divide\n",
      "  divids = (1e4/tots)[:,None]\n",
      "/home/tchari/monod/src/monod/mminference.py:514: RuntimeWarning: invalid value encountered in multiply\n",
      "  S_t = S_t*divids\n",
      "100%|████████████████████████████████████████████████████████████████████████████████████████████████████| 10/10 [00:03<00:00,  3.10it/s]\n",
      "100%|████████████████████████████████████████████████████████████████████████████████████████████████████| 10/10 [00:02<00:00,  3.41it/s]\n"
     ]
    },
    {
     "name": "stdout",
     "output_type": "stream",
     "text": [
      "mstep self.weights:  [0.07648008 0.09177742 0.11370348 0.07066117 0.12607216 0.15566702\n",
      " 0.13637707 0.05882533 0.09842515 0.07201113]\n",
      "Q Function:  -700746.7547710893\n",
      "\n",
      "0.008531439803644188  hr\n"
     ]
    },
    {
     "name": "stderr",
     "output_type": "stream",
     "text": [
      "/home/tchari/monod/src/monod/mminference.py:513: RuntimeWarning: divide by zero encountered in true_divide\n",
      "  divids = (1e4/tots)[:,None]\n",
      "/home/tchari/monod/src/monod/mminference.py:514: RuntimeWarning: invalid value encountered in multiply\n",
      "  S_t = S_t*divids\n",
      "100%|████████████████████████████████████████████████████████████████████████████████████████████████████| 10/10 [00:26<00:00,  2.66s/it]\n",
      "100%|████████████████████████████████████████████████████████████████████████████████████████████████████| 10/10 [00:27<00:00,  2.78s/it]\n"
     ]
    },
    {
     "name": "stdout",
     "output_type": "stream",
     "text": [
      "mstep self.weights:  [0.16427314 0.06117756 0.09049696 0.04317409 0.16507511 0.2273025\n",
      " 0.04928182 0.03352935 0.09120216 0.07448731]\n",
      "Q Function:  -3527251.19094188\n",
      "\n",
      "0.024085199505401153  hr\n"
     ]
    },
    {
     "name": "stderr",
     "output_type": "stream",
     "text": [
      "/home/tchari/monod/src/monod/mminference.py:513: RuntimeWarning: divide by zero encountered in true_divide\n",
      "  divids = (1e4/tots)[:,None]\n",
      "/home/tchari/monod/src/monod/mminference.py:514: RuntimeWarning: invalid value encountered in multiply\n",
      "  S_t = S_t*divids\n",
      "100%|████████████████████████████████████████████████████████████████████████████████████████████████████| 10/10 [01:31<00:00,  9.11s/it]\n",
      "100%|████████████████████████████████████████████████████████████████████████████████████████████████████| 10/10 [01:30<00:00,  9.01s/it]\n"
     ]
    },
    {
     "name": "stdout",
     "output_type": "stream",
     "text": [
      "mstep self.weights:  [0.171101   0.05683375 0.06492224 0.08402313 0.05243117 0.16507304\n",
      " 0.01101301 0.08217591 0.18184389 0.13058285]\n",
      "Q Function:  -7287527.061893042\n",
      "\n",
      "0.06222039240826335  hr\n"
     ]
    },
    {
     "name": "stderr",
     "output_type": "stream",
     "text": [
      "100%|████████████████████████████████████████████████████████████████████████████████████████████████████| 10/10 [05:22<00:00, 32.25s/it]\n",
      "100%|████████████████████████████████████████████████████████████████████████████████████████████████████| 10/10 [05:17<00:00, 31.72s/it]\n"
     ]
    },
    {
     "name": "stdout",
     "output_type": "stream",
     "text": [
      "mstep self.weights:  [0.08499319 0.16731881 0.1014316  0.09577507 0.05731988 0.05849658\n",
      " 0.03590231 0.05315783 0.1811647  0.16444004]\n",
      "Q Function:  -14487734.339399692\n",
      "\n",
      "0.19535785528520744  hr\n"
     ]
    },
    {
     "data": {
      "text/html": [
       "<div>\n",
       "<style scoped>\n",
       "    .dataframe tbody tr th:only-of-type {\n",
       "        vertical-align: middle;\n",
       "    }\n",
       "\n",
       "    .dataframe tbody tr th {\n",
       "        vertical-align: top;\n",
       "    }\n",
       "\n",
       "    .dataframe thead th {\n",
       "        text-align: right;\n",
       "    }\n",
       "</style>\n",
       "<table border=\"1\" class=\"dataframe\">\n",
       "  <thead>\n",
       "    <tr style=\"text-align: right;\">\n",
       "      <th></th>\n",
       "      <th>Genes</th>\n",
       "      <th>Time</th>\n",
       "    </tr>\n",
       "  </thead>\n",
       "  <tbody>\n",
       "    <tr>\n",
       "      <th>0</th>\n",
       "      <td>100</td>\n",
       "      <td>0.008531</td>\n",
       "    </tr>\n",
       "    <tr>\n",
       "      <th>1</th>\n",
       "      <td>500</td>\n",
       "      <td>0.024085</td>\n",
       "    </tr>\n",
       "    <tr>\n",
       "      <th>2</th>\n",
       "      <td>1000</td>\n",
       "      <td>0.062220</td>\n",
       "    </tr>\n",
       "    <tr>\n",
       "      <th>3</th>\n",
       "      <td>2000</td>\n",
       "      <td>0.195358</td>\n",
       "    </tr>\n",
       "  </tbody>\n",
       "</table>\n",
       "</div>"
      ],
      "text/plain": [
       "   Genes      Time\n",
       "0    100  0.008531\n",
       "1    500  0.024085\n",
       "2   1000  0.062220\n",
       "3   2000  0.195358"
      ]
     },
     "execution_count": 132,
     "metadata": {},
     "output_type": "execute_result"
    }
   ],
   "source": [
    "times = []\n",
    "\n",
    "dir_strings = []\n",
    "\n",
    "data_strings = []\n",
    "\n",
    "\n",
    "result_strings = []\n",
    "\n",
    "for loom,transc,data_name,n_gs,c_filt in zip(looms,transcrips,datas,num_genes,cfs):\n",
    "    dir_string,dataset_string = monod.preprocess.construct_batch([loom], \\\n",
    "                                                 transc, \\\n",
    "                                                 [data_name], \\\n",
    "                                                 attribute_names=attribute_names,\\\n",
    "                                                 batch_location='./fits/dev_all_0401',\\\n",
    "                                                 meta=data_name,batch_id=1,\\\n",
    "                                                 n_genes=n_gs,viz=False,cf=[c_filt])\n",
    "    dir_strings += [dir_string]\n",
    "    data_strings += [dataset_string]\n",
    "    \n",
    "    #Define bounds for params\n",
    "    phys_lb = [-2.0, -1.8, -1.8 ] \n",
    "    phys_ub = [4.2, 2.5, 2.5] \n",
    "    samp_lb = [-6.777777777777778, -0.6999999999999997] \n",
    "    samp_ub = [-6.777777777777778, -0.6999999999999997] \n",
    "    gridsize = [1,1] #Already have tech params\n",
    "\n",
    "\n",
    "    # ---------------- meK-Means Inference ---------------- \n",
    "    #Define model with bursty transcription and Poisson molecule capture/sampling\n",
    "    fitmodel = monod.cme_toolbox.CMEModel('Bursty','Poisson')\n",
    "\n",
    "    #Set up mminference parameters\n",
    "    inference_parameters = monod.mminference.InferenceParameters(phys_lb,phys_ub,samp_lb,samp_ub,gridsize,\\\n",
    "                dataset_string[0],fitmodel,k=K,epochs=epochs,use_lengths = True,\n",
    "                gradient_params = {'max_iterations':5,'init_pattern':'moments','num_restarts':1})\n",
    "\n",
    "    #Read in loom file with filtered barcodes\n",
    "    search_data = monod.extract_data.extract_data(loom, transc, data_name,\n",
    "                dataset_string[0], dir_string, viz=False, dataset_attr_names=attribute_names,cf=c_filt)\n",
    "\n",
    "    #Run inference(fit_all_grid_points()) and Save result file strings\n",
    "    start = timer()\n",
    "    full_result_string = inference_parameters.fit_all_grid_points(30,search_data) \n",
    "    end = timer()\n",
    "    print((end - start)/3600,' hr')\n",
    "    times += [(end - start)/3600]\n",
    "    \n",
    "    \n",
    "    result_strings.append(full_result_string)\n",
    "    \n",
    "\n",
    "fin_results = pd.DataFrame()\n",
    "fin_results['Genes'] = num_genes\n",
    "fin_results['Time'] = times\n",
    "fin_results"
   ]
  },
  {
   "cell_type": "code",
   "execution_count": 133,
   "id": "1c2d81dc",
   "metadata": {},
   "outputs": [],
   "source": [
    "# fin_results.to_csv('dev_genes_timing_0401.csv',index=None)"
   ]
  },
  {
   "cell_type": "code",
   "execution_count": 134,
   "id": "c837f866",
   "metadata": {},
   "outputs": [],
   "source": [
    "fin_results = pd.read_csv('dev_genes_timing_0401.csv') #Read in from downloaded file\n",
    "fin_results['Time'] = 60*fin_results['Time'] #convert to minutes"
   ]
  },
  {
   "cell_type": "code",
   "execution_count": 137,
   "id": "65e3280f",
   "metadata": {},
   "outputs": [
    {
     "data": {
      "image/png": "[encoded data removed]",
      "text/plain": [
       "<Figure size 288x144 with 1 Axes>"
      ]
     },
     "metadata": {
      "needs_background": "light"
     },
     "output_type": "display_data"
    }
   ],
   "source": [
    "plt.figure(figsize=(4,2)) # Width and Height of the chart\n",
    "sns.lineplot(x='Genes',\n",
    "             y='Time',\n",
    "             data=fin_results,\n",
    "             marker=None,color='cornflowerblue')\n",
    "sns.scatterplot(x='Genes',\n",
    "             y='Time',\n",
    "             data=fin_results,\n",
    "               s=50,edgecolor='black',linewidth=0.5,\n",
    "               color='cornflowerblue')\n",
    "plt.ylim([0,15])\n",
    "plt.savefig('dev_genes_timing.pdf')"
   ]
  },
  {
   "cell_type": "code",
   "execution_count": null,
   "id": "ef9a0a13",
   "metadata": {},
   "outputs": [],
   "source": []
  }
 ],
 "metadata": {
  "kernelspec": {
   "display_name": "Python 3 (ipykernel)",
   "language": "python",
   "name": "python3"
  },
  "language_info": {
   "codemirror_mode": {
    "name": "ipython",
    "version": 3
   },
   "file_extension": ".py",
   "mimetype": "text/x-python",
   "name": "python",
   "nbconvert_exporter": "python",
   "pygments_lexer": "ipython3",
   "version": "3.9.19"
  }
 },
 "nbformat": 4,
 "nbformat_minor": 5
}
